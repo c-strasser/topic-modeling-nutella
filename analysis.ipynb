{
 "cells": [
  {
   "cell_type": "markdown",
   "metadata": {},
   "source": [
    "# Modeling frequent topics occuring in social posts concerning Nutella"
   ]
  },
  {
   "cell_type": "markdown",
   "metadata": {},
   "source": [
    "### Camille Strasser"
   ]
  },
  {
   "cell_type": "markdown",
   "metadata": {},
   "source": [
    "The goal of this analysis is to determine the most frequent topics appearing in French-written posts on social media concerning the brand 'Nutella'. Thanks to this analysis, we are able to know with which concepts French-speaking consumers associate Nutella with.\n",
    "\n",
    "The mathematical approach to topic modeling is described in the first section of the analysis. For the interpretations, you can jump to the second section."
   ]
  },
  {
   "cell_type": "markdown",
   "metadata": {},
   "source": [
    "# 1 - Technical approach to topic modeling"
   ]
  },
  {
   "cell_type": "markdown",
   "metadata": {
    "collapsed": true
   },
   "source": [
    "We want to discover which topics and keywords are the most frequent in a raw text corpus. The most widely used algorithm for topic modeling, Latent Dirichlet Association (LDA), has been chosen for this quick analysis. We will go step by step through the description of the algorithm:\n",
    "    \n",
    "    - Cleaning the text corpus\n",
    "    - Representing the text corpus numerically\n",
    "    - Performing LDA on the numerical representation"
   ]
  },
  {
   "cell_type": "markdown",
   "metadata": {},
   "source": [
    "## 1.1 - Cleaning the raw text corpus"
   ]
  },
  {
   "cell_type": "markdown",
   "metadata": {},
   "source": [
    "For this first step of the algorithm, I created a class performing the cleaning of a raw text corpus:"
   ]
  },
  {
   "cell_type": "code",
   "execution_count": 1,
   "metadata": {
    "collapsed": true
   },
   "outputs": [],
   "source": [
    "from utils.data_cleaner import DataCleaner"
   ]
  },
  {
   "cell_type": "markdown",
   "metadata": {},
   "source": [
    "Let's take a look at the first line of the raw text corpus"
   ]
  },
  {
   "cell_type": "code",
   "execution_count": 2,
   "metadata": {},
   "outputs": [
    {
     "data": {
      "text/plain": [
       "'0|On est samedi soir il est 22h je suis en pyjama dans mon lit devant la télé en train de manger des brioches/Nutella et je me les cailles...|à jakarta le g de nutella il est au même prix que le g de md|Boulettes de fromage, boulettes de viande fourrées au fromage et muffin Nutella... L\\'obésité morbide me guette 🍟|Um pote de Nutella...||@Blandine_Laff @MmmYummyFood juste du Nutella c\\'est parfait 🙌🏼|🍫🍫 L\\'arnaque du siècle ca....😡😡 #nutella #gouter #chocolat #chaud #nesquick #tv #montpellier #sud #oklm #bready #pourri #degueulasse #faux #kinder #bueno|\"La Gentilhommière vous invite à découvrir la nouvelle formule Déjeuner de Février\\n'"
      ]
     },
     "execution_count": 2,
     "metadata": {},
     "output_type": "execute_result"
    }
   ],
   "source": [
    "raw_corpus_path = '../nutella.csv'\n",
    "raw_corpus =  DataCleaner.get_raw_corpus_from_path(raw_corpus_path)\n",
    "\n",
    "# First line of the corpus\n",
    "example_raw_corpus = raw_corpus[0]\n",
    "example_raw_corpus"
   ]
  },
  {
   "cell_type": "markdown",
   "metadata": {},
   "source": [
    "We can observe from this example two main issues in the raw corpus:\n",
    "\n",
    "    - There is internet related content that we won't be able to process using LDA such as emojis\n",
    "    - French is a highly inflected language, i.e. words with the same meaning can appear with different   \n",
    "      forms (singular/plural, conjugation)"
   ]
  },
  {
   "cell_type": "markdown",
   "metadata": {},
   "source": [
    "### 1.1.1 - Dealing with internet related content"
   ]
  },
  {
   "cell_type": "markdown",
   "metadata": {},
   "source": [
    "Some internet related items don't convey any meaning about the content, such as:\n",
    "\n",
    "    - html tags (e.g. <em> some text </em>)\n",
    "    - url\n",
    "    - tags refering to other users (e.g. @username)\n",
    "    \n",
    "Thus they have to be removed from the corpus\n",
    "    "
   ]
  },
  {
   "cell_type": "markdown",
   "metadata": {},
   "source": [
    "Some other items, such as emojis and hashtags, convey a meaning related to the topic of a post. So we want to keep them, but they have to be transformed.\n",
    "\n",
    "I chose to:\n",
    "    \n",
    "    - Remove the # in hashtags but keep the content for (#chocolat -> chocolat)\n",
    "    - Replace emojis by their name (🍫 -> chocolate bar)\n",
    "    \n",
    "You can note that emojis name are in English, it won't create much trouble in the later part of the algorithm because the algorithm only count occurences of the same word, independantly of the language."
   ]
  },
  {
   "cell_type": "markdown",
   "metadata": {},
   "source": [
    "As an example, we can see the results on the first line of the corpus:"
   ]
  },
  {
   "cell_type": "code",
   "execution_count": 12,
   "metadata": {
    "collapsed": true
   },
   "outputs": [],
   "source": [
    "# Function to print a list on the same line\n",
    "def print_on_line(list_words):\n",
    "    line = ''\n",
    "    for word in list_words:\n",
    "        line = line + ' ' + word\n",
    "    return line"
   ]
  },
  {
   "cell_type": "code",
   "execution_count": 13,
   "metadata": {
    "collapsed": true
   },
   "outputs": [],
   "source": [
    "# Path for tree tagger software, which has to be installed\n",
    "tree_tagger_directory = '../tree_tagger/'\n",
    "# Object to clean french data\n",
    "cleaner = DataCleaner('french', tree_tagger_directory)"
   ]
  },
  {
   "cell_type": "code",
   "execution_count": 14,
   "metadata": {},
   "outputs": [
    {
     "data": {
      "text/plain": [
       "' 0 On est samedi soir il est 22h je suis en pyjama dans mon lit devant la télé en train de manger des brioches/Nutella et je me les cailles... à jakarta le g de nutella il est au même prix que le g de md Boulettes de fromage, boulettes de viande fourrées au fromage et muffin Nutella... L\\'obésité morbide me guette  french fries  Um pote de Nutella...      juste du Nutella c\\'est parfait  person raising both hands in celebration  emoji modifier fitzpatrick type-3   chocolate bar  chocolate bar  L\\'arnaque du siècle ca.... pouting face  pouting face   nutella  gouter  chocolat  chaud  nesquick  tv  montpellier  sud  oklm  bready  pourri  degueulasse  faux  kinder  bueno \"La Gentilhommière vous invite à découvrir la nouvelle formule Déjeuner de Février'"
      ]
     },
     "execution_count": 14,
     "metadata": {},
     "output_type": "execute_result"
    }
   ],
   "source": [
    "example_after_internet_cleaning = cleaner.get_raw_textual_data_in_document(example_raw_corpus)\n",
    "print_on_line(example_after_internet_cleaning)"
   ]
  },
  {
   "cell_type": "markdown",
   "metadata": {},
   "source": [
    "### 1.1.2 - Dealing with the language itself"
   ]
  },
  {
   "cell_type": "markdown",
   "metadata": {},
   "source": [
    "Some type of words don't convey any topic related meaning, such as:\n",
    "\n",
    "    - punctuations\n",
    "    - pronouns\n",
    "    - adverbs\n",
    "    - prepositions ...\n",
    "    \n",
    "They thus need to be removed from the corpus\n",
    "   "
   ]
  },
  {
   "cell_type": "markdown",
   "metadata": {},
   "source": [
    "Remaining words, such as verbs and nouns, need to be standardized. This process of standardization is called 'lemmatization'. It consists in finding the form of the word that you would find in a dictionary. For instance, for French verbs, the lemma of a verb is the infinitive form (e.g. veux -> vouloir)"
   ]
  },
  {
   "cell_type": "markdown",
   "metadata": {},
   "source": [
    "We can see the results of this cleaning on the first line of the corpus:"
   ]
  },
  {
   "cell_type": "code",
   "execution_count": 15,
   "metadata": {},
   "outputs": [
    {
     "data": {
      "text/plain": [
       "' on samedi soir 22h pyjama lit télé train manger brioche nutella caille jakarta g nutella même prix g md boulette fromage boulette viande fourrer fromage muffin nutella obésité morbide guetter french fries um poter nutella juste nutella parfait person raising both hands in celebration emoji modifier fitzpatrick type-3 chocolate bar chocolate bar arnaque siècle ca pouting face pouting face nutella gouter chocolat chaud nesquick tv montpellier sud oklm bready pourrir degueulasse faux kinder bueno gentilhommière inviter découvrir nouveau formule déjeuner février'"
      ]
     },
     "execution_count": 15,
     "metadata": {},
     "output_type": "execute_result"
    }
   ],
   "source": [
    "example_after_language_cleaning = cleaner.get_important_lemmas_in_textual_data(example_after_internet_cleaning)\n",
    "print_on_line(example_after_language_cleaning)"
   ]
  },
  {
   "cell_type": "markdown",
   "metadata": {},
   "source": [
    "### 1.1.3 - Cleaning the whole corpus"
   ]
  },
  {
   "cell_type": "markdown",
   "metadata": {},
   "source": [
    "We first split the corpus in so called 'documents' (marked by a number of document | tag). Then we can perform both steps described above to obtain a clean text corpus, split into documents."
   ]
  },
  {
   "cell_type": "code",
   "execution_count": 11,
   "metadata": {
    "collapsed": true
   },
   "outputs": [],
   "source": [
    "data_path = '../nutella.csv'\n",
    "clean_text_corpus = cleaner.get_clean_documents_from_corpus_path(data_path)"
   ]
  },
  {
   "cell_type": "markdown",
   "metadata": {},
   "source": [
    "Since this process can be long, you can save and/or load the clean corpus from/to file"
   ]
  },
  {
   "cell_type": "code",
   "execution_count": 1,
   "metadata": {
    "collapsed": true
   },
   "outputs": [],
   "source": [
    "import pickle"
   ]
  },
  {
   "cell_type": "code",
   "execution_count": 17,
   "metadata": {
    "collapsed": true
   },
   "outputs": [],
   "source": [
    "# Save\n",
    "with open('../clean_text_corpus.pkl', 'wb') as save_file:\n",
    "    save_file = pickle.dump(clean_text_corpus, save_file)"
   ]
  },
  {
   "cell_type": "code",
   "execution_count": 18,
   "metadata": {
    "collapsed": true
   },
   "outputs": [],
   "source": [
    "# Load\n",
    "with open('../clean_text_corpus.pkl', 'rb') as load_file:\n",
    "    clean_text_corpus = pickle.load(load_file)"
   ]
  },
  {
   "cell_type": "markdown",
   "metadata": {},
   "source": [
    "### 1.1.4 - A note on implementation"
   ]
  },
  {
   "cell_type": "markdown",
   "metadata": {},
   "source": [
    "The above mentioned steps of language normalization are not perfect since it is based on statistical models. The better the model, the better the normalization. Here, the models are based on not so new algorithms, developed by the Tree Tagger Team in the late 90s. \n",
    "More recent packages such as nltk couldn't be used because they only perform lemmatization on the English language.\n",
    "One way to improve this language normalization step could be to create my own accurate models for the French language."
   ]
  },
  {
   "cell_type": "markdown",
   "metadata": {},
   "source": [
    "## 1.2 - Representing the clean text corpus numerically"
   ]
  },
  {
   "cell_type": "markdown",
   "metadata": {
    "collapsed": true
   },
   "source": [
    "The text corpus need to be represented numerically before being able to process it with the LDA algorithm. To do so, we use a vector space model called the 'Bag of Words' (bow) model.\n"
   ]
  },
  {
   "cell_type": "markdown",
   "metadata": {},
   "source": [
    "I created a class to transorm the text corpus into a numerical corpus:"
   ]
  },
  {
   "cell_type": "code",
   "execution_count": 19,
   "metadata": {
    "collapsed": true
   },
   "outputs": [],
   "source": [
    "from utils.numerical_corpus import NumericalCorpus"
   ]
  },
  {
   "cell_type": "markdown",
   "metadata": {},
   "source": [
    "### 1.2.1 - Indexing words of the corpus"
   ]
  },
  {
   "cell_type": "markdown",
   "metadata": {},
   "source": [
    "First, we index every word which appears in the corpus. It means that an id is given to each word.\n",
    "For instance, for the first three tweets of the corpus, the word 'nutella' has the id 5."
   ]
  },
  {
   "cell_type": "code",
   "execution_count": 20,
   "metadata": {},
   "outputs": [
    {
     "data": {
      "text/plain": [
       "' on samedi soir 22h pyjama lit télé train manger brioche nutella caille jakarta g nutella même prix g md boulette fromage boulette viande fourrer fromage muffin nutella obésité morbide guetter french fries'"
      ]
     },
     "execution_count": 20,
     "metadata": {},
     "output_type": "execute_result"
    }
   ],
   "source": [
    "# First three lines as clean text\n",
    "first_tree_tweets = example_after_language_cleaning[:32]\n",
    "print_on_line(first_tree_tweets)"
   ]
  },
  {
   "cell_type": "code",
   "execution_count": 21,
   "metadata": {},
   "outputs": [
    {
     "data": {
      "text/plain": [
       "{'22h': 9,\n",
       " 'boulette': 14,\n",
       " 'brioche': 17,\n",
       " 'caille': 22,\n",
       " 'fourrer': 4,\n",
       " 'french': 10,\n",
       " 'fries': 0,\n",
       " 'fromage': 23,\n",
       " 'g': 26,\n",
       " 'guetter': 16,\n",
       " 'jakarta': 18,\n",
       " 'lit': 19,\n",
       " 'manger': 15,\n",
       " 'md': 3,\n",
       " 'morbide': 25,\n",
       " 'muffin': 11,\n",
       " 'même': 12,\n",
       " 'nutella': 5,\n",
       " 'obésité': 24,\n",
       " 'on': 8,\n",
       " 'prix': 6,\n",
       " 'pyjama': 21,\n",
       " 'samedi': 13,\n",
       " 'soir': 1,\n",
       " 'train': 20,\n",
       " 'télé': 2,\n",
       " 'viande': 7}"
      ]
     },
     "execution_count": 21,
     "metadata": {},
     "output_type": "execute_result"
    }
   ],
   "source": [
    "# Mapping\n",
    "mapping = NumericalCorpus.create_mapping_words_to_id_from_text_corpus([first_tree_tweets])\n",
    "mapping.token2id"
   ]
  },
  {
   "cell_type": "markdown",
   "metadata": {},
   "source": [
    "### 1.2.2 - Representing documents by vectors"
   ]
  },
  {
   "cell_type": "markdown",
   "metadata": {},
   "source": [
    "A document is represented by a vector containing at position k+1 the number of times the word indexed by k appears. For instance, in the first three tweets, the word nutella (indexed by 5) appears three times. Thus the 6th vector coordinate is 3.\n",
    "Such a vector is called a document vector."
   ]
  },
  {
   "cell_type": "code",
   "execution_count": 22,
   "metadata": {},
   "outputs": [
    {
     "data": {
      "text/plain": [
       "[[(0, 1),\n",
       "  (1, 1),\n",
       "  (2, 1),\n",
       "  (3, 1),\n",
       "  (4, 1),\n",
       "  (5, 3),\n",
       "  (6, 1),\n",
       "  (7, 1),\n",
       "  (8, 1),\n",
       "  (9, 1),\n",
       "  (10, 1),\n",
       "  (11, 1),\n",
       "  (12, 1),\n",
       "  (13, 1),\n",
       "  (14, 2),\n",
       "  (15, 1),\n",
       "  (16, 1),\n",
       "  (17, 1),\n",
       "  (18, 1),\n",
       "  (19, 1),\n",
       "  (20, 1),\n",
       "  (21, 1),\n",
       "  (22, 1),\n",
       "  (23, 2),\n",
       "  (24, 1),\n",
       "  (25, 1),\n",
       "  (26, 2)]]"
      ]
     },
     "execution_count": 22,
     "metadata": {},
     "output_type": "execute_result"
    }
   ],
   "source": [
    "_, document_vector = NumericalCorpus.build_from_text_corpus([first_tree_tweets])\n",
    "document_vector"
   ]
  },
  {
   "cell_type": "markdown",
   "metadata": {},
   "source": [
    "We represent each document by a vector and arrange them in a matrix, called a document-term matrix. "
   ]
  },
  {
   "cell_type": "markdown",
   "metadata": {},
   "source": [
    "### 1.2.3 - Representing the whole corpus"
   ]
  },
  {
   "cell_type": "markdown",
   "metadata": {},
   "source": [
    "We represent the whole clean text corpus numerically. You can also save/load from file "
   ]
  },
  {
   "cell_type": "code",
   "execution_count": 23,
   "metadata": {
    "collapsed": true
   },
   "outputs": [],
   "source": [
    "dictionary_word2id, document_term_matrix = NumericalCorpus.build_from_text_corpus(clean_text_corpus)"
   ]
  },
  {
   "cell_type": "code",
   "execution_count": 24,
   "metadata": {
    "collapsed": true
   },
   "outputs": [],
   "source": [
    "# Save\n",
    "with open('../numerical_corpus.pkl', 'wb') as save_file:\n",
    "    pickle.dump(dictionary_word2id, save_file)\n",
    "    pickle.dump(document_term_matrix, save_file)"
   ]
  },
  {
   "cell_type": "code",
   "execution_count": 2,
   "metadata": {
    "collapsed": true
   },
   "outputs": [],
   "source": [
    "# Load\n",
    "with open('../numerical_corpus.pkl', 'rb') as load_file:\n",
    "    dictionary_word2id = pickle.load(load_file)\n",
    "    document_term_matrix = pickle.load(load_file)"
   ]
  },
  {
   "cell_type": "markdown",
   "metadata": {},
   "source": [
    "### 1.2.4 - Other possible representations"
   ]
  },
  {
   "cell_type": "markdown",
   "metadata": {},
   "source": [
    "There is other possible numerical representations, as for instance tf-idf. Bag of words has been chosen because of simplicity, but in a further phase of the project, other numerical representations could be chosen."
   ]
  },
  {
   "cell_type": "markdown",
   "metadata": {},
   "source": [
    "## 1.3 - Applying the LDA algorithm on the numerical corpus"
   ]
  },
  {
   "cell_type": "markdown",
   "metadata": {},
   "source": [
    "### 1.3.1 - Explanation of the algorithm"
   ]
  },
  {
   "cell_type": "markdown",
   "metadata": {},
   "source": [
    "Let A be the document-term matrix from the previous step. Let denote by N the number of documents in the corpus and M the number of words/lemmas in the corpus.\n",
    "Matrix A has as many rows as documents in the corpus (N) and as many columns as words in the corpus(M).\n",
    "\n",
    "The goal for the LDA algorithm is to uncover from matrix A:\n",
    "    \n",
    "    - The distribution of topics among documents\n",
    "    - The distribution of terms among topics\n",
    "    \n",
    "B denotes the document-topic matrix. Let denote by K the number of topics in the corpus. Each row i of matrix B represents the distribution of topics in the document i (for instance 10% of topic 1, 40% of topic 3, 50% of topic 5). B has thus N rows and K columns\n",
    "\n",
    "Let denote by C the topic-term matrix. Each row i of matrix C represents the distribution of terms (=keywords) for topic i. C has thus K rows and M columns.\n"
   ]
  },
  {
   "cell_type": "markdown",
   "metadata": {
    "collapsed": true
   },
   "source": [
    "The algorithm iterates through each word “w” for each document “d” and tries to adjust the current topic – word assignment (matrix C) with a new assignment. A new topic “t” is assigned to word “w” with a probability P which is a product of two probabilities P1 and P2:\n",
    "\n",
    "    P1 = P(topic t / document d) = the proportion of words in document d that are currently assigned to \n",
    "    topic t = element at row d and column t in matrix B\n",
    "    \n",
    "    P2 = p(word w / topic t) = the proportion of assignments to topic t over all documents that come from this word w = element at row t and column w in matrix C.\n",
    "\n",
    "The current topic – word assignment is updated with a new topic with the probability P, product of P1 and P2 . \n",
    "\n",
    "Matrix B and C are updated if a new topic is assigned to the current word.\n",
    "\n",
    "After a number of iterations, a steady state is achieved where the document topic and topic term distributions are fairly good. This is the convergence point of LDA."
   ]
  },
  {
   "cell_type": "markdown",
   "metadata": {},
   "source": [
    "In a testing phase, the matrix B (document-topic matrix) is used to describe the topics of a specific documents. The matrix C (topic-keyword matrix) is used to describe the most common topics and keywords of the whole corpus. We are mostly interesting in the latter part"
   ]
  },
  {
   "cell_type": "markdown",
   "metadata": {},
   "source": [
    "## 1.3.2 - A note on algorithm parameters"
   ]
  },
  {
   "cell_type": "markdown",
   "metadata": {},
   "source": [
    "There are 3 important parameters in this algorithm:\n",
    "    \n",
    "    - the number K of topics\n",
    "    - the number of passes n\n",
    "    - the number of keywords by topics"
   ]
  },
  {
   "cell_type": "markdown",
   "metadata": {},
   "source": [
    "To pick the best parameters, we should introduce a validation set. For instance, we could/should split the given dataset into a 80% training set and 20% validation set.\n",
    "Then we would train a model for each set of parameters using the training set and evaluate in on a the validation set. One possible evaluation metric is the perplexity, which has to be as low as possible. We would then select the model and the set of parameters that yield the lower perplexity.\n",
    "\n",
    "However, we are conducting a quick analysis to uncover recurrent topics, but we don't want yet to classify new documents. So we don't need our model to be the most accurate as possible.\n",
    "\n",
    "\n",
    "For now, we only need to set a high number K of topics to discover.\n",
    "\n",
    "In further study, if we had to classify topics in tweets not already seen, we should select the most accurate model using this procedure."
   ]
  },
  {
   "cell_type": "markdown",
   "metadata": {},
   "source": [
    "### 1.3.3 - Training a model and first results"
   ]
  },
  {
   "cell_type": "markdown",
   "metadata": {},
   "source": [
    "We train a model with the following parameters:\n",
    "    \n",
    "    - 100 passes of the algorithm\n",
    "    - 20 different topics to discover"
   ]
  },
  {
   "cell_type": "code",
   "execution_count": 3,
   "metadata": {
    "collapsed": true
   },
   "outputs": [],
   "source": [
    "from utils.topic_modeler import TopicModeler"
   ]
  },
  {
   "cell_type": "code",
   "execution_count": 4,
   "metadata": {},
   "outputs": [],
   "source": [
    "model = TopicModeler((dictionary_word2id, document_term_matrix), 10)\n",
    "model.train(100)"
   ]
  },
  {
   "cell_type": "code",
   "execution_count": 5,
   "metadata": {
    "collapsed": true
   },
   "outputs": [],
   "source": [
    "# Save\n",
    "with open('../trained_model.pkl', 'wb') as save_file:\n",
    "    pickle.dump(model, save_file)"
   ]
  },
  {
   "cell_type": "code",
   "execution_count": 3,
   "metadata": {
    "collapsed": true
   },
   "outputs": [],
   "source": [
    "# Load\n",
    "with open('../trained_model.pkl', 'rb') as load_file:\n",
    "    model = pickle.load(load_file)"
   ]
  },
  {
   "cell_type": "markdown",
   "metadata": {},
   "source": [
    "We then display the most commom topics and their most common keywords"
   ]
  },
  {
   "cell_type": "code",
   "execution_count": 6,
   "metadata": {
    "collapsed": true
   },
   "outputs": [],
   "source": [
    "import warnings\n",
    "warnings.filterwarnings('ignore')"
   ]
  },
  {
   "cell_type": "code",
   "execution_count": 7,
   "metadata": {},
   "outputs": [
    {
     "data": {
      "text/html": [
       "\n",
       "<link rel=\"stylesheet\" type=\"text/css\" href=\"https://cdn.rawgit.com/bmabey/pyLDAvis/files/ldavis.v1.0.0.css\">\n",
       "\n",
       "\n",
       "<div id=\"ldavis_el52691405823627922488984059668\"></div>\n",
       "<script type=\"text/javascript\">\n",
       "\n",
       "var ldavis_el52691405823627922488984059668_data = {\"plot.opts\": {\"xlab\": \"PC1\", \"ylab\": \"PC2\"}, \"R\": 30, \"topic.order\": [1, 2, 5, 4, 10, 8, 3, 9, 6, 7], \"lambda.step\": 0.01, \"token.table\": {\"Topic\": [1, 2, 4, 1, 2, 3, 4, 5, 6, 7, 8, 10, 7, 7, 10, 7, 7, 7, 10, 10, 10, 6, 6, 10, 7, 6, 1, 2, 3, 5, 6, 7, 8, 10, 1, 2, 3, 4, 5, 6, 7, 1, 2, 3, 4, 5, 6, 7, 2, 3, 4, 6, 7, 10, 8, 6, 2, 1, 2, 3, 6, 7, 10, 7, 8, 10, 2, 9, 1, 2, 3, 4, 5, 6, 7, 8, 9, 1, 2, 3, 4, 5, 6, 7, 8, 10, 6, 8, 7, 1, 5, 5, 8, 1, 5, 1, 3, 8, 1, 4, 5, 6, 8, 1, 2, 3, 4, 5, 6, 7, 8, 9, 10, 10, 1, 3, 7, 6, 6, 2, 1, 2, 3, 4, 5, 6, 7, 8, 1, 4, 7, 2, 4, 6, 1, 2, 3, 5, 6, 7, 8, 1, 2, 1, 1, 2, 3, 4, 6, 10, 1, 2, 1, 3, 5, 7, 9, 1, 2, 1, 2, 3, 4, 5, 6, 7, 8, 9, 10, 4, 3, 1, 2, 3, 4, 5, 6, 7, 8, 10, 8, 9, 1, 2, 3, 4, 5, 6, 8, 3, 4, 6, 8, 10, 5, 1, 2, 3, 4, 5, 6, 7, 8, 9, 1, 2, 3, 4, 5, 6, 7, 8, 8, 5, 6, 2, 1, 2, 3, 5, 6, 7, 9, 1, 2, 3, 4, 5, 6, 7, 8, 2, 3, 5, 1, 1, 7, 9, 1, 3, 4, 7, 1, 3, 6, 9, 5, 1, 2, 3, 4, 5, 6, 7, 8, 1, 2, 3, 4, 5, 6, 7, 3, 5, 6, 4, 2, 3, 4, 6, 1, 4, 2, 9, 1, 2, 5, 6, 9, 3, 4, 5, 7, 2, 10, 1, 8, 9, 1, 4, 1, 2, 4, 5, 6, 8, 1, 7, 5, 2, 10, 2, 8, 10, 6, 8, 9, 10, 1, 1, 2, 3, 4, 5, 6, 7, 8, 10, 1, 3, 4, 5, 6, 7, 5, 4, 8, 1, 2, 4, 5, 10, 2, 1, 2, 3, 4, 5, 6, 7, 1, 2, 3, 4, 5, 6, 8, 1, 2, 3, 4, 5, 6, 7, 8, 3, 1, 2, 3, 4, 5, 6, 1, 4, 5, 6, 8, 1, 2, 3, 4, 5, 4, 9, 1, 2, 3, 4, 5, 6, 7, 8, 9, 1, 2, 3, 4, 5, 6, 7, 8, 10, 1, 2, 3, 4, 5, 6, 8, 9, 2, 10, 1, 2, 3, 4, 5, 6, 7, 9, 1, 2, 3, 4, 5, 6, 7, 8, 9, 1, 2, 3, 4, 5, 6, 8, 1, 2, 5, 1, 2, 3, 4, 5, 6, 7, 8, 1, 2, 3, 4, 5, 6, 7, 8, 9, 6, 4, 2, 3, 5, 2, 6, 1, 2, 3, 4, 5, 6, 7, 10, 1, 2, 3, 1, 2, 5, 7, 1, 2, 3, 4, 5, 6, 7, 10, 4, 8, 8, 4, 1, 2, 3, 4, 6, 8, 8, 3, 10, 1, 3, 5, 7, 1, 2, 3, 5, 8, 1, 9, 4, 6, 1, 9, 5, 1, 2, 3, 4, 6, 7, 5, 1, 2, 3, 4, 5, 6, 7, 8, 1, 1, 2, 3, 4, 5, 8, 9, 1, 2, 3, 4, 5, 6, 7, 8, 9, 1, 2, 4, 6, 1, 2, 3, 4, 5, 6, 7, 8, 9, 1, 2, 3, 4, 1, 2, 3, 4, 5, 6, 7, 8, 9, 1, 2, 3, 4, 4, 1, 2, 1, 6, 1, 2, 3, 5, 9, 1, 5, 1, 2, 3, 5, 6, 4, 5, 6, 7, 1, 2, 3, 5, 7, 1, 2, 3, 5, 1, 2, 3, 5, 8, 1, 2, 5, 6, 6, 8, 9, 1, 2, 3, 4, 5, 6, 7, 8, 9, 1, 2, 5, 1, 2, 3, 4, 5, 6, 7, 8, 1, 5, 9, 3, 5, 8, 9, 4, 2, 3, 4, 1, 2, 3, 4, 5, 6, 1, 7, 1, 2, 3, 4, 5, 6, 7, 8, 9, 9, 2, 9, 1, 2, 3, 4, 5, 10, 6, 3, 2, 3, 6, 7, 9, 1, 2, 3, 4, 5, 6, 8, 5, 1, 2, 3, 4, 5, 6, 7, 8, 1, 2, 3, 4, 5, 7, 9, 1, 2, 3, 4, 5, 6, 1, 2, 3, 4, 5, 6, 7, 8, 9, 3, 1, 2, 3, 5, 7, 1, 2, 5, 7, 10, 10, 3, 3, 1, 2, 3, 4, 5, 6, 7, 9, 1, 2, 3, 4, 4, 1, 2, 3, 5, 7, 8, 9, 1, 2, 3, 4, 5, 6, 7, 1, 2, 3, 4, 5, 6, 7, 9, 6, 1, 2, 3, 4, 5, 6, 7, 8, 9, 5, 3, 4, 2, 1, 2, 3, 4, 5, 7, 8, 1, 2, 2, 2, 6, 10, 1, 2, 3, 4, 5, 6, 10, 1, 2, 3, 4, 5, 6, 7, 8, 1, 2, 3, 4, 5, 6, 7, 8, 10, 5, 10, 1, 2, 3, 4, 5, 7, 9, 3, 4, 1, 1, 1, 2, 5, 1, 2, 3, 4, 5, 6, 7, 2, 1, 2, 3, 4, 5, 7, 8, 10, 10, 6, 9, 7, 3, 3, 9, 6, 1, 2, 3, 4, 5, 6, 7, 9, 10, 10, 1, 3, 4, 6, 10, 1, 2, 3, 4, 5, 6, 7, 9, 1, 2, 3, 4, 5, 6, 7, 8, 1, 2, 3, 4, 5, 6, 2, 3, 4, 5, 6, 7, 8, 1, 2, 3, 4, 6, 8, 4, 3, 6, 2, 8, 8, 2, 4, 6, 1, 2, 3, 4, 5, 6, 8, 1, 4, 5, 6, 4, 6, 8, 1, 2, 7, 7, 3, 2, 7, 1, 2, 3, 4, 5, 6, 7, 1, 5, 6, 10, 1, 2, 3, 4, 5, 6, 7, 9, 1, 2, 3, 4, 5, 6, 7, 8, 1, 2, 3, 6, 3, 1, 2, 3, 4, 6, 7, 9, 1, 3, 4, 1, 2, 3, 5, 2, 3, 4, 6, 7, 1, 3, 4, 5, 6, 7, 8, 9, 1, 3, 3, 1, 2, 3, 4, 5, 6, 7, 2, 8, 7, 1, 6, 8, 6, 6, 1, 2, 3, 5, 10, 1, 2, 3, 4, 5, 6, 7, 10, 1, 2, 3, 4, 5, 6, 7, 6, 9, 9, 9, 1, 2, 3, 4, 5, 6, 7, 8, 9, 5, 1, 7, 8, 1, 2, 3, 5, 6, 7, 9, 4, 6, 4, 1, 2, 3, 4, 5, 6, 7, 8, 9, 3, 5, 7, 1, 2, 3, 4, 5, 6, 7, 8, 9, 10, 9, 1, 3, 4, 5, 6, 8, 1, 1, 2, 3, 4, 5, 6, 7, 1, 8, 1, 3, 4, 1, 2, 3, 5, 8, 5, 9, 1, 6, 9, 1, 1, 2, 3, 4, 5, 6, 7, 9, 10, 4, 2, 1, 2, 3, 5, 6, 7, 9, 10, 1, 2, 10, 1, 2, 3, 5, 6, 3, 4, 6, 7, 1, 2, 3, 4, 5, 7, 8, 3, 1, 2, 3, 4, 6, 1, 2, 3, 4, 5, 6, 8, 3, 4, 6, 8, 1, 2, 3, 4, 5, 6, 7, 8, 9, 5, 7, 10, 9, 1, 2, 6, 7, 8, 1, 2, 3, 4, 5, 6, 7, 8, 9, 1, 3, 1, 2, 3, 4, 5, 6, 7, 8, 9, 2, 1, 4, 5, 8, 1, 2, 3, 4, 5, 6, 1, 9, 8, 1, 2, 3, 4, 5, 7, 8, 1, 1, 1, 2, 3, 4, 5, 6, 7, 8, 1, 2, 3, 4, 5, 6, 7, 8, 3, 7, 8, 8, 7, 1, 1, 2, 3, 4, 5, 6, 7, 8, 9, 3, 1, 2, 3, 4, 5, 6, 7, 8, 9, 2, 3, 6, 3, 1, 2, 3, 4, 5, 6, 7, 8, 9, 3, 6, 10, 1, 2, 3, 4, 5, 6, 7, 8, 9, 3, 1, 2, 9, 4, 3, 4, 4, 1, 2, 3, 4, 5, 6, 8, 1, 2, 4, 6, 5, 1, 2, 3, 4, 6, 8, 3, 5, 1, 2, 3, 9, 1, 7, 1, 2, 3, 4, 6, 7, 2, 1, 3, 4, 6, 1, 2, 3, 4, 5, 6, 7, 3, 1, 2, 3, 4, 2, 1, 2, 3, 4, 5, 6, 7, 8, 9, 1, 3, 6, 7, 10, 1, 2, 3, 4, 5, 6, 8, 9, 1, 5, 6, 7, 8, 8, 4, 6, 8, 1, 2, 7, 1, 2, 3, 4, 6, 9, 1, 2, 3, 4, 5, 6, 4, 1, 8, 3, 1, 2, 3, 4, 6, 7, 8, 9, 8, 8, 4, 8, 1, 8, 10, 1, 2, 3, 4, 5, 6, 8, 4, 3, 4, 1, 2, 3, 5, 6, 7, 9, 9, 1, 4, 1, 2, 4, 5, 9, 6, 1, 4, 6, 1, 2, 4, 5, 7, 10, 1, 2, 3, 4, 5, 6, 7, 9, 10, 3, 7, 7, 6, 7, 1, 2, 10, 4, 1, 2, 3, 4, 5, 6, 7, 8, 2, 1, 2, 9, 1, 2, 3, 4, 6, 9, 1, 2, 3, 6, 8, 1, 2, 3, 4, 5, 6, 9, 1, 3, 4, 6, 5, 5, 5, 6, 7, 8, 8, 6, 9, 8, 1, 2, 3, 4, 5, 6, 7, 8, 9, 1, 2, 3, 4, 5, 6, 7, 9, 1, 5, 8, 2, 3, 7, 8, 1, 2, 3, 5, 9, 8, 1, 2, 3, 4, 6, 7, 9, 1, 2, 3, 4, 5, 6, 9, 1, 2, 3, 6, 9, 1, 2, 3, 4, 6, 7, 8, 5, 2, 1, 2, 3, 5, 6, 8, 1, 1, 2, 3, 6, 1, 2, 3, 4, 5, 6, 7, 8, 9, 2, 5, 1, 2, 3, 4, 5, 6, 7, 9, 1, 2, 3, 4, 7, 7, 9, 1, 2, 3, 4, 5, 6, 7, 9, 5, 10, 3, 2, 2, 9, 7, 1, 2, 3, 4, 5, 6, 7, 8, 4, 1, 2, 3, 4, 5, 6, 7, 9, 3, 5, 5, 7, 2, 3, 1, 2, 3, 4, 5, 6, 7, 8, 1, 2, 3, 4, 5, 1, 2, 3, 4, 5, 6, 4, 1, 2, 3, 4, 5, 6, 7, 9, 3, 1, 2, 5, 8, 8, 1, 1, 2, 3, 4, 5, 6, 7, 9, 6, 2, 3, 7, 1, 2, 3, 4, 5, 6, 7, 2, 2, 3, 10, 1, 2, 3, 5, 8, 1, 2, 3, 5, 1, 3, 4, 9, 9, 9, 1, 2, 5, 6, 7, 8, 4, 1, 2, 5, 8, 7, 1, 2, 3, 4, 5, 6, 7, 8, 1, 2, 3, 4, 5, 6, 7, 8, 9, 1, 4, 6, 8, 1, 2, 3, 4, 5, 6, 8, 10, 1, 3, 6, 7, 8, 1, 2, 3, 4, 5, 6, 7, 8, 9, 1, 2, 3, 5, 7, 8, 6, 3, 1, 2, 3, 4, 5, 6, 7, 8, 9, 1, 1, 2, 5, 7, 9, 1, 3, 1, 2, 3, 5, 6, 8, 1, 3, 4, 5, 6, 7, 8, 9, 3, 1, 3, 4, 6, 7, 8, 9, 6, 10, 1, 2, 3, 5, 6, 7, 8, 6, 1, 10, 6, 1, 2, 3, 4, 5, 6, 7, 9, 10, 1, 2, 3, 4, 5, 6, 7, 8, 7, 8, 5, 5, 8, 5, 5, 5, 8, 1, 2, 3, 4, 5, 6, 7, 8, 9, 7, 5, 6, 3, 6, 7, 1, 3, 5, 7, 8, 7, 1, 3, 5, 6, 6, 6, 1, 8, 9, 1, 2, 3, 6, 1, 7, 6, 2, 6, 7, 7, 5, 2], \"Freq\": [0.12769767939319387, 0.03192441984829847, 0.8300349160557602, 0.08532996282011361, 0.14221660470018935, 0.0159993680287713, 0.39465107804302546, 0.005333122676257101, 0.14754972737644645, 0.19554783146276036, 0.010666245352514201, 0.001777707558752367, 0.9003355261493239, 0.9760932974127348, 0.5353674268303538, 0.9425396856733167, 0.9875250725954223, 0.9907102002427053, 0.9347583503546099, 0.6674057102468491, 0.8291575900291815, 0.9034825052899446, 0.9478741183334544, 0.6674056901788963, 0.9003355261493636, 0.9635148423144629, 0.18978380854753962, 0.054223945299297034, 0.04066795897447278, 0.054223945299297034, 0.027111972649648517, 0.5693514256426189, 0.06777993162412128, 0.013555986324824259, 0.4211575321758935, 0.25887664821820977, 0.050229797415473544, 0.016743265805157847, 0.010303548187789445, 0.006439717617368403, 0.23698160831915724, 0.14972156404448314, 0.0686223835203881, 0.006238398501853464, 0.0686223835203881, 0.012476797003706928, 0.043668789512974246, 0.6550318426946137, 0.03726598330473262, 0.08695396104437611, 0.03726598330473262, 0.03726598330473262, 0.7950076438342959, 0.6674060102010949, 0.9051696347847992, 0.9478741178126266, 0.9348161297613256, 0.5253689753830946, 0.06567112192288682, 0.13134224384577364, 0.06567112192288682, 0.06567112192288682, 0.06567112192288682, 0.14773898027897958, 0.7386949013948979, 0.14773898027897958, 0.23371131747645224, 0.7011339524293567, 0.6238880584331299, 0.19241407409619896, 0.03692795361442202, 0.040815106626466445, 0.0505329891565775, 0.02526649457828875, 0.023322918072266538, 0.0019435765060222116, 0.003887153012044423, 0.09405637142118532, 0.06113664142377046, 0.07054227856588899, 0.442064945679571, 0.009405637142118532, 0.018811274284237064, 0.004702818571059266, 0.2069240171266077, 0.09405637142118532, 0.16593696197468097, 0.8296848098734048, 0.9415592199208036, 0.17572187463566302, 0.7028874985426521, 0.8570855440539586, 0.10713569300674483, 0.17571905591879278, 0.7028762236751711, 0.62410691769786, 0.03671217162928588, 0.29369737303428706, 0.08957927951146215, 0.044789639755731074, 0.2687378385343865, 0.044789639755731074, 0.49268603731304184, 0.2844273413813761, 0.2660771903245131, 0.14336055513174198, 0.02637834214424052, 0.04128783987794169, 0.08716321752009912, 0.13189171072120262, 0.0034406533231618073, 0.01376261329264723, 0.0022937688821078714, 0.5353659232013939, 0.02181982550830041, 0.04363965101660082, 0.9164326713486173, 0.9478741178097213, 0.9478741180378198, 0.9085337525100868, 0.2988439933309887, 0.426919990472841, 0.07399946501529245, 0.01707679961891364, 0.12238373060221443, 0.01992293288873258, 0.036999732507646224, 0.00284613326981894, 0.04570674068641073, 0.04570674068641073, 0.8227213323553931, 0.10231482096527075, 0.10231482096527075, 0.7162037467568954, 0.5635467700769168, 0.2936793027161397, 0.04762367071072536, 0.00793727845178756, 0.04762367071072536, 0.02381183535536268, 0.01587455690357512, 0.8793385026009503, 0.08793385026009504, 0.9173254726477392, 0.23488812662501807, 0.33555446660716864, 0.21811040329465964, 0.11744406331250903, 0.0503331699910753, 0.033555446660716866, 0.05471090481434437, 0.8753744770295099, 0.1370599629869197, 0.06852998149345985, 0.06852998149345985, 0.6852998149345985, 0.06852998149345985, 0.8416272290679033, 0.07013560242232528, 0.30087208522965087, 0.20340648015525692, 0.16526776512614627, 0.13984195510673914, 0.038138715029110676, 0.038138715029110676, 0.0635645250485178, 0.029663445022641635, 0.016950540012938078, 0.6674056907723965, 0.9071305064492485, 0.8287705951518555, 0.3233900296861396, 0.5044884463103778, 0.0711458065309507, 0.012935601187445583, 0.06144410564036652, 0.0064678005937227915, 0.02263730207802977, 0.7589068815834954, 0.6674060100152521, 0.921929794807113, 0.5627585299164503, 0.29869965956571515, 0.22402474467428635, 0.0672074234022859, 0.37337457445714395, 0.018668728722857197, 0.014934982978285757, 0.0037337457445714393, 0.028008419141373794, 0.009336139713791264, 0.01867227942758253, 0.6068490813964322, 0.33610102969648553, 0.8461612800567744, 0.4041458075852981, 0.28990981921795733, 0.09215676372491358, 0.04895828072886034, 0.056638011039269805, 0.07679730310409465, 0.023039190931228394, 0.0057597977328070985, 0.0038398651552047323, 0.2632916603166493, 0.29463590559244085, 0.06268849055158317, 0.031344245275791584, 0.08776388677221643, 0.21314086787538275, 0.006268849055158316, 0.043881943386108214, 0.8711157245303693, 0.8488427593722858, 0.7609357830048986, 0.9079647423841295, 0.3953317159831982, 0.2541418174177703, 0.03953317159831982, 0.05082836348355406, 0.096009131024491, 0.15248509045066216, 0.005647595942617117, 0.4280913373768096, 0.3988201348211303, 0.05488350479189867, 0.047565704152978845, 0.040247903514059026, 0.007317800638919823, 0.021953401916759468, 0.0036589003194599113, 0.9148209778821068, 0.04158277172191394, 0.6369335742360998, 0.8965100448797181, 0.9447496467607783, 0.6188242700924262, 0.3094121350462131, 0.8965100946985608, 0.08245152936443581, 0.9069668230087938, 0.9921482318828485, 0.8347295484358769, 0.10420624786914442, 0.8336499829531554, 0.8749633041513732, 0.7626528853034031, 0.37719779141270104, 0.3729235954760132, 0.059838743113629626, 0.1357057209898386, 0.03312501850933069, 0.0010685489841719576, 0.01709678374675132, 0.003205646952515873, 0.3540133807406955, 0.49455135600961486, 0.04447404280662004, 0.016010655410383216, 0.06226365992926806, 0.008894808561324009, 0.02134754054717762, 0.6687948264825604, 0.06369474537929147, 0.2547789815171659, 0.9795472565276179, 0.18847234256664816, 0.5025929135110618, 0.21988439966108952, 0.06282411418888273, 0.05100235352810054, 0.9435435402698601, 0.44080821843114193, 0.44080821843114193, 0.035572842783756234, 0.4446605347969529, 0.053359264175634344, 0.07114568556751247, 0.39130127062131853, 0.7264723315144155, 0.07264723315144155, 0.07264723315144155, 0.07264723315144155, 0.2530809213521377, 0.5061618427042754, 0.10002800030002724, 0.10002800030002724, 0.800224002400218, 0.06069515190990613, 0.910427278648592, 0.29830901946683586, 0.2556934452572879, 0.1917700839429659, 0.02130778710477399, 0.02130778710477399, 0.1917700839429659, 0.8797195152788817, 0.09774661280876464, 0.6369338030897184, 0.31130975225391283, 0.6226195045078257, 0.11414992603205616, 0.7990494822243932, 0.6719329377323346, 0.9478741178973411, 0.27365451945405805, 0.27365451945405805, 0.27365451945405805, 0.9173247407337636, 0.237389474430207, 0.2057375445061794, 0.1371583630041196, 0.0633038598480552, 0.0158259649620138, 0.0211012866160184, 0.0158259649620138, 0.211012866160184, 0.1002311114260874, 0.259180463360299, 0.17943262848020697, 0.039873917440045994, 0.05981087616006899, 0.05981087616006899, 0.4186761331204829, 0.6369334953946265, 0.16392786770311557, 0.8196393385155779, 0.15891336091124358, 0.4767400827337308, 0.07945668045562179, 0.07945668045562179, 0.15891336091124358, 0.9079659665767946, 0.16606251454765084, 0.459439623581834, 0.055354171515883614, 0.022141668606353446, 0.04428333721270689, 0.24909377182147627, 0.005535417151588362, 0.16154630837913309, 0.16154630837913309, 0.08337873980858482, 0.5106947813275821, 0.03647819866625586, 0.03647819866625586, 0.010422342476073102, 0.3675907147546913, 0.47261663325603165, 0.04758986932091985, 0.03938471943800264, 0.044307809367752964, 0.018051329742417875, 0.008205149882917215, 0.0032820599531668865, 0.9854085148669077, 0.3579188873748442, 0.2863351098998753, 0.035791888737484415, 0.2818611238076898, 0.02684391655311331, 0.013421958276556656, 0.13393232503902652, 0.7232345552107432, 0.040179697511707954, 0.026786465007805304, 0.05357293001561061, 0.5063507995304528, 0.36540779347558455, 0.020880445341461974, 0.05220111335365493, 0.057421224689020424, 0.9684605190197707, 0.5627585299130622, 0.46243028320264534, 0.19653287036112427, 0.046243028320264536, 0.0693645424803968, 0.046243028320264536, 0.0693645424803968, 0.046243028320264536, 0.011560757080066134, 0.046243028320264536, 0.3386539776570797, 0.24123297038586503, 0.055669147012122694, 0.04175186025909202, 0.02319547792171779, 0.013917286753030673, 0.009278191168687116, 0.18092472778939875, 0.0881428161025276, 0.28520439909643747, 0.11091282187083679, 0.16636923280625518, 0.09506813303214583, 0.05545641093541839, 0.17429157722560068, 0.09506813303214583, 0.01584468883869097, 0.9079643875063286, 0.6719330699534715, 0.40866327521403534, 0.46301750393708435, 0.03422303289969754, 0.026170554570356944, 0.04026239164670299, 0.020131195823351496, 0.006039358747005449, 0.0020131195823351496, 0.2485925358639524, 0.23017827394810408, 0.14731409532678663, 0.04603565478962082, 0.05524278574754498, 0.10127844053716581, 0.09207130957924164, 0.04603565478962082, 0.04603565478962082, 0.2723789131151277, 0.40856836967269156, 0.17333203561871763, 0.028888672603119604, 0.03714257906115378, 0.07015820489329047, 0.004126953229017087, 0.13898815319539745, 0.8339289191723848, 0.6369337886662367, 0.26506297157995223, 0.44000453282272073, 0.08482015090558472, 0.026506297157995226, 0.037108816021193314, 0.13253148578997612, 0.01060251886319809, 0.005301259431599045, 0.339147772308517, 0.24249065720058965, 0.16109519184654558, 0.025436082923138776, 0.06104659901553306, 0.052567904707820134, 0.08139546535404409, 0.03052329950776653, 0.005087216584627755, 0.8836622019165689, 0.9517776327375718, 0.9083982640056285, 0.0698767895388945, 0.7626529128513372, 0.18714743184469756, 0.7485897273787903, 0.3373749767285104, 0.09639285049386012, 0.1686874883642552, 0.02409821262346503, 0.0722946378703951, 0.09639285049386012, 0.1686874883642552, 0.04819642524693006, 0.9173657016714343, 0.9283233020735475, 0.05802020637959672, 0.24670081323343435, 0.24670081323343435, 0.044854693315169884, 0.4485469331516988, 0.3874077728259777, 0.3772128314358204, 0.10704688459665174, 0.020389882780314617, 0.030584824170471925, 0.05097470695078654, 0.015292412085235962, 0.005097470695078654, 0.9748150808542723, 0.905169634843945, 0.9051694904142262, 0.9684606814757829, 0.6341500659367355, 0.2784073460210058, 0.015467074778944767, 0.03866768694736192, 0.0077335373894723836, 0.015467074778944767, 0.7589068816349249, 0.828770453475266, 0.6674056902220805, 0.062283296303108915, 0.020761098767702973, 0.8719661482435248, 0.041522197535405946, 0.20671462088790182, 0.7387506123534852, 0.020332585661105098, 0.030498878491657645, 0.0033887642768508494, 0.9542491705141823, 0.5627585298426828, 0.9405108286789613, 0.03617349341072928, 0.9173245977242596, 0.8749633041530301, 0.6369327570614676, 0.20067965760089404, 0.2489914270233315, 0.24527513706775939, 0.17466562791188925, 0.018581449777860557, 0.11148869866716335, 0.6369337654411118, 0.38161869676250215, 0.26061764656951364, 0.15512955152947241, 0.03723109236707338, 0.07135959370355731, 0.07135959370355731, 0.009307773091768345, 0.012410364122357794, 0.9173240908430687, 0.08186194174864858, 0.16372388349729716, 0.16372388349729716, 0.16372388349729716, 0.08186194174864858, 0.08186194174864858, 0.3274477669945943, 0.2698904720564735, 0.5750937161577192, 0.035312772044772234, 0.0193379465959467, 0.0773517863837868, 0.005044681720681747, 0.01261170430170437, 0.0008407802867802912, 0.003363121147121165, 0.3386584185397127, 0.1015975255619138, 0.13546336741588508, 0.4402559441016265, 0.2915456914519048, 0.517493602327131, 0.03420055226647345, 0.025510248002041668, 0.06559778057667857, 0.037844873409622254, 0.025510248002041668, 0.0008409971868804946, 0.0011213295825073261, 0.16334972568983164, 0.7554924813154713, 0.04083743142245791, 0.04083743142245791, 0.4212822125960803, 0.3049907684940373, 0.08337877124297421, 0.048271920193300864, 0.06143698933692837, 0.03510685104967336, 0.030718494668464186, 0.00877671276241834, 0.002194178190604585, 0.07176128968759564, 0.06458516071883608, 0.03588064484379782, 0.8180787024385904, 0.9793967306015925, 0.9043291774258893, 0.047596272496099434, 0.8791479400292485, 0.09768310444769426, 0.19452535501705184, 0.7348735633977515, 0.010806964167613991, 0.043227856670455964, 0.010806964167613991, 0.7927626398076704, 0.1668973978542464, 0.5955171837587706, 0.3285612048324252, 0.04107015060405315, 0.030802612953039862, 0.010267537651013287, 0.8744479531696501, 0.06477392245701111, 0.032386961228505554, 0.032386961228505554, 0.2497020932231741, 0.5757020482645403, 0.020808507768597842, 0.1456595543801849, 0.00693616925619928, 0.28111693961437073, 0.5794451204296213, 0.05163372360263952, 0.0860562060043992, 0.21600372811956436, 0.7259141682706671, 0.021246268339629282, 0.03186940250944392, 0.003541044723271547, 0.20214756632139586, 0.6596394269435023, 0.07447541917104057, 0.0531967279793147, 0.3980065084722315, 0.19900325423611576, 0.3980065084722315, 0.3716894282564182, 0.4835571202559227, 0.0372892306665015, 0.01804317612895234, 0.06495543406422842, 0.01443454090316187, 0.008420148860177758, 0.0012028784085968225, 0.0012028784085968225, 0.6975953867829127, 0.25578497515373466, 0.02325317955943042, 0.3398576858422861, 0.5330399493736908, 0.04292939189586772, 0.007154898649311286, 0.05723918919449029, 0.003577449324655643, 0.014309797298622572, 0.003577449324655643, 0.20419728802186798, 0.612591864065604, 0.9081254326550646, 0.10125389961081033, 0.20250779922162065, 0.10125389961081033, 0.5062694980540516, 0.9117273610131795, 0.0693495973748117, 0.03467479868740585, 0.8668699671851462, 0.022313448392892357, 0.0818159774406053, 0.029751264523856475, 0.8032841421441248, 0.029751264523856475, 0.03718908065482059, 0.08257416539291397, 0.8257416539291398, 0.04985399896321756, 0.24926999481608778, 0.09970799792643512, 0.04985399896321756, 0.4237589911873492, 0.04985399896321756, 0.02492699948160878, 0.02492699948160878, 0.02492699948160878, 0.562758529852698, 0.5692219296896334, 0.34153315781377996, 0.1945005907764739, 0.04359496000162345, 0.08383646154158357, 0.6740451507943319, 0.006706916923326685, 0.6674056903904138, 0.7609354673476009, 0.8287705833205113, 0.20949000069554022, 0.10474500034777011, 0.10474500034777011, 0.20949000069554022, 0.41898000139108044, 0.3497747154041653, 0.19587384062633256, 0.06995494308083307, 0.041972965848499834, 0.23784680647483242, 0.06995494308083307, 0.027981977232333224, 0.7626529131416254, 0.2982896506832702, 0.3803193046211695, 0.13423034280747156, 0.05965793013665403, 0.03728620633540877, 0.007457241267081754, 0.007457241267081754, 0.07457241267081754, 0.3568492530609756, 0.4850378196945299, 0.03811011440457021, 0.03464555854960928, 0.05196833782441392, 0.027716446839687426, 0.0034645558549609282, 0.43976342280713443, 0.4240575862783082, 0.041882230743536614, 0.03141167305765246, 0.06020570669383388, 0.0026176394214710384, 0.2951361429536095, 0.17819540706633025, 0.1893326200079759, 0.1336465552997477, 0.050117458237405384, 0.08909770353316512, 0.01113721294164564, 0.04454885176658256, 0.00556860647082282, 0.8287705790580445, 0.674248618356069, 0.1797996315616184, 0.0449499078904046, 0.029966605260269733, 0.07491651315067434, 0.2716664109721007, 0.32599969316652083, 0.05433328219442014, 0.21733312877768057, 0.10866656438884029, 0.6674060099207285, 0.9815417975396565, 0.89847768623134, 0.3307930886312175, 0.29633547523213233, 0.08269827215780437, 0.19296263503487687, 0.017228806699542576, 0.051686420098627735, 0.02412032937935961, 0.5627585299345527, 0.2154825848576999, 0.04309651697153998, 0.5602547206300197, 0.17238606788615993, 0.9684607554208917, 0.2977296230493572, 0.616725647745097, 0.03189960246957398, 0.04784940370436097, 0.005316600411595663, 0.005316600411595663, 0.5627585298712842, 0.39683752734040967, 0.41314591887494706, 0.03805291358058723, 0.005436130511512462, 0.13590326278781154, 0.010872261023024923, 0.005436130511512462, 0.2570767791455594, 0.5907572450062097, 0.04933796771480433, 0.018177146000191068, 0.07011184885787984, 0.0025967351428844384, 0.009088573000095534, 0.0025967351428844384, 0.9478741183494558, 0.36693835848140854, 0.18346917924070427, 0.10653049117202183, 0.15979573675803274, 0.04142852434467516, 0.023673442482671517, 0.023673442482671517, 0.08877540931001819, 0.005918360620667879, 0.7626529128647538, 0.04277521926488731, 0.9410548238275208, 0.9231977156169442, 0.44751646300291037, 0.31477852906136916, 0.030340099186637992, 0.12136039674655197, 0.060680198373275984, 0.007585024796659498, 0.018962561991648745, 0.7762745602148352, 0.16634454861746467, 0.9079637598533856, 0.8903494564967019, 0.08094085968151836, 0.6674060100686763, 0.11572365187206765, 0.7200582783150876, 0.0771491012480451, 0.025716367082681702, 0.025716367082681702, 0.012858183541340851, 0.012858183541340851, 0.35182408621041444, 0.17591204310520722, 0.06282572968043115, 0.10052116748868983, 0.01256514593608623, 0.22617262684955214, 0.01256514593608623, 0.03769543780825869, 0.31906038427488165, 0.12762415370995267, 0.19781743825042664, 0.0765744922259716, 0.044668453798483436, 0.10209932296796213, 0.0957181152824645, 0.0191436230564929, 0.012762415370995267, 0.6369338030821201, 0.6674060101784234, 0.25321071413030494, 0.5908249996373781, 0.018086479580736066, 0.03617295916147213, 0.06028826526912022, 0.03014413263456011, 0.012057653053824044, 0.9425189885478447, 0.9317146437399819, 0.8965097214581529, 0.9391550528065444, 0.7957703411685139, 0.07957703411685138, 0.11936555117527708, 0.36840879789441244, 0.4966940043040739, 0.04276173546988716, 0.00986809280074319, 0.05920855680445914, 0.013157457067657587, 0.0065787285338287935, 0.9441228480254197, 0.1603907055719004, 0.1603907055719004, 0.0267317842619834, 0.267317842619834, 0.0267317842619834, 0.0267317842619834, 0.2940496268818174, 0.6674060101427213, 0.5353676065740826, 0.24394284570864788, 0.7318285371259436, 0.9598449600776818, 0.9728656760149109, 0.9649847852375789, 0.9875267412653909, 0.947874117907528, 0.4055068556706498, 0.2591404758131963, 0.06718456780342127, 0.057586772402932515, 0.08638015860439878, 0.031192835051588447, 0.08158126090415439, 0.01199724425061094, 0.8965864862058973, 0.6674060101243977, 0.02195910079216064, 0.04391820158432128, 0.8124867293099438, 0.13175460475296386, 0.5353674141108536, 0.354074644399425, 0.2787396136761431, 0.18582640911742873, 0.04520101843396915, 0.04771218612474521, 0.04520101843396915, 0.03264517998008883, 0.007533503072328192, 0.2946834995835619, 0.4525496600747557, 0.09735079896956955, 0.018417718723972618, 0.068408669546184, 0.057884258846771085, 0.007893308024559693, 0.002631102674853231, 0.2947043686221274, 0.6103232408238897, 0.019013185072395317, 0.019013185072395317, 0.049434281188227826, 0.009506592536197659, 0.9081424815850011, 0.08773851428451843, 0.17547702856903685, 0.029246171428172808, 0.26321554285355525, 0.17547702856903685, 0.29246171428172807, 0.0658591953932356, 0.052687356314588485, 0.026343678157294242, 0.039515517235941364, 0.7903103447188273, 0.013171839078647121, 0.9517775734879247, 0.11362937754791681, 0.7954056428354177, 0.9232912361843522, 0.9219298006222875, 0.8711156277466854, 0.06771898415371366, 0.27087593661485465, 0.6771898415371367, 0.2031542410241251, 0.0914194084608563, 0.2539428012801564, 0.12189254461447507, 0.050788560256031276, 0.14220796871688757, 0.13205025666568132, 0.1903300542027959, 0.12688670280186393, 0.06344335140093196, 0.6344335140093197, 0.07039832247410159, 0.844779869689219, 0.07039832247410159, 0.7217348577031715, 0.1255191056875081, 0.1255191056875081, 0.9425396857630408, 0.9454420183942371, 0.05514434370844802, 0.9374538430436163, 0.3444406578316691, 0.5069856873702095, 0.03096095800734104, 0.04257131726009393, 0.054181676512846826, 0.01548047900367052, 0.00387011975091763, 0.8905369930145378, 0.05936913286763586, 0.05936913286763586, 0.6674060100988255, 0.2078491122640653, 0.09632032031749367, 0.08111184868841573, 0.4816016015874684, 0.050694905430259826, 0.020277962172103932, 0.06590337705933778, 0.005069490543025983, 0.3641316235551866, 0.27986976025315996, 0.04514028391179999, 0.23472947634135996, 0.04213093165101332, 0.009028056782359998, 0.009028056782359998, 0.01504676130393333, 0.0625461727197129, 0.2501846908788516, 0.562915554477416, 0.1250923454394258, 0.7760855370228282, 0.11815392283840073, 0.19200012461240118, 0.10338468248360064, 0.14769240354800092, 0.04430772106440027, 0.36923100887000226, 0.029538480709600183, 0.0794179065616549, 0.015883581312330978, 0.9053641348028658, 0.7662859136823725, 0.14992550485089898, 0.06663355771151065, 0.016658389427877663, 0.8425293217356838, 0.029142202368756878, 0.8159816663251926, 0.058284404737513756, 0.08742660710627063, 0.03295444534583066, 0.5272711255332906, 0.03295444534583066, 0.03295444534583066, 0.19772667207498396, 0.03295444534583066, 0.09886333603749198, 0.03295444534583066, 0.060003556460259184, 0.9000533469038877, 0.9185037728899537, 0.12979090184877828, 0.46353893517420813, 0.03708311481393665, 0.03708311481393665, 0.03708311481393665, 0.27812336110452485, 0.0061805191356561085, 0.9517695506357235, 0.8711155852124848, 0.9415592199533627, 0.16344967827752208, 0.8172483913876104, 0.7589067822204336, 0.844179910308148, 0.8441798604082619, 0.4299731524230481, 0.4577133558051803, 0.06935050845533035, 0.02774020338213214, 0.01387010169106607, 0.28213231190043514, 0.24686577291288075, 0.17633269493777196, 0.07053307797510878, 0.03526653898755439, 0.03526653898755439, 0.10579961696266317, 0.07053307797510878, 0.3672644429719832, 0.37607878960331076, 0.13221519946991395, 0.02644303989398279, 0.047009848700413845, 0.03819550206908625, 0.011752462175103461, 0.9478745379567702, 0.874963265268469, 0.8550291687909347, 0.8749633040663728, 0.44552746813561084, 0.33798635513736, 0.09601885089129544, 0.01536301614260727, 0.04704923693673477, 0.02880565526738863, 0.018243581669346132, 0.007681508071303635, 0.0028805655267388633, 0.6369338031169438, 0.9173237461499878, 0.8740884342382679, 0.07946258493075162, 0.35704616465507694, 0.35089019629895496, 0.12004138294437933, 0.06771565191734218, 0.08310557280764723, 0.009233952534183024, 0.009233952534183024, 0.32625302297251874, 0.6728968598808198, 0.9715471303381379, 0.2656033081041638, 0.30075668711795017, 0.07811862003063641, 0.06249489602450913, 0.031247448012254566, 0.23044992909037743, 0.015623724006127283, 0.015623724006127283, 0.0039059310015318208, 0.06936075806955151, 0.06936075806955151, 0.8323290968346182, 0.3574970559942018, 0.20809530125035625, 0.0880403197597661, 0.21076318972792493, 0.03201466173082404, 0.0533577695513734, 0.04001832716353005, 0.0026678884775686697, 0.005335776955137339, 0.0026678884775686697, 0.5627585299084386, 0.19023444172552775, 0.06917616062746464, 0.27670464250985854, 0.01729404015686616, 0.15564636141179544, 0.27670464250985854, 0.9173284648061834, 0.16701836147991395, 0.08947412222138247, 0.14912353703563747, 0.5070200259211673, 0.023859765925701992, 0.05368447333282949, 0.005964941481425498, 0.9327919293851333, 0.9219297697753366, 0.08583902369393528, 0.08583902369393528, 0.8297772290413745, 0.22351272460600347, 0.7152407187392111, 0.02407060111141576, 0.030947915714677404, 0.0034386573016308227, 0.12052387947321923, 0.8436671563125345, 0.40236831138242257, 0.10059207784560564, 0.5029603892280282, 0.9173233559256562, 0.19197409163599172, 0.1146858209773457, 0.07728827065864602, 0.022438530191219812, 0.009972680084986583, 0.17202873146601855, 0.38893452331447675, 0.002493170021246646, 0.019945360169973166, 0.9848790812770127, 0.934822772134518, 0.3759532277834782, 0.3796390437421398, 0.1363751904704774, 0.036858159586615515, 0.036858159586615515, 0.02580071171063086, 0.007371631917323103, 0.0036858159586615515, 0.1757367649128485, 0.1757367649128485, 0.5272102947385455, 0.32641345702851504, 0.4352179427046867, 0.05440224283808584, 0.1722737689872718, 0.009067040473014307, 0.015442497609091702, 0.9111073589364104, 0.04632749282727511, 0.030884995218183404, 0.2621136653665563, 0.5353811037274341, 0.022307545988643086, 0.016730659491482315, 0.13942216242901928, 0.022307545988643086, 0.005576886497160771, 0.8287705700690842, 0.14220293781658938, 0.06320130569626195, 0.031600652848130975, 0.6952143626588815, 0.07900163212032744, 0.07744434643359895, 0.04302463690755497, 0.017209854763021986, 0.7916533190990114, 0.02581478214453298, 0.03441970952604397, 0.008604927381510993, 0.8719773207016559, 0.04844318448342533, 0.04844318448342533, 0.04844318448342533, 0.3176200816014091, 0.24388684837251054, 0.2211996996866956, 0.09642038191471347, 0.0680614460574448, 0.0170153615143612, 0.0170153615143612, 0.0170153615143612, 0.005671787171453733, 0.8461613140724973, 0.9208272498759915, 0.667406010035776, 0.98716747322324, 0.054706934661761256, 0.09117822443626876, 0.036471289774507504, 0.7841327301519113, 0.018235644887253752, 0.30528231245578746, 0.2905105876595397, 0.17726069755497337, 0.059086899184991125, 0.03939126612332741, 0.059086899184991125, 0.049239082654159265, 0.009847816530831853, 0.014771724796247781, 0.9327919428395158, 0.8984776266827583, 0.4118049690753423, 0.44058170185410117, 0.04514970142874235, 0.026047904670428276, 0.050731395286691267, 0.014264328748091675, 0.008186484324991744, 0.0022326775431795666, 0.0011163387715897833, 0.9242434402404267, 0.030523871253489047, 0.8851922663511824, 0.030523871253489047, 0.030523871253489047, 0.297208960001548, 0.6049076480031507, 0.02622432000013659, 0.01748288000009106, 0.04370720000022765, 0.010489728000054635, 0.9447407576632103, 0.9365216752996361, 0.9051696347403371, 0.26134068875188315, 0.5170000581830732, 0.022725277282772446, 0.022725277282772446, 0.13067034437594158, 0.022725277282772446, 0.011362638641386223, 0.8965097832604016, 0.9542508554187618, 0.4246268547556036, 0.34126452744162006, 0.05731160002836367, 0.09117754549966947, 0.0521014545712397, 0.023445654557057865, 0.00521014545712397, 0.00521014545712397, 0.4967326468734781, 0.3635878136908963, 0.025604775612034954, 0.015362865367220972, 0.04608859610166292, 0.010241910244813981, 0.020483820489627963, 0.015362865367220972, 0.056282674433878674, 0.056282674433878674, 0.8442401165081801, 0.9496267535418679, 0.9003352411497828, 0.917324597647945, 0.216205226654819, 0.10089577243891554, 0.2378257493203009, 0.0648615679964457, 0.05044788621945777, 0.14413681776987933, 0.15134365865837332, 0.021620522665481902, 0.007206840888493967, 0.9445005330471263, 0.3741207569731355, 0.27566792619073144, 0.14571018955795803, 0.0748241513946271, 0.02362867938777698, 0.035443019081665465, 0.055133585238146286, 0.003938113231296163, 0.01181433969388849, 0.0957528214798439, 0.7660225718387512, 0.0957528214798439, 0.8984776862750079, 0.33253907898042095, 0.21342060292773285, 0.1538613649013888, 0.05459596819081538, 0.06452250786187272, 0.07444904753293007, 0.05955923802634405, 0.039706158684229366, 0.009926539671057341, 0.8287705744299433, 0.8420146538003087, 0.667405710172851, 0.3937967197075672, 0.3026122375360949, 0.1122270549802736, 0.09419056400130106, 0.04008109106438343, 0.03907906378777384, 0.009018245489486272, 0.0050101363830479285, 0.0040081091064383435, 0.7760855370116967, 0.7974278183054384, 0.1495177159322697, 0.562758529795995, 0.9071298957579043, 0.032038527087501684, 0.9291172855375489, 0.9836228996976706, 0.14234101451473657, 0.27174193680086073, 0.35585253628684144, 0.058230415028755866, 0.04529032280014345, 0.09705069171459312, 0.02588018445722483, 0.26798299762422795, 0.05359659952484559, 0.10719319904969118, 0.5359659952484559, 0.7626529128879433, 0.26651363800959865, 0.06662840950239966, 0.19988522850719898, 0.03331420475119983, 0.03331420475119983, 0.3664562522631981, 0.8154178524291666, 0.11648826463273809, 0.07672720814551287, 0.3069088325820515, 0.07672720814551287, 0.4603632488730772, 0.07746315491423857, 0.8520947040566241, 0.22109123917334908, 0.03158446273904987, 0.039480578423812335, 0.4816630567705105, 0.20529900780382415, 0.015792231369524935, 0.9079661538310416, 0.14146433355517285, 0.03536608338879321, 0.24756258372155246, 0.6012234176094845, 0.40738401871538754, 0.40331017852823364, 0.054996842526577314, 0.04481224205869263, 0.05092300233942344, 0.020369200935769376, 0.020369200935769376, 0.9728656564768118, 0.20534849604842603, 0.05475959894624694, 0.02737979947312347, 0.7118747863012103, 0.9079765143313754, 0.34132109027834195, 0.19541283794561565, 0.2006238469574987, 0.02866054956535696, 0.05211009011883084, 0.07555963067230471, 0.07555963067230471, 0.01302752252970771, 0.01563302703564925, 0.8965112740042759, 0.18011312422207318, 0.5403393726662196, 0.09005656211103659, 0.18011312422207318, 0.39620403797775283, 0.21895486309296866, 0.1146906425725074, 0.04170568820818451, 0.020852844104092255, 0.04170568820818451, 0.1563963307806919, 0.010426422052046127, 0.13332557229450456, 0.029627904954334344, 0.014813952477167172, 0.7999534337670273, 0.014813952477167172, 0.7589068816005161, 0.961989752530306, 0.021377550056229024, 0.7589067821947508, 0.7795023070767166, 0.13755923066059705, 0.045853076886865685, 0.16625936924217208, 0.047502676926334884, 0.09500535385266977, 0.6412861385055209, 0.031668451284223256, 0.007917112821055814, 0.277852115491825, 0.1635742292814776, 0.03809262873678246, 0.44142634477330256, 0.04033337160365201, 0.03809262873678246, 0.9517774910570064, 0.8548330179840975, 0.07771209254400886, 0.8287705833378803, 0.281662161745863, 0.198820349467668, 0.132546899645112, 0.049705087366917, 0.066273449822556, 0.082841812278195, 0.182251987012029, 0.016568362455639, 0.9219298712823167, 0.9051696348866766, 0.9517755277255844, 0.6940276745927462, 0.9542468749071958, 0.566033394038163, 0.4009403207770321, 0.2567598557148152, 0.31900466922143705, 0.06613511435078573, 0.21785684727317653, 0.021396654642901268, 0.11476387490283407, 0.0038903008441638666, 0.9517819847823363, 0.021738960294051056, 0.9565142529382465, 0.23954247089736247, 0.11977123544868123, 0.12775598447859332, 0.03193899611964833, 0.06387799223929666, 0.3672984553759558, 0.055893243209384574, 0.7156507346969234, 0.8965100711688729, 0.9317148400342344, 0.3685462325797361, 0.23452942073255933, 0.03350420296179419, 0.3685462325797361, 0.03350420296179419, 0.9478746240137447, 0.029652247713467864, 0.05930449542693573, 0.9043935552607698, 0.22841875682682808, 0.09136750273073123, 0.13705125409609686, 0.045683751365365614, 0.3654700109229249, 0.09136750273073123, 0.2566544436451899, 0.17110296243012663, 0.1497150921263608, 0.10693935151882913, 0.021387870303765828, 0.10693935151882913, 0.06416361091129748, 0.12832722182259496, 0.021387870303765828, 0.8287705519920019, 0.9003356325416851, 0.9877102504509829, 0.09666983731409455, 0.8700285358268509, 0.13802686401754624, 0.862667900109664, 0.9002075860510655, 0.911410491669782, 0.39005300536153104, 0.19502650268076552, 0.1300176684538437, 0.03250441711346092, 0.021669611408973947, 0.021669611408973947, 0.010834805704486973, 0.2058613083852525, 0.9079685524707457, 0.13815014369399162, 0.27630028738798323, 0.5526005747759665, 0.6579541524083821, 0.1802614116187348, 0.03605228232374696, 0.05407842348562044, 0.05407842348562044, 0.01802614116187348, 0.7188651505826168, 0.06846334767453494, 0.1026950215118024, 0.03423167383726747, 0.06846334767453494, 0.23796266817817474, 0.2880600720051589, 0.2254383172214287, 0.06888393026210321, 0.07514610574047624, 0.1001948076539683, 0.006262175478373019, 0.038372827549652724, 0.05755924132447909, 0.8825750336420127, 0.038372827549652724, 0.6369338030667074, 0.6369338030823929, 0.06345779808561869, 0.12691559617123738, 0.12691559617123738, 0.6345779808561869, 0.9051696348003138, 0.9635149613922088, 0.9919580869345136, 0.9276553998001483, 0.3993180530079166, 0.16523505641706893, 0.16179265940838, 0.06196314615640085, 0.04475116111295617, 0.07917513119984552, 0.07229033718246766, 0.010327191026066808, 0.003442397008688936, 0.386462244103592, 0.46946084686409495, 0.03371818237145433, 0.03371818237145433, 0.04668671405278292, 0.020749650690125743, 0.0077811190087971535, 0.002593706336265718, 0.17472090298436063, 0.5241627089530819, 0.26208135447654096, 0.2699530744507811, 0.08998435815026036, 0.08998435815026036, 0.5399061489015622, 0.19452535165959683, 0.7348735507140325, 0.010806963981088713, 0.04322785592435485, 0.010806963981088713, 0.9051694904002628, 0.044861549316954796, 0.05981539908927306, 0.02990769954463653, 0.8224617374775046, 0.02990769954463653, 0.014953849772318265, 0.014953849772318265, 0.41482108575075516, 0.23989653151850898, 0.17492455423224615, 0.029987066439813623, 0.044980599659720434, 0.08496335491280527, 0.004997844406635604, 0.1863809817124826, 0.1491047853699861, 0.5591429451374478, 0.11182858902748956, 0.8749633040705088, 0.15698488744022285, 0.08970564996584164, 0.4036754248462874, 0.02242641249146041, 0.11213206245730205, 0.02242641249146041, 0.17941129993168328, 0.9484873556807091, 0.9517034289294632, 0.2846312508382599, 0.621013638192567, 0.03326858776031609, 0.04435811701375479, 0.0036965097511462326, 0.007393019502292465, 0.9173241893497135, 0.03672024260326056, 0.1836012130163028, 0.03672024260326056, 0.7711250946684717, 0.2594480609816815, 0.5641404704724301, 0.036761033163617, 0.02120828836362519, 0.07564289516359651, 0.02757077487271275, 0.010604144181812596, 0.0014138858909083462, 0.002120828836362519, 0.9579962162936013, 0.6369338030667177, 0.22630369877191997, 0.39167947864370767, 0.14361580883602615, 0.052223930485827685, 0.01740797682860923, 0.04787193627867538, 0.10879985517880768, 0.008703988414304614, 0.14311758738180852, 0.24534443551167176, 0.04089073925194529, 0.5622476647142478, 0.8389779751113811, 0.9211024326368915, 0.09211024326368915, 0.11689321316276798, 0.03896440438758932, 0.09741101096897331, 0.09741101096897331, 0.01948220219379466, 0.07792880877517865, 0.29223303290691993, 0.2532686285193306, 0.6369337654531536, 0.6674056908307058, 0.9227307262990819, 0.9580179649285955, 0.9580348306026909, 0.9492425041657707, 0.9003355261812919, 0.2940247480421056, 0.24012021090105293, 0.026952268570526346, 0.39203299738947417, 0.024502062336842136, 0.00735061870105264, 0.0024502062336842134, 0.009800824934736854, 0.9825541557750602, 0.3013295961632443, 0.22048507036334947, 0.10289303283622975, 0.07349502345444982, 0.014699004690889965, 0.19108706098156955, 0.06614552110900485, 0.02939800938177993, 0.8984776764965109, 0.8441178881501987, 0.07849679427190838, 0.8634647369909922, 0.8616949193624749, 0.09574387992916387, 0.45781743239611267, 0.38321014711674617, 0.030521162159740847, 0.016956201199856025, 0.050868603599568074, 0.037303642639683256, 0.023738681679798434, 0.003391240239971205, 0.5325660234163336, 0.29131816665508853, 0.04551846353985758, 0.07738138801775789, 0.054622156247829096, 0.2943998002561633, 0.6098281576734811, 0.01911687014650411, 0.01911687014650411, 0.04779217536626027, 0.009558435073252054, 0.9117274190029443, 0.4083986886717807, 0.17078490617183556, 0.24132649785150675, 0.07425430703123286, 0.018563576757808214, 0.04455258421873971, 0.018563576757808214, 0.022276292109369857, 0.8680562666009304, 0.2001375981568263, 0.7204953533645747, 0.05337002617515368, 0.01334250654378842, 0.7589056749928618, 0.9457582129326778, 0.29041027169589717, 0.45981626351850385, 0.058082054339179436, 0.014520513584794859, 0.11132393748342725, 0.029041027169589718, 0.038721369559452955, 0.8749632652822856, 0.9478744731659917, 0.8772479615481712, 0.051602821267539484, 0.051602821267539484, 0.24954222357476344, 0.1767590750321241, 0.3951085206600421, 0.03119277794684543, 0.010397592648948475, 0.0415903705957939, 0.09357833384053628, 0.887568519813832, 0.9234262300423961, 0.06156174866949307, 0.9757174911139633, 0.18909100254895317, 0.7219838279141848, 0.03438018228162785, 0.04297522785203481, 0.008595045570406962, 0.2457863932617241, 0.7089992113318965, 0.01890664563551724, 0.01890664563551724, 0.14306005648454134, 0.14306005648454134, 0.07153002824227067, 0.6437702541804361, 0.7156507347173913, 0.9721694719862213, 0.05846853279721411, 0.17540559839164233, 0.11693706559442822, 0.07795804372961881, 0.5846853279721411, 0.9051696347254182, 0.9071299420464093, 0.19082397978036128, 0.7251311231653729, 0.06360799326012043, 0.012721598652024086, 0.9003355255597223, 0.5284050017671289, 0.33968892970744, 0.06605062522089111, 0.028307410808953333, 0.014153705404476667, 0.0047179018014922225, 0.009435803602984445, 0.014153705404476667, 0.3311453851824522, 0.29435145349551306, 0.10302300872342958, 0.04415271802432696, 0.05151150436171479, 0.09566422238604175, 0.058870290699102615, 0.018396965843469566, 0.0036793931686939134, 0.058885715213876956, 0.8832857282081543, 0.029442857606938478, 0.8518861438733771, 0.5756231716921191, 0.29286091191353425, 0.020197304269898915, 0.04039460853979783, 0.050493260674747284, 0.020197304269898915, 0.010098652134949457, 0.6674060103753219, 0.09614792122325148, 0.7691833697860119, 0.04807396061162574, 0.04807396061162574, 0.04807396061162574, 0.27558799821219876, 0.27293811361400455, 0.16164296048984736, 0.06094734575846704, 0.0556475765620786, 0.047697922767495946, 0.09539584553499189, 0.013249422990971095, 0.015899307589165315, 0.08341258895830163, 0.18767832515617866, 0.020853147239575407, 0.020853147239575407, 0.667300711666413, 0.9670584322184338, 0.9478741177947625, 0.8287705951833481, 0.2844306258265009, 0.5670553429175955, 0.0361181747081271, 0.023476813560282615, 0.0681730547615899, 0.008578066493180186, 0.009932498044734953, 0.0013544315515547664, 0.0013544315515547664, 0.9327921960632858, 0.34499576967689727, 0.1061525445159684, 0.0530762722579842, 0.47768645032185775, 0.0265381361289921, 0.9173237318500955, 0.8984776765302877, 0.4139260861934521, 0.4910019781053363, 0.025691963970628062, 0.0628025785948686, 0.005709325326806236, 0.9051696347575459, 0.09534278429889179, 0.05720567057933507, 0.009534278429889178, 0.6960023253819101, 0.05720567057933507, 0.07627422743911343, 0.019068556859778357, 0.009534278429889178, 0.8984776729503436, 0.09723930593786616, 0.02917179178135985, 0.7001230027526364, 0.01944786118757323, 0.126411097719226, 0.01944786118757323, 0.01944786118757323, 0.5181163571049491, 0.3454109047366327, 0.23944501994389553, 0.1004124277184078, 0.08496436191557583, 0.06951629611274386, 0.47116600698637506, 0.023172098704247954, 0.007724032901415985, 0.7609358822322967, 0.8384869062371455, 0.10481086327964319, 0.947874623985013, 0.24402937944706274, 0.13944535968403585, 0.12201468972353137, 0.06972267984201792, 0.052292009881513446, 0.06972267984201792, 0.20916803952605378, 0.08715334980252241, 0.01743066996050448, 0.2777480115177261, 0.12285008201745579, 0.0213652316552097, 0.5074242518112304, 0.037389155396616976, 0.0213652316552097, 0.005341307913802425, 0.01068261582760485, 0.9003356325066949, 0.9219298712684387, 0.9056618034195344, 0.7139164063338155, 0.25197049635311136, 0.6369338030928033, 0.6369338030868062, 0.8858959060279399, 0.7589068816111677, 0.1715067633361555, 0.30663330414645984, 0.19229546192235616, 0.020788698586200666, 0.025985873232750832, 0.005197174646550166, 0.2702530816206087, 0.005197174646550166, 0.005197174646550166, 0.924585039556514, 0.9181182522141512, 0.05738239076338445, 0.8287704097950055, 0.928142336639214, 0.9143240688110443, 0.1457113832781514, 0.2914227665563028, 0.09714092218543427, 0.048570461092717135, 0.3885636887417371, 0.9584376055975498, 0.0433539051258845, 0.8454011499547478, 0.0433539051258845, 0.06503085768882676, 0.8420146537384343, 0.8420146536939086, 0.07339996942760678, 0.03669998471380339, 0.8807996331312814, 0.02973717120178774, 0.08921151360536321, 0.6244805952375425, 0.2676345408160896, 0.9824970044004406, 0.9598449155173243, 0.8420146539399241, 0.9517044624632693, 0.8441795704042171, 0.9003356026212396, 0.9003356026981512, 0.8441177861612436, 0.9231155438508521], \"Term\": [\"$\", \"$\", \"$\", \"*\", \"*\", \"*\", \"*\", \"*\", \"*\", \"*\", \"*\", \"*\", \"-------\", \"-ambre\", \"-bouille-\", \"-hakim\", \"-kassim\", \"-moi\", \"-rire-\", \"-sourire\", \"-sourire-\", \"04h00\", \"06h00\", \"30cl\", \"70cl\", \"7j\", \"<\", \"<\", \"<\", \"<\", \"<\", \"<\", \"<\", \"<\", \">\", \">\", \">\", \">\", \">\", \">\", \">\", \"^^\", \"^^\", \"^^\", \"^^\", \"^^\", \"^^\", \"^^\", \"_\", \"_\", \"_\", \"_\", \"_\", \"a-robot-under-the-rain\", \"a3lem\", \"abidjan\", \"abonne\", \"accepter\", \"accepter\", \"accepter\", \"accepter\", \"accepter\", \"accepter\", \"additif\", \"additif\", \"additif\", \"admin\", \"admin\", \"aimer\", \"aimer\", \"aimer\", \"aimer\", \"aimer\", \"aimer\", \"aimer\", \"aimer\", \"aimer\", \"ajouter\", \"ajouter\", \"ajouter\", \"ajouter\", \"ajouter\", \"ajouter\", \"ajouter\", \"ajouter\", \"ajouter\", \"alaykoum\", \"alaykoum\", \"alexy\", \"alger\", \"alger\", \"alg\\u00e9rie\", \"alg\\u00e9rie\", \"alg\\u00e9rien\", \"alg\\u00e9rien\", \"aliment\", \"aliment\", \"aliment\", \"allah\", \"allah\", \"allah\", \"allah\", \"allah\", \"aller\", \"aller\", \"aller\", \"aller\", \"aller\", \"aller\", \"aller\", \"aller\", \"aller\", \"aller\", \"amapura\", \"ambre\", \"ambre\", \"ambre\", \"americansandwichabidjan\", \"americanyummies\", \"ana\\u00efs\", \"and\", \"and\", \"and\", \"and\", \"and\", \"and\", \"and\", \"and\", \"angel\", \"angel\", \"angel\", \"anne\", \"anne\", \"anne\", \"anniversaire\", \"anniversaire\", \"anniversaire\", \"anniversaire\", \"anniversaire\", \"anniversaire\", \"anniversaire\", \"appara\\u00eetre\", \"appara\\u00eetre\", \"araign\\u00e9e\", \"arrow\", \"arrow\", \"arrow\", \"arrow\", \"arrow\", \"arrow\", \"artist\", \"artist\", \"asseoir\", \"asseoir\", \"asseoir\", \"asseoir\", \"asseoir\", \"augmenter\", \"augmenter\", \"autre\", \"autre\", \"autre\", \"autre\", \"autre\", \"autre\", \"autre\", \"autre\", \"autre\", \"babychou\", \"badigeonner\", \"bailey's\", \"bar\", \"bar\", \"bar\", \"bar\", \"bar\", \"bar\", \"bar\", \"barakatouh\", \"barbie\", \"beautiful-wildlife\", \"bestiole\", \"beurre\", \"beurre\", \"beurre\", \"beurre\", \"beurre\", \"beurre\", \"beurre\", \"billet\", \"billet\", \"billet\", \"billet\", \"billet\", \"blanche\", \"bon\", \"bon\", \"bon\", \"bon\", \"bon\", \"bon\", \"bon\", \"bon\", \"bon\", \"bonjour\", \"bonjour\", \"bonjour\", \"bonjour\", \"bonjour\", \"bonjour\", \"bonjour\", \"bonjour\", \"bovin\", \"bretzel\", \"brocciu\", \"brut\", \"ca\", \"ca\", \"ca\", \"ca\", \"ca\", \"ca\", \"ca\", \"cake\", \"cake\", \"cake\", \"cake\", \"cake\", \"cake\", \"cake\", \"cake\", \"cakelover\", \"cakelover\", \"cal\", \"calcul\", \"canc\\u00e9rig\\u00e8ne\", \"caresser\", \"caresser\", \"cascade\", \"casserole\", \"casserole\", \"castiel\", \"challenger\", \"charrier\", \"charrier\", \"chatouille\", \"chirurgie\", \"chocolat\", \"chocolat\", \"chocolat\", \"chocolat\", \"chocolat\", \"chocolat\", \"chocolat\", \"chocolat\", \"chocolate\", \"chocolate\", \"chocolate\", \"chocolate\", \"chocolate\", \"chocolate\", \"chocolate\", \"circle\", \"circle\", \"circle\", \"cl\", \"classique\", \"classique\", \"classique\", \"classique\", \"clic\", \"clic\", \"clip\", \"clip\", \"closed\", \"closed\", \"closed\", \"closed\", \"closed\", \"cocotte\", \"cocotte\", \"cocotte\", \"cocotte\", \"collier\", \"collier\", \"communaut\\u00e9\", \"communaut\\u00e9\", \"communaut\\u00e9\", \"cong\\u00e9lateur\", \"cong\\u00e9lateur\", \"contenir\", \"contenir\", \"contenir\", \"contenir\", \"contenir\", \"contenir\", \"convenir\", \"convenir\", \"convertir\", \"cook'in\", \"cook'in\", \"coran\", \"coran\", \"corp\", \"cotedivoire\", \"cou\", \"cou\", \"cou\", \"country\", \"coup\", \"coup\", \"coup\", \"coup\", \"coup\", \"coup\", \"coup\", \"coup\", \"coup\", \"cour\", \"cour\", \"cour\", \"cour\", \"cour\", \"cour\", \"cp\", \"cran\", \"cran\", \"crown\", \"crown\", \"crown\", \"crown\", \"crown\", \"crunch\", \"crying\", \"crying\", \"crying\", \"crying\", \"crying\", \"crying\", \"crying\", \"cr\\u00e8me\", \"cr\\u00e8me\", \"cr\\u00e8me\", \"cr\\u00e8me\", \"cr\\u00e8me\", \"cr\\u00e8me\", \"cr\\u00e8me\", \"cr\\u00eape\", \"cr\\u00eape\", \"cr\\u00eape\", \"cr\\u00eape\", \"cr\\u00eape\", \"cr\\u00eape\", \"cr\\u00eape\", \"cr\\u00eape\", \"cuiller\\u00e9e\", \"cuill\\u00e8re\", \"cuill\\u00e8re\", \"cuill\\u00e8re\", \"cuill\\u00e8re\", \"cuill\\u00e8re\", \"cuill\\u00e8re\", \"cuire\", \"cuire\", \"cuire\", \"cuire\", \"cuire\", \"cupcakes\", \"cupcakes\", \"cupcakes\", \"cupcakes\", \"cupcakes\", \"cuve\", \"c\\u00e2liner\", \"c\\u00f4t\\u00e9\", \"c\\u00f4t\\u00e9\", \"c\\u00f4t\\u00e9\", \"c\\u00f4t\\u00e9\", \"c\\u00f4t\\u00e9\", \"c\\u00f4t\\u00e9\", \"c\\u00f4t\\u00e9\", \"c\\u00f4t\\u00e9\", \"c\\u00f4t\\u00e9\", \"c\\u0153ur\", \"c\\u0153ur\", \"c\\u0153ur\", \"c\\u0153ur\", \"c\\u0153ur\", \"c\\u0153ur\", \"c\\u0153ur\", \"c\\u0153ur\", \"c\\u0153ur\", \"c\\u2019est\", \"c\\u2019est\", \"c\\u2019est\", \"c\\u2019est\", \"c\\u2019est\", \"c\\u2019est\", \"c\\u2019est\", \"c\\u2019est\", \"dancer\", \"deadmutation\", \"delicious\", \"delicious\", \"delicious\", \"delicious\", \"delicious\", \"delicious\", \"delicious\", \"delicious\", \"demander\", \"demander\", \"demander\", \"demander\", \"demander\", \"demander\", \"demander\", \"demander\", \"demander\", \"dessert\", \"dessert\", \"dessert\", \"dessert\", \"dessert\", \"dessert\", \"dessert\", \"dessertgasm\", \"dessertgasm\", \"digital\", \"dimanche\", \"dimanche\", \"dimanche\", \"dimanche\", \"dimanche\", \"dimanche\", \"dimanche\", \"dimanche\", \"dire\", \"dire\", \"dire\", \"dire\", \"dire\", \"dire\", \"dire\", \"dire\", \"dire\", \"dispos\", \"disque\", \"diyvideos\", \"diyvideos\", \"djazaiiri\", \"djibril\", \"djibril\", \"dormir\", \"dormir\", \"dormir\", \"dormir\", \"dormir\", \"dormir\", \"dormir\", \"dormir\", \"doudou\", \"down-pointing\", \"down-pointing\", \"ds\", \"ds\", \"ds\", \"ds\", \"d\\u00e9jeuner\", \"d\\u00e9jeuner\", \"d\\u00e9jeuner\", \"d\\u00e9jeuner\", \"d\\u00e9jeuner\", \"d\\u00e9jeuner\", \"d\\u00e9jeuner\", \"d\\u00e9jeuner\", \"d\\u00e9mouler\", \"d\\u2019alcool\", \"d\\u2019alimentation\", \"d\\u2019\\u0153ufs\", \"e\", \"e\", \"e\", \"e\", \"e\", \"e\", \"e471\", \"echo\", \"effervecent\", \"emmerder\", \"emmerder\", \"emmerder\", \"emmerder\", \"emoji\", \"emoji\", \"emoji\", \"emoji\", \"emoji\", \"empreinte\", \"enfouir\", \"enfourner\", \"enfourner\", \"english\", \"enlacer\", \"ensoleill\\u00e9\", \"err\", \"err\", \"err\", \"err\", \"err\", \"err\", \"esth\\u00e9tique\", \"et\", \"et\", \"et\", \"et\", \"et\", \"et\", \"et\", \"et\", \"excuser\", \"exp\\u00e9rience\", \"exp\\u00e9rience\", \"exp\\u00e9rience\", \"exp\\u00e9rience\", \"exp\\u00e9rience\", \"exp\\u00e9rience\", \"exp\\u00e9rience\", \"eyes\", \"eyes\", \"eyes\", \"eyes\", \"eyes\", \"eyes\", \"eyes\", \"eyes\", \"eyes\", \"f\", \"f\", \"f\", \"f\", \"face\", \"face\", \"face\", \"face\", \"face\", \"face\", \"face\", \"face\", \"face\", \"faitmaison\", \"faitmaison\", \"faitmaison\", \"faitmaison\", \"falloir\", \"falloir\", \"falloir\", \"falloir\", \"falloir\", \"falloir\", \"falloir\", \"falloir\", \"falloir\", \"farine\", \"farine\", \"farine\", \"farine\", \"fariner\", \"fashionblogger\", \"fashionblogger\", \"favori\", \"favori\", \"fear\", \"fear\", \"fear\", \"fear\", \"fear\", \"fearful\", \"fearful\", \"ferrero\", \"ferrero\", \"ferrero\", \"ferrero\", \"ferrero\", \"feuille\", \"feuille\", \"feuille\", \"feuille\", \"fitfam\", \"fitfam\", \"fitfam\", \"fitfam\", \"fitfam\", \"fitness\", \"fitness\", \"fitness\", \"fitness\", \"fitzpatrick\", \"fitzpatrick\", \"fitzpatrick\", \"fitzpatrick\", \"fitzpatrick\", \"flexed\", \"flexed\", \"flexed\", \"flexed\", \"fonction\", \"fonction\", \"fonction\", \"food\", \"food\", \"food\", \"food\", \"food\", \"food\", \"food\", \"food\", \"food\", \"foodlover\", \"foodlover\", \"foodlover\", \"foodporn\", \"foodporn\", \"foodporn\", \"foodporn\", \"foodporn\", \"foodporn\", \"foodporn\", \"foodporn\", \"forcement\", \"forcement\", \"formateur\", \"forum\", \"forum\", \"forum\", \"forum\", \"fouet\", \"fouetter\", \"fouetter\", \"fouetter\", \"four\", \"four\", \"four\", \"four\", \"four\", \"four\", \"francais\", \"francais\", \"fr\\u00e8re\", \"fr\\u00e8re\", \"fr\\u00e8re\", \"fr\\u00e8re\", \"fr\\u00e8re\", \"fr\\u00e8re\", \"fr\\u00e8re\", \"fr\\u00e8re\", \"fr\\u00e8re\", \"fr\\u00e9mir\", \"ft\", \"ft\", \"g\", \"g\", \"g\", \"g\", \"g\", \"g35\", \"g4\", \"gallimard\", \"genou\", \"genou\", \"genou\", \"genou\", \"genou\", \"gens\", \"gens\", \"gens\", \"gens\", \"gens\", \"gens\", \"gens\", \"giornata\", \"glace\", \"glace\", \"glace\", \"glace\", \"glace\", \"glace\", \"glace\", \"glace\", \"gourmandise\", \"gourmandise\", \"gourmandise\", \"gourmandise\", \"gourmandise\", \"gourmandise\", \"gourmandise\", \"go\\u00fbter\", \"go\\u00fbter\", \"go\\u00fbter\", \"go\\u00fbter\", \"go\\u00fbter\", \"go\\u00fbter\", \"grand\", \"grand\", \"grand\", \"grand\", \"grand\", \"grand\", \"grand\", \"grand\", \"grand\", \"greenwich\", \"gt\", \"gt\", \"gt\", \"gt\", \"gt\", \"gueule\", \"gueule\", \"gueule\", \"gueule\", \"gueule\", \"gugulcl\", \"guillemot\", \"guinness\", \"g\\u00e2teau\", \"g\\u00e2teau\", \"g\\u00e2teau\", \"g\\u00e2teau\", \"g\\u00e2teau\", \"g\\u00e2teau\", \"g\\u00e2teau\", \"g\\u00e9mir\", \"hacher\", \"hacher\", \"hacher\", \"hacher\", \"hakim-\", \"hand\", \"hand\", \"hand\", \"hand\", \"hand\", \"hand\", \"hausser\", \"healthy\", \"healthy\", \"healthy\", \"healthy\", \"healthy\", \"healthy\", \"healthy\", \"heart-shaped\", \"heart-shaped\", \"heart-shaped\", \"heart-shaped\", \"heart-shaped\", \"heart-shaped\", \"heart-shaped\", \"heart-shaped\", \"heaven\", \"heure\", \"heure\", \"heure\", \"heure\", \"heure\", \"heure\", \"heure\", \"heure\", \"heure\", \"hijrah\", \"homog\\u00e8ne\", \"homog\\u00e8ne\", \"house\", \"huile\", \"huile\", \"huile\", \"huile\", \"huile\", \"huile\", \"huile\", \"huiledepalmenonmerci\", \"huiledepalmenonmerci\", \"hummmm\", \"hundred\", \"hundred\", \"icatnightmare\", \"ice\", \"ice\", \"ice\", \"ice\", \"ice\", \"ice\", \"ice\", \"id\\u00e9e\", \"id\\u00e9e\", \"id\\u00e9e\", \"id\\u00e9e\", \"id\\u00e9e\", \"id\\u00e9e\", \"id\\u00e9e\", \"id\\u00e9e\", \"il\", \"il\", \"il\", \"il\", \"il\", \"il\", \"il\", \"il\", \"il\", \"ilm\", \"imdead-wannahook-up\", \"in\", \"in\", \"in\", \"in\", \"in\", \"in\", \"in\", \"incertain\", \"ingredients\", \"inn\", \"instablog\", \"instacook\", \"instacook\", \"instacook\", \"instafood\", \"instafood\", \"instafood\", \"instafood\", \"instafood\", \"instafood\", \"instafood\", \"instagramideia\", \"interdire\", \"interdire\", \"interdire\", \"interdire\", \"interdire\", \"interdire\", \"interdire\", \"inucestlover\", \"invasormental\", \"investir\", \"investir\", \"iris\", \"irish\", \"irlandais\", \"itachi\", \"ivorycoast\", \"j'\", \"j'\", \"j'\", \"j'\", \"j'\", \"j'\", \"j'\", \"j'\", \"jaidefinichongg\", \"jajajajajajajajaajajajajajajaja\", \"jaune\", \"jaune\", \"jaune\", \"jaune\", \"jehanjetaime\", \"jour\", \"jour\", \"jour\", \"jour\", \"jour\", \"jour\", \"jour\", \"jour\", \"journ\\u00e9e\", \"journ\\u00e9e\", \"journ\\u00e9e\", \"journ\\u00e9e\", \"journ\\u00e9e\", \"journ\\u00e9e\", \"journ\\u00e9e\", \"journ\\u00e9e\", \"joy\", \"joy\", \"joy\", \"joy\", \"joy\", \"joy\", \"jte\", \"juillet\", \"juillet\", \"juillet\", \"juillet\", \"juillet\", \"juillet\", \"juin\", \"juin\", \"juin\", \"juin\", \"juin\", \"juin\", \"julien-\", \"jusqu'\", \"jusqu'\", \"jvous\", \"j\\u00e9r\\u00e9my\", \"j\\u00f6nsson\", \"j\\u2019adore\", \"j\\u2019adore\", \"j\\u2019adore\", \"j\\u2019ai\", \"j\\u2019ai\", \"j\\u2019ai\", \"j\\u2019ai\", \"j\\u2019ai\", \"j\\u2019ai\", \"j\\u2019ai\", \"j\\u2019aime\", \"j\\u2019aime\", \"j\\u2019aime\", \"j\\u2019aime\", \"j\\u2019utilise\", \"j\\u2019utilise\", \"j\\u2019utilise\", \"k\", \"k\", \"k\", \"kassim\", \"kev\", \"kim\", \"kim\", \"kiss\", \"kiss\", \"kiss\", \"kiss\", \"kiss\", \"kiss\", \"kiss\", \"kitkat\", \"kitkat\", \"kitkat\", \"la-papa-viviente\", \"laisser\", \"laisser\", \"laisser\", \"laisser\", \"laisser\", \"laisser\", \"laisser\", \"laisser\", \"lait\", \"lait\", \"lait\", \"lait\", \"lait\", \"lait\", \"lait\", \"lait\", \"large\", \"large\", \"large\", \"large\", \"leicester\", \"lever\", \"lever\", \"lever\", \"lever\", \"lever\", \"lever\", \"lever\", \"levure\", \"levure\", \"levure\", \"likeforlike\", \"likeforlike\", \"likeforlike\", \"likeforlike\", \"lipstick\", \"liquide\", \"liquide\", \"liquide\", \"liquide\", \"livraison\", \"livraison\", \"livraison\", \"livraison\", \"livraison\", \"livraison\", \"livraison\", \"livraison\", \"london\", \"london\", \"londres\", \"loudly\", \"loudly\", \"loudly\", \"loudly\", \"loudly\", \"loudly\", \"loudly\", \"lovely\", \"lucemorta\", \"lysandre\", \"l\\u2019air\", \"l\\u2019air\", \"l\\u2019alimentation\", \"l\\u2019h\\u00f4pital\", \"l\\u2019h\\u00f4tel\", \"m\", \"m\", \"m\", \"m\", \"m\", \"magnifique\", \"magnifique\", \"magnifique\", \"magnifique\", \"magnifique\", \"magnifique\", \"magnifique\", \"magnifique\", \"maison\", \"maison\", \"maison\", \"maison\", \"maison\", \"maison\", \"maison\", \"mam's\", \"management\", \"manda\", \"mander\", \"manger\", \"manger\", \"manger\", \"manger\", \"manger\", \"manger\", \"manger\", \"manger\", \"manger\", \"mashaykh\", \"massage\", \"maths\", \"maths\", \"matin\", \"matin\", \"matin\", \"matin\", \"matin\", \"matin\", \"matin\", \"matt\", \"matt\", \"matt-\", \"merci\", \"merci\", \"merci\", \"merci\", \"merci\", \"merci\", \"merci\", \"merci\", \"merci\", \"messages\", \"messages\", \"messages\", \"mettre\", \"mettre\", \"mettre\", \"mettre\", \"mettre\", \"mettre\", \"mettre\", \"mettre\", \"mettre\", \"mettre\", \"miauler\", \"min\", \"min\", \"min\", \"min\", \"min\", \"min\", \"ministre\", \"minute\", \"minute\", \"minute\", \"minute\", \"minute\", \"minute\", \"minute\", \"min\\u00e9ral\", \"miseiscoppiatodentroilcuore\", \"ml\", \"ml\", \"ml\", \"modifier\", \"modifier\", \"modifier\", \"modifier\", \"modifier\", \"mod\\u00e9rateur\", \"mod\\u00e9rateur\", \"mod\\u00e9ration\", \"mod\\u00e9ration\", \"mod\\u00e9ration\", \"moh\", \"moi\", \"moi\", \"moi\", \"moi\", \"moi\", \"moi\", \"moi\", \"moi\", \"moi\", \"moi-\", \"mojito\", \"monde\", \"monde\", \"monde\", \"monde\", \"monde\", \"monde\", \"monde\", \"monde\", \"morgane\", \"morgane\", \"morgane\", \"motivation\", \"motivation\", \"motivation\", \"motivation\", \"motivation\", \"moule\", \"moule\", \"moule\", \"moule\", \"mouth\", \"mouth\", \"mouth\", \"mouth\", \"mouth\", \"mouth\", \"mouth\", \"mus\\u00e9e\", \"m\\u00e9lange\", \"m\\u00e9lange\", \"m\\u00e9lange\", \"m\\u00e9lange\", \"m\\u00e9lange\", \"m\\u00e9langer\", \"m\\u00e9langer\", \"m\\u00e9langer\", \"m\\u00e9langer\", \"m\\u00e9langer\", \"m\\u00e9langer\", \"m\\u00e9langer\", \"m\\u00e9tro\", \"m\\u00e9tro\", \"m\\u00e9tro\", \"m\\u00e9tro\", \"m\\u00eame\", \"m\\u00eame\", \"m\\u00eame\", \"m\\u00eame\", \"m\\u00eame\", \"m\\u00eame\", \"m\\u00eame\", \"m\\u00eame\", \"m\\u00eame\", \"na'am\", \"naoparis\", \"naruchigotsu\", \"naruto\", \"nn\", \"nn\", \"nn\", \"nn\", \"nn\", \"nouveau\", \"nouveau\", \"nouveau\", \"nouveau\", \"nouveau\", \"nouveau\", \"nouveau\", \"nouveau\", \"nouveau\", \"nowa\", \"no\\u00e9\", \"nutella\", \"nutella\", \"nutella\", \"nutella\", \"nutella\", \"nutella\", \"nutella\", \"nutella\", \"nutella\", \"objectifbikini\", \"obtenir\", \"obtenir\", \"obtenir\", \"obtenir\", \"of\", \"of\", \"of\", \"of\", \"of\", \"of\", \"officiel\", \"ogame\", \"ola\", \"open\", \"open\", \"open\", \"open\", \"open\", \"open\", \"open\", \"oxyg\\u00e8ne\", \"oz\", \"pain\", \"pain\", \"pain\", \"pain\", \"pain\", \"pain\", \"pain\", \"pain\", \"palme\", \"palme\", \"palme\", \"palme\", \"palme\", \"palme\", \"palme\", \"palme\", \"pal\\u00e9o\", \"pal\\u00e9o\", \"pal\\u00e9o\", \"pal\\u00e9olithique\", \"pannini\", \"participate\", \"partir\", \"partir\", \"partir\", \"partir\", \"partir\", \"partir\", \"partir\", \"partir\", \"partir\", \"pass\", \"passer\", \"passer\", \"passer\", \"passer\", \"passer\", \"passer\", \"passer\", \"passer\", \"passer\", \"paul\", \"paul\", \"paul\", \"pel\\u00e9\", \"penser\", \"penser\", \"penser\", \"penser\", \"penser\", \"penser\", \"penser\", \"penser\", \"penser\", \"persil\", \"personnalisez\", \"pervers-\", \"petit\", \"petit\", \"petit\", \"petit\", \"petit\", \"petit\", \"petit\", \"petit\", \"petit\", \"piccadilly\", \"picofinstagram\", \"picofinstagram\", \"pince\", \"pinceau\", \"pinc\\u00e9e\", \"pinc\\u00e9e\", \"piroulie\", \"plat\", \"plat\", \"plat\", \"plat\", \"plat\", \"plat\", \"plat\", \"poireau\", \"poireau\", \"poireau\", \"poireau\", \"policier\", \"porc\", \"porc\", \"porc\", \"porc\", \"porc\", \"porc\", \"port\", \"port\", \"poste\", \"poste\", \"poste\", \"poste\", \"posted\", \"posted\", \"poster\", \"poster\", \"poster\", \"poster\", \"poster\", \"poster\", \"postres\", \"post\\u00e9\", \"post\\u00e9\", \"post\\u00e9\", \"post\\u00e9\", \"pot\", \"pot\", \"pot\", \"pot\", \"pot\", \"pot\", \"pot\", \"potimarron\", \"poudre\", \"poudre\", \"poudre\", \"poudre\", \"pregnancy\", \"prendre\", \"prendre\", \"prendre\", \"prendre\", \"prendre\", \"prendre\", \"prendre\", \"prendre\", \"prendre\", \"pretty\", \"princess\", \"princess\", \"princess\", \"princess\", \"produit\", \"produit\", \"produit\", \"produit\", \"produit\", \"produit\", \"produit\", \"produit\", \"prof\", \"prof\", \"prof\", \"prof\", \"prof\", \"proph\\u00e8te\", \"pr\\u00e9chauffer\", \"pr\\u00e9chauffer\", \"pr\\u00e9historique\", \"pr\\u00e9nom\", \"pr\\u00e9nom\", \"pr\\u00e9nom\", \"pr\\u00e9paration\", \"pr\\u00e9paration\", \"pr\\u00e9paration\", \"pr\\u00e9paration\", \"pr\\u00e9paration\", \"pr\\u00e9paration\", \"p\\u00e2te\", \"p\\u00e2te\", \"p\\u00e2te\", \"p\\u00e2te\", \"p\\u00e2te\", \"p\\u00e2te\", \"p\\u00e9trir\", \"p\\u00eache\", \"p\\u00eache\", \"qadehar\", \"question\", \"question\", \"question\", \"question\", \"question\", \"question\", \"question\", \"question\", \"qu\\u2019allah\", \"rahmatoullah\", \"ramollir\", \"ratio\", \"ravito\", \"reblogu\\u00e9\", \"reblogu\\u00e9\", \"recette\", \"recette\", \"recette\", \"recette\", \"recette\", \"recette\", \"recette\", \"rectangle\", \"refroidir\", \"refroidir\", \"regarder\", \"regarder\", \"regarder\", \"regarder\", \"regarder\", \"regarder\", \"regarder\", \"relationnel\", \"relou\", \"reproduction\", \"revolving\", \"revolving\", \"revolving\", \"revolving\", \"revolving\", \"riant\", \"ricotta\", \"ricotta\", \"ricotta\", \"rigoler\", \"rigoler\", \"rigoler\", \"rigoler\", \"rigoler\", \"rigoler\", \"rire\", \"rire\", \"rire\", \"rire\", \"rire\", \"rire\", \"rire\", \"rire\", \"rire\", \"romarin\", \"roo\", \"rosa\", \"roser\", \"roser\", \"run\", \"run\", \"ryan\", \"r\\u00e9cipient\", \"r\\u00e9gime\", \"r\\u00e9gime\", \"r\\u00e9gime\", \"r\\u00e9gime\", \"r\\u00e9gime\", \"r\\u00e9gime\", \"r\\u00e9gime\", \"r\\u00e9gime\", \"r\\u00e9viser\", \"r\\u00f4le\", \"r\\u00f4le\", \"r\\u00f4le\", \"s\", \"s\", \"s\", \"s\", \"s\", \"s\", \"sain\", \"sain\", \"sain\", \"sain\", \"sain\", \"salade\", \"salade\", \"salade\", \"salade\", \"salade\", \"salade\", \"salade\", \"saladier\", \"saladier\", \"saladier\", \"saladier\", \"salafi\", \"salafya\", \"salam\", \"salam\", \"salam\", \"salam\", \"salem\", \"salim\", \"sasuke\", \"savant\", \"savoir\", \"savoir\", \"savoir\", \"savoir\", \"savoir\", \"savoir\", \"savoir\", \"savoir\", \"savoir\", \"savouring\", \"savouring\", \"savouring\", \"savouring\", \"savouring\", \"savouring\", \"savouring\", \"savouring\", \"science\", \"science\", \"science\", \"scientifique\", \"scientifique\", \"scientifique\", \"scientifique\", \"screaming\", \"screaming\", \"screaming\", \"screaming\", \"screaming\", \"seignalet\", \"sel\", \"sel\", \"sel\", \"sel\", \"sel\", \"sel\", \"sel\", \"semaine\", \"semaine\", \"semaine\", \"semaine\", \"semaine\", \"semaine\", \"semaine\", \"sembler\", \"sembler\", \"sembler\", \"sembler\", \"serre\", \"service\", \"service\", \"service\", \"service\", \"service\", \"service\", \"service\", \"sheikh\", \"sigam\", \"sign\", \"sign\", \"sign\", \"sign\", \"sign\", \"sign\", \"singe\", \"slightly\", \"slightly\", \"slightly\", \"slightly\", \"smiling\", \"smiling\", \"smiling\", \"smiling\", \"smiling\", \"smiling\", \"smiling\", \"smiling\", \"smiling\", \"sobremesa\", \"soif\", \"sortir\", \"sortir\", \"sortir\", \"sortir\", \"sortir\", \"sortir\", \"sortir\", \"sortir\", \"soupe\", \"soupe\", \"soupe\", \"soupe\", \"soupir\", \"soupirer\", \"soupirer\", \"sourire\", \"sourire\", \"sourire\", \"sourire\", \"sourire\", \"sourire\", \"sourire\", \"sourire\", \"soutien-gorge\", \"speedymomentum\", \"spice\", \"sportaddict\", \"squat\", \"staff\", \"standard\", \"sucre\", \"sucre\", \"sucre\", \"sucre\", \"sucre\", \"sucre\", \"sucre\", \"sucre\", \"sulfuris\\u00e9\", \"super\", \"super\", \"super\", \"super\", \"super\", \"super\", \"super\", \"super\", \"synopsis\", \"ta'ala\", \"tabasco\", \"tabasco\", \"tartinade\", \"tartinade\", \"tartine\", \"tartine\", \"tartine\", \"tartine\", \"tartine\", \"tartine\", \"tartine\", \"tartine\", \"tartiner\", \"tartiner\", \"tartiner\", \"tartiner\", \"tartiner\", \"tears\", \"tears\", \"tears\", \"tears\", \"tears\", \"tears\", \"teinte\", \"temps\", \"temps\", \"temps\", \"temps\", \"temps\", \"temps\", \"temps\", \"temps\", \"tesco\", \"thumbs\", \"thumbs\", \"thumbs\", \"thumbs\", \"timoth\\u00e9e\", \"toile\", \"tongue\", \"tongue\", \"tongue\", \"tongue\", \"tongue\", \"tongue\", \"tongue\", \"totote\", \"trail\", \"triangle\", \"triangle\", \"triangle\", \"tu\", \"tu\", \"tu\", \"tu\", \"tu\", \"tu\", \"tu\", \"tuesday\", \"tutorial\", \"tutorial\", \"tyler\", \"type-1-2\", \"type-1-2\", \"type-1-2\", \"type-1-2\", \"type-1-2\", \"type-3\", \"type-3\", \"type-3\", \"type-3\", \"t\\u00e9moignage\", \"t\\u00e9moignage\", \"t\\u00e9moignage\", \"t\\u00e9moignage\", \"t\\u00e9moignages\", \"umbrella\", \"unamused\", \"unamused\", \"unamused\", \"unamused\", \"unamused\", \"unilever\", \"unpeudesucre\", \"up\", \"up\", \"up\", \"up\", \"utc\", \"vanille\", \"vanille\", \"vanille\", \"vanille\", \"vanille\", \"vanille\", \"vanille\", \"vanille\", \"venir\", \"venir\", \"venir\", \"venir\", \"venir\", \"venir\", \"venir\", \"venir\", \"venir\", \"verser\", \"verser\", \"verser\", \"verset\", \"vid\\u00e9o\", \"vid\\u00e9o\", \"vid\\u00e9o\", \"vid\\u00e9o\", \"vid\\u00e9o\", \"vid\\u00e9o\", \"vid\\u00e9o\", \"viridianabo\", \"visite\", \"visite\", \"visite\", \"visite\", \"visite\", \"voir\", \"voir\", \"voir\", \"voir\", \"voir\", \"voir\", \"voir\", \"voir\", \"voir\", \"vs\", \"vs\", \"vs\", \"vs\", \"vs\", \"wa\", \"wafflestick\", \"whiskey\", \"with\", \"with\", \"with\", \"with\", \"with\", \"with\", \"with\", \"with\", \"with\", \"woody\", \"xd\", \"xd\", \"xd\", \"xd\", \"xd\", \"y'avait\", \"ys\", \"yummy\", \"yummy\", \"yummy\", \"yummy\", \"yummy\", \"zinayda\", \"~\", \"~\", \"~\", \"~\", \"~\", \"~\", \"~\", \"~\", \"\\u00a3\", \"\\u00b0\", \"\\u00b0\", \"\\u00b0\", \"\\u00b0\", \"\\u00b0\", \"\\u00b0\", \"\\u00b0\", \"\\u00e3\", \"\\u00e3\", \"\\u00e9crire\", \"\\u00e9crire\", \"\\u00e9crire\", \"\\u00e9crire\", \"\\u00e9crire\", \"\\u00e9crire\", \"\\u00e9crire\", \"\\u00e9cru\", \"\\u00e9c\\u0153urer\", \"\\u00e9c\\u0153urer\", \"\\u00e9va\", \"\\u0153il\", \"\\u0153il\", \"\\u0153il\", \"\\u0153il\", \"\\u0153il\", \"\\u0153il\", \"\\u0153il\", \"\\u0153il\", \"\\u0153il\", \"\\u0153uf\", \"\\u0153uf\", \"\\u0153uf\", \"\\u0153uf\", \"\\u0153uf\", \"\\u0153uf\", \"\\u0153uf\", \"\\u0153uf\", \"\\u03b8_\\u03b8\", \"\\u060c\", \"\\u0627\\u0643\\u0628\\u0631\", \"\\u0627\\u0644\\u0644\\u0647\", \"\\u0627\\u0644\\u0644\\u0647\", \"\\u0627\\u0644\\u0644\\u0647\\u0645\", \"\\u0628\\u0627\\u0631\\u0643\", \"\\u062d\\u0641\\u0638\\u0647\", \"\\u2018aleykoum\", \"\\u20ac\", \"\\u20ac\", \"\\u20ac\", \"\\u20ac\", \"\\u20ac\", \"\\u20ac\", \"\\u20ac\", \"\\u20ac\", \"\\u20ac\", \"\\u2192_\\u2192\", \"\\u2206\", \"\\u2206\", \"\\u25a0\", \"\\u25ab\\ufe0f\", \"\\u25ac\\u25ac\\u25ac\\u25ac\\u25ac\\u25ac\\u25ac\\u25ac\\u25ac\\u25ac\\u25ac\\u25ac\\u25ac\\u25ac\\u25ac\\u25ac\\u25ac\\u25ac\\u25ac\", \"\\u25cf\", \"\\u25cf\", \"\\u25cf\", \"\\u25cf\", \"\\u25cf\", \"\\u2605\", \"\\u2606\", \"\\u2606\", \"\\u2606\", \"\\u2606\", \"\\u260e\\ufe0f03\", \"\\u260e\\ufe0f77\", \"\\u2614\", \"\\u2614\", \"\\u2614\", \"\\u2714\\ufe0f\", \"\\u2714\\ufe0f\", \"\\u2714\\ufe0f\", \"\\u2714\\ufe0f\", \"\\u2716\\ufe0fc\", \"\\u272f\", \"\\u27a1zone\", \"\\u2800\\u2800\", \"\\u2800\\u2800\\u2800\\u2800\\u2800\\u2800\\u2800\\u2800\\u2800\\u2800\\u2800\\u2800\\u2800\\u2800\\u2800\\u2800\\u2800\\u2800\\u2800\\u2800\\u2800\\u2800\\u2800\\u2800\\u2800\\u2800\\u2800\\u2800\\u2800\\u2800\", \"\\u3010made\", \"\\u3010rue\", \"\\u3030\", \"\\u30fc\"]}, \"mdsDat\": {\"cluster\": [1, 1, 1, 1, 1, 1, 1, 1, 1, 1], \"topics\": [1, 2, 3, 4, 5, 6, 7, 8, 9, 10], \"y\": [-0.023921815547136786, -0.05281403221159019, -0.004951167143677475, 0.21562709653877474, -0.06668430397757859, 0.023818870932653675, -0.09836524468977591, 0.045185788360346965, -0.03053445596556963, -0.00736073629644668], \"Freq\": [30.19995897290396, 29.806782279199766, 10.318892228702532, 8.577621930234917, 6.121625142257411, 5.4302630208183515, 5.278270101040861, 2.22513332126746, 1.3083666633340516, 0.7330863402406924], \"x\": [0.16203627404222054, 0.19310985821416704, 0.05627145627818693, 0.07039206979362769, 0.0833050094719527, -0.0034219316121805394, -0.05742144258662401, -0.14605683969739744, -0.13492111403031112, -0.22329333987364156]}, \"tinfo\": {\"Total\": [776.0, 3567.0, 562.0, 8062.0, 401.0, 215.0, 871.0, 212.0, 189.0, 298.0, 446.0, 150.0, 2214.0, 107.0, 408.0, 80.0, 160.0, 1414.0, 514.0, 1189.0, 589.0, 139.0, 1041.0, 55.0, 134.0, 51.0, 267.0, 383.0, 935.0, 187.0, 18.1013773489241, 14.2494073135046, 9.431521586984799, 9.43149889787223, 9.431482244834307, 8.467931477612732, 8.467851803310273, 8.458821600071547, 7.504352984322818, 7.50435309256393, 7.5043509471267935, 21.01004863525712, 6.540766032910441, 6.540768815316489, 6.540759961505695, 6.5407599609615525, 6.540766134872536, 6.540763575156614, 6.540758941267222, 6.540762872778237, 6.540753722538403, 6.540732387790564, 6.54046689239421, 12.868010206181149, 5.577184363229896, 5.577183978758313, 5.577182351226008, 5.577182187681375, 5.577182041303374, 5.577174704861718, 16.84376967791514, 14.258093827703176, 9.54099573945809, 8.385949692468246, 10.237184881193691, 10.230533532209856, 20.06451196297685, 60.02981286573293, 514.5153776563359, 23.966820642064476, 25.13287938154604, 21.808787280891142, 8062.068817320622, 110.949979923054, 129.30693286118895, 66.74095989950641, 11.372184853070248, 31.867658537644346, 18.034856116018382, 1041.4621615625424, 29.212711150318224, 43.00487154645679, 219.69107088255836, 1041.7032469429853, 211.95862950850537, 97.39433484339953, 776.4315606812671, 997.976824925919, 125.98776848691624, 3567.1938584335585, 935.8485336775855, 382.02358651751535, 191.56679537180477, 455.751499254698, 831.3392216978243, 496.74147962935933, 294.87736911510905, 490.93727493450564, 195.27607176724726, 383.8664422056292, 2214.9513547260976, 99.0231158214863, 416.7623743882169, 609.3733900473645, 350.3040877018631, 263.6774504522141, 562.1256450353262, 1414.541309776496, 1189.371368148306, 589.7134415438925, 871.9274272140657, 385.54865908210235, 273.3061610565028, 770.1979177508306, 571.9881392509652, 398.22111588691035, 525.9508052924128, 523.0981809974105, 11.482300047653613, 11.482039379939884, 11.481837244977827, 10.507463602847135, 10.507475013774657, 10.506745034363218, 24.0484209827938, 9.53265776675461, 8.557832653189816, 8.55777184560158, 7.583016066221706, 7.581573100302147, 7.5823411189033525, 17.235374749574454, 12.354699516841617, 7.573762166144307, 6.608193261996334, 6.608188693918549, 6.60817720142215, 6.608186111109588, 6.60815838133702, 6.6081758385858365, 18.27789182784298, 6.606892774719742, 6.6081004357456745, 16.24385306805864, 9.49521849698869, 6.604047437338753, 14.310903614760157, 5.633367890344683, 10.444531814877882, 28.979865828810777, 19.37878541204966, 295.09281800187404, 282.40253319255083, 290.8111836343036, 14.389715626973517, 92.53292615298031, 92.53292455588704, 116.34609634218049, 2214.9513547260976, 3567.1938584335585, 1189.371368148306, 1414.541309776496, 770.1979177508306, 571.9881392509652, 525.9508052924128, 523.0981809974105, 8062.068817320622, 105.78291033513015, 270.52545977727095, 77.7714827903071, 78.60647292476042, 74.94843616663229, 188.09011823024545, 48.97467667126907, 831.3392216978243, 562.1256450353262, 609.3733900473645, 93.99074322661775, 165.8697584904972, 279.52876735612676, 174.30468639569352, 496.74147962935933, 350.3040877018631, 309.2241282053538, 385.54865908210235, 935.8485336775855, 304.0101122452013, 1041.4621615625424, 380.06878620036457, 490.93727493450564, 258.38993735604527, 288.6372862391845, 997.976824925919, 1041.7032469429853, 382.02358651751535, 871.9274272140657, 776.4315606812671, 514.0990581744727, 25.37018873170238, 20.096420119205284, 18.338495665817796, 16.5805722999672, 14.822649125282668, 13.064725866333186, 11.306802440660272, 11.306802667735228, 9.54887923676366, 8.669918289257211, 7.790955981147537, 7.790955950104822, 7.79095595039771, 7.790956382346977, 7.790955865984234, 7.790955865605577, 6.911994338217671, 16.665678819593097, 6.033032694865747, 6.033032760300855, 6.033032663837134, 6.033032663710697, 6.033033609045307, 6.033032577481656, 6.033032577710905, 6.033032728555995, 6.033032891892922, 6.033033927015732, 5.154071051684013, 5.1540710517579384, 20.642738718841795, 46.13194576573213, 20.801281759967363, 31.399764424684285, 8.584555733170035, 33.627946424839564, 13.765149154619344, 31.97637701930326, 10.443556487894211, 154.55840380934154, 96.17610862079036, 30.34491976744856, 269.0855697361895, 269.34464544376664, 31.834909665211285, 383.8028288646669, 871.9274272140657, 589.7134415438925, 398.22111588691035, 26.826771455218342, 23.203731305255566, 8062.068817320622, 997.976824925919, 377.37492443310794, 1041.4621615625424, 1041.7032469429853, 176.31127011130258, 159.6889137734305, 322.31125215688326, 290.4952559149643, 242.30950643416168, 3567.1938584335585, 138.75705256606167, 192.41223703417205, 340.35421177305653, 235.98068244120032, 2214.9513547260976, 203.09070480124575, 935.8485336775855, 200.0862609232706, 179.57814136078454, 324.8879598302403, 1414.541309776496, 253.9287067860329, 271.3103451760882, 1189.371368148306, 455.751499254698, 776.4315606812671, 770.1979177508306, 47.721594349490005, 32.93715662446834, 28.58902743406245, 28.584634190347053, 46.778045069229925, 17.2830461808333, 46.000360020605655, 16.41336938076349, 27.644551457764205, 12.065009531060815, 12.065010298447092, 23.37802160188727, 12.069204930751958, 11.195311663328074, 31.21242113499352, 10.325663630689933, 10.325664419087785, 10.325666151183448, 39.21387664783094, 9.455990822538732, 9.455990233888507, 9.45599164149696, 9.456011147404578, 9.455946996158175, 8.586318105340098, 8.58631991431123, 16.475780495357633, 7.716645295831142, 7.7166456895917, 7.7166404946515055, 64.7563642432591, 62.958093665165116, 24.256675593729728, 67.92818912824147, 32.76124419787331, 52.12021442548348, 139.3508957758957, 28.839388773818825, 134.44806679704465, 116.21248566822928, 66.87241180201933, 62.64796696396653, 30.87662324799539, 298.1996083839941, 45.53920533745162, 34.314496459337334, 34.94913934129421, 102.83907215863702, 74.66457404578097, 126.30867117877469, 73.04655397360517, 446.2805682818289, 562.5222186161043, 191.89544045318627, 187.22006222781297, 408.12891023314637, 167.64623812554495, 197.25848021862552, 212.63843903184198, 267.8275566711842, 63.289831688344066, 97.82166018946963, 126.64454776539691, 514.0990581744727, 935.8485336775855, 8062.068817320622, 332.2974226149892, 374.8282615288819, 997.976824925919, 223.51432914524278, 3567.1938584335585, 290.21162563352397, 9.48879280898889, 17.42694904650256, 7.9016055412036525, 7.108011907138243, 7.108012765950508, 5.520824640192785, 48.167007497486175, 9.33395745092202, 4.727231006045838, 4.727231196080745, 3.9336373721187234, 3.9336373721879245, 3.9336373719991156, 3.9336373706906658, 3.9336375142756093, 5.890372445065645, 3.1400437382509336, 3.1400437381518977, 3.140043738250984, 3.1400437381223325, 3.140043738003322, 3.1400437381375417, 3.1400437381736555, 3.1400437381750006, 3.140043809244404, 3.1400448663719462, 3.1400439237428235, 3.140043923683458, 3.1400452550557967, 3.1400488949997416, 104.88470704453965, 23.81231170649282, 5.690811130221396, 5.690902416765444, 40.117142889091134, 8062.068817320622, 3567.1938584335585, 29.847001617687454, 11.446827287625803, 2214.9513547260976, 4.897224687395983, 1414.541309776496, 1189.371368148306, 351.3538914724173, 71.47457748943475, 770.1979177508306, 179.31152095512547, 831.3392216978243, 110.28957055791695, 183.9543767174523, 1041.7032469429853, 176.01545407907147, 416.7623743882169, 144.1717990238255, 1041.4621615625424, 589.7134415438925, 562.1256450353262, 206.60426247880426, 997.976824925919, 871.9274272140657, 455.751499254698, 380.06878620036457, 935.8485336775855, 514.5153776563359, 609.3733900473645, 525.9508052924128, 523.0981809974105, 490.93727493450564, 322.31125215688326, 571.9881392509652, 382.02358651751535, 15.083893329005697, 13.492265840081973, 13.49226750754835, 7.92157906586674, 67.44851248128528, 7.125766721428207, 7.12576672260974, 7.125766723510178, 7.125766723133367, 6.3299510802125525, 6.329951080020681, 6.329951654713234, 6.329952087389192, 6.329954456979117, 6.329954456872258, 6.32995445895338, 6.329954459823476, 6.329954459891504, 6.3299544604766345, 6.329954460457232, 6.32995446057653, 5.5341414700613445, 4.73832645287649, 4.738326732961293, 4.738328360735722, 14.204883935521105, 9.59635358194392, 3.9425135153294915, 3.9425140294403622, 3.9425156649053634, 8.800541035950902, 75.91954274791443, 27.232935544690694, 12.236181931200802, 49.04169118257558, 10.686761663177297, 129.46604613979287, 28.275678395218613, 161.79870623341134, 256.0209075909999, 14.766907869292966, 180.65485809196056, 401.09579029029703, 562.5222186161043, 15.76209292098195, 9.773755068578335, 159.51891506737604, 18.657900106823632, 514.0990581744727, 871.9274272140657, 1041.7032469429853, 3567.1938584335585, 126.64454776539691, 136.06363437924097, 29.52827820763993, 79.5852276675967, 8062.068817320622, 126.22526200175179, 188.63442034912165, 271.78394755648617, 383.8028288646669, 997.976824925919, 324.8879598302403, 589.7134415438925, 1414.541309776496, 138.75705256606167, 1041.4621615625424, 322.31125215688326, 290.4952559149643, 380.06878620036457, 150.1791720348434, 41.51014933912008, 34.31881491850053, 27.127483153992042, 26.32844544560936, 15.141927893095948, 14.342891234996555, 13.543853997991393, 13.543854626758568, 12.744817050391523, 12.744817049950809, 11.945780276899253, 9.548669553063938, 9.548669553972914, 36.26845231079617, 45.829880702739494, 8.74963295060462, 7.151558417494156, 12.584539011302727, 10.856555846207506, 12.739373744818897, 5.553484522298766, 5.553484522082938, 5.553484706164967, 5.5534847066393755, 5.553485181973232, 5.553485178336183, 5.553485178139242, 5.5534851783364285, 5.553486936282419, 12.909363181852399, 12.110325248117059, 21.87861100971731, 67.5039292546203, 80.5023706329792, 10.344488289049796, 54.83765483385643, 14.417374143997241, 160.2975506779335, 47.95439213617527, 401.09579029029703, 73.76814759459889, 29.184306728448043, 51.30965078950883, 776.4315606812671, 125.23875155672998, 562.5222186161043, 192.41223703417205, 871.9274272140657, 67.70828938910145, 37.6816214650256, 44.58842212891909, 50.15810154613424, 3567.1938584335585, 589.7134415438925, 377.37492443310794, 177.0664916825824, 416.7623743882169, 269.0855697361895, 8062.068817320622, 383.8028288646669, 229.77971761923416, 10.340636787644756, 9.701878522928812, 8.424362487853276, 6.508087205868025, 6.5080872059659916, 6.50808770467133, 6.508087745721816, 6.508087922426162, 5.869328942557835, 17.76745703821889, 4.591812416377234, 4.591812926542024, 4.591813150747739, 3.953054152877052, 3.953054152753304, 3.953054153021194, 3.953054152932535, 3.953054670591432, 3.9530546707252108, 3.953060438015855, 8.760408655185417, 3.3142958894298444, 3.3142958895896006, 3.3142958892733816, 3.3142958896464076, 3.3142958897461963, 3.3142958898638324, 3.3142958898092068, 3.314296418313227, 3.3142964182620998, 107.11065072460394, 6.026384887970784, 6.100244052530882, 42.400325233076046, 15.758504552124194, 4.322594198798186, 22.32659171749745, 6.7686943426282795, 212.63843903184198, 189.561900787771, 215.55925757919087, 30.01722560896443, 57.82338834242705, 37.40865144651604, 11.113042539350564, 92.29514836485477, 20.58864539274354, 34.192509691600215, 95.9101784877158, 27.238922559467557, 60.355994907610956, 98.4473663910612, 168.96570927223277, 46.931199147186476, 126.22526200175179, 589.7134415438925, 44.59027944753905, 134.09784720447036, 8062.068817320622, 179.57814136078454, 1041.4621615625424, 201.48007929000366, 80.64856877897643, 55.71496376437252, 51.644171108369115, 23.658426501512263, 7.374301055083767, 27.2479677525284, 5.847753717069461, 5.338904727859364, 16.59422189811278, 3.3035084054732082, 9.997200753794612, 2.794659326088438, 2.794659326168366, 2.2858101482736037, 2.2858101482779323, 2.2858101484891877, 2.285810148499993, 2.2858102498220294, 2.285810249858125, 4.099320876146316, 13.980142669775292, 4.278782948116134, 1.776961070881142, 1.7769610709383021, 1.7769610709490002, 1.7769610709635997, 1.7769610710809183, 1.7769610711396056, 1.7769610711712296, 1.7769610713186503, 56.222664355441054, 7.238501338189282, 9.876162832678055, 9.941140708265873, 13.03318632555356, 6.805680734985267, 51.32889957986953, 9.546995051599986, 12.215688739346431, 8.783920188609452, 46.7554733499542, 125.23875155672998, 5.025043453879945, 9.695805885415343, 871.9274272140657, 57.37014138101768, 377.37492443310794, 269.34464544376664, 383.8028288646669, 108.611466978141, 8062.068817320622, 416.7623743882169, 235.98068244120032, 86.49952534027983, 997.976824925919, 3567.1938584335585, 13.323528704151935, 9.997694020198429, 9.628156834957142, 4.824173411786803, 3.346024110507352, 2.976486929179556, 2.976487514884562, 1.8678754331050902, 1.8678760602237352, 1.867876104601576, 1.8678813063412334, 3.9513053558414875, 5.690328944520633, 1.4983383194850775, 1.4983383198762201, 1.498338319927118, 1.49833832000727, 1.4983383200484068, 1.4983383201735023, 1.498338320105817, 1.498338320247364, 1.4983383202934406, 1.4983383205056477, 1.49833899327912, 1.4983389934452473, 1.4983390368687464, 1.4983390369996519, 1.4983390378572108, 1.498339038235122, 1.4983390383320716, 42.400325233076046, 107.11065072460394, 3.2122347364960557, 189.561900787771, 212.63843903184198, 5.7902051515280055, 215.55925757919087, 11.104132520260267, 12.585474176189889, 3.6542425902375166, 401.09579029029703, 18.404925298304487, 21.88962092894441, 59.6028424303881, 15.227393269970822, 41.496853547813544, 28.355490181582642, 156.71014787258343, 871.9274272140657, 73.76814759459889, 72.09752475312523, 196.17572318080192], \"Category\": [\"Default\", \"Default\", \"Default\", \"Default\", \"Default\", \"Default\", \"Default\", \"Default\", \"Default\", \"Default\", \"Default\", \"Default\", \"Default\", \"Default\", \"Default\", \"Default\", \"Default\", \"Default\", \"Default\", \"Default\", \"Default\", \"Default\", \"Default\", \"Default\", \"Default\", \"Default\", \"Default\", \"Default\", \"Default\", \"Default\", \"Topic1\", \"Topic1\", \"Topic1\", \"Topic1\", \"Topic1\", \"Topic1\", \"Topic1\", \"Topic1\", \"Topic1\", \"Topic1\", \"Topic1\", \"Topic1\", \"Topic1\", \"Topic1\", \"Topic1\", \"Topic1\", \"Topic1\", \"Topic1\", \"Topic1\", \"Topic1\", \"Topic1\", \"Topic1\", \"Topic1\", \"Topic1\", \"Topic1\", \"Topic1\", \"Topic1\", \"Topic1\", \"Topic1\", \"Topic1\", \"Topic1\", \"Topic1\", \"Topic1\", \"Topic1\", \"Topic1\", \"Topic1\", \"Topic1\", \"Topic1\", \"Topic1\", \"Topic1\", \"Topic1\", \"Topic1\", \"Topic1\", \"Topic1\", \"Topic1\", \"Topic1\", \"Topic1\", \"Topic1\", \"Topic1\", \"Topic1\", \"Topic1\", \"Topic1\", \"Topic1\", \"Topic1\", \"Topic1\", \"Topic1\", \"Topic1\", \"Topic1\", \"Topic1\", \"Topic1\", \"Topic1\", \"Topic1\", \"Topic1\", \"Topic1\", \"Topic1\", \"Topic1\", \"Topic1\", \"Topic1\", \"Topic1\", \"Topic1\", \"Topic1\", \"Topic1\", \"Topic1\", \"Topic1\", \"Topic1\", \"Topic1\", \"Topic1\", \"Topic1\", \"Topic1\", \"Topic1\", \"Topic1\", \"Topic1\", \"Topic1\", \"Topic1\", \"Topic1\", \"Topic1\", \"Topic1\", \"Topic1\", \"Topic2\", \"Topic2\", \"Topic2\", \"Topic2\", \"Topic2\", \"Topic2\", \"Topic2\", \"Topic2\", \"Topic2\", \"Topic2\", \"Topic2\", \"Topic2\", \"Topic2\", \"Topic2\", \"Topic2\", \"Topic2\", \"Topic2\", \"Topic2\", \"Topic2\", \"Topic2\", \"Topic2\", \"Topic2\", \"Topic2\", \"Topic2\", \"Topic2\", \"Topic2\", \"Topic2\", \"Topic2\", \"Topic2\", \"Topic2\", \"Topic2\", \"Topic2\", \"Topic2\", \"Topic2\", \"Topic2\", \"Topic2\", \"Topic2\", \"Topic2\", \"Topic2\", \"Topic2\", \"Topic2\", \"Topic2\", \"Topic2\", \"Topic2\", \"Topic2\", \"Topic2\", \"Topic2\", \"Topic2\", \"Topic2\", \"Topic2\", \"Topic2\", \"Topic2\", \"Topic2\", \"Topic2\", \"Topic2\", \"Topic2\", \"Topic2\", \"Topic2\", \"Topic2\", \"Topic2\", \"Topic2\", \"Topic2\", \"Topic2\", \"Topic2\", \"Topic2\", \"Topic2\", \"Topic2\", \"Topic2\", \"Topic2\", \"Topic2\", \"Topic2\", \"Topic2\", \"Topic2\", \"Topic2\", \"Topic2\", \"Topic2\", \"Topic2\", \"Topic2\", \"Topic2\", \"Topic2\", \"Topic3\", \"Topic3\", \"Topic3\", \"Topic3\", \"Topic3\", \"Topic3\", \"Topic3\", \"Topic3\", \"Topic3\", \"Topic3\", \"Topic3\", \"Topic3\", \"Topic3\", \"Topic3\", \"Topic3\", \"Topic3\", \"Topic3\", \"Topic3\", \"Topic3\", \"Topic3\", \"Topic3\", \"Topic3\", \"Topic3\", \"Topic3\", \"Topic3\", \"Topic3\", \"Topic3\", \"Topic3\", \"Topic3\", \"Topic3\", \"Topic3\", \"Topic3\", \"Topic3\", \"Topic3\", \"Topic3\", \"Topic3\", \"Topic3\", \"Topic3\", \"Topic3\", \"Topic3\", \"Topic3\", \"Topic3\", \"Topic3\", \"Topic3\", \"Topic3\", \"Topic3\", \"Topic3\", \"Topic3\", \"Topic3\", \"Topic3\", \"Topic3\", \"Topic3\", \"Topic3\", \"Topic3\", \"Topic3\", \"Topic3\", \"Topic3\", \"Topic3\", \"Topic3\", \"Topic3\", \"Topic3\", \"Topic3\", \"Topic3\", \"Topic3\", \"Topic3\", \"Topic3\", \"Topic3\", \"Topic3\", \"Topic3\", \"Topic3\", \"Topic3\", \"Topic3\", \"Topic3\", \"Topic3\", \"Topic3\", \"Topic3\", \"Topic3\", \"Topic3\", \"Topic3\", \"Topic4\", \"Topic4\", \"Topic4\", \"Topic4\", \"Topic4\", \"Topic4\", \"Topic4\", \"Topic4\", \"Topic4\", \"Topic4\", \"Topic4\", \"Topic4\", \"Topic4\", \"Topic4\", \"Topic4\", \"Topic4\", \"Topic4\", \"Topic4\", \"Topic4\", \"Topic4\", \"Topic4\", \"Topic4\", \"Topic4\", \"Topic4\", \"Topic4\", \"Topic4\", \"Topic4\", \"Topic4\", \"Topic4\", \"Topic4\", \"Topic4\", \"Topic4\", \"Topic4\", \"Topic4\", \"Topic4\", \"Topic4\", \"Topic4\", \"Topic4\", \"Topic4\", \"Topic4\", \"Topic4\", \"Topic4\", \"Topic4\", \"Topic4\", \"Topic4\", \"Topic4\", \"Topic4\", \"Topic4\", \"Topic4\", \"Topic4\", \"Topic4\", \"Topic4\", \"Topic4\", \"Topic4\", \"Topic4\", \"Topic4\", \"Topic4\", \"Topic4\", \"Topic4\", \"Topic4\", \"Topic4\", \"Topic4\", \"Topic4\", \"Topic4\", \"Topic4\", \"Topic4\", \"Topic4\", \"Topic4\", \"Topic4\", \"Topic4\", \"Topic4\", \"Topic4\", \"Topic5\", \"Topic5\", \"Topic5\", \"Topic5\", \"Topic5\", \"Topic5\", \"Topic5\", \"Topic5\", \"Topic5\", \"Topic5\", \"Topic5\", \"Topic5\", \"Topic5\", \"Topic5\", \"Topic5\", \"Topic5\", \"Topic5\", \"Topic5\", \"Topic5\", \"Topic5\", \"Topic5\", \"Topic5\", \"Topic5\", \"Topic5\", \"Topic5\", \"Topic5\", \"Topic5\", \"Topic5\", \"Topic5\", \"Topic5\", \"Topic5\", \"Topic5\", \"Topic5\", \"Topic5\", \"Topic5\", \"Topic5\", \"Topic5\", \"Topic5\", \"Topic5\", \"Topic5\", \"Topic5\", \"Topic5\", \"Topic5\", \"Topic5\", \"Topic5\", \"Topic5\", \"Topic5\", \"Topic5\", \"Topic5\", \"Topic5\", \"Topic5\", \"Topic5\", \"Topic5\", \"Topic5\", \"Topic5\", \"Topic5\", \"Topic5\", \"Topic5\", \"Topic5\", \"Topic5\", \"Topic5\", \"Topic5\", \"Topic5\", \"Topic5\", \"Topic5\", \"Topic5\", \"Topic5\", \"Topic5\", \"Topic5\", \"Topic5\", \"Topic5\", \"Topic6\", \"Topic6\", \"Topic6\", \"Topic6\", \"Topic6\", \"Topic6\", \"Topic6\", \"Topic6\", \"Topic6\", \"Topic6\", \"Topic6\", \"Topic6\", \"Topic6\", \"Topic6\", \"Topic6\", \"Topic6\", \"Topic6\", \"Topic6\", \"Topic6\", \"Topic6\", \"Topic6\", \"Topic6\", \"Topic6\", \"Topic6\", \"Topic6\", \"Topic6\", \"Topic6\", \"Topic6\", \"Topic6\", \"Topic6\", \"Topic6\", \"Topic6\", \"Topic6\", \"Topic6\", \"Topic6\", \"Topic6\", \"Topic6\", \"Topic6\", \"Topic6\", \"Topic6\", \"Topic6\", \"Topic6\", \"Topic6\", \"Topic6\", \"Topic6\", \"Topic6\", \"Topic6\", \"Topic6\", \"Topic6\", \"Topic6\", \"Topic6\", \"Topic6\", \"Topic6\", \"Topic6\", \"Topic6\", \"Topic6\", \"Topic6\", \"Topic6\", \"Topic6\", \"Topic6\", \"Topic6\", \"Topic6\", \"Topic6\", \"Topic6\", \"Topic6\", \"Topic6\", \"Topic6\", \"Topic6\", \"Topic6\", \"Topic6\", \"Topic7\", \"Topic7\", \"Topic7\", \"Topic7\", \"Topic7\", \"Topic7\", \"Topic7\", \"Topic7\", \"Topic7\", \"Topic7\", \"Topic7\", \"Topic7\", \"Topic7\", \"Topic7\", \"Topic7\", \"Topic7\", \"Topic7\", \"Topic7\", \"Topic7\", \"Topic7\", \"Topic7\", \"Topic7\", \"Topic7\", \"Topic7\", \"Topic7\", \"Topic7\", \"Topic7\", \"Topic7\", \"Topic7\", \"Topic7\", \"Topic7\", \"Topic7\", \"Topic7\", \"Topic7\", \"Topic7\", \"Topic7\", \"Topic7\", \"Topic7\", \"Topic7\", \"Topic7\", \"Topic7\", \"Topic7\", \"Topic7\", \"Topic7\", \"Topic7\", \"Topic7\", \"Topic7\", \"Topic7\", \"Topic7\", \"Topic7\", \"Topic7\", \"Topic7\", \"Topic7\", \"Topic7\", \"Topic7\", \"Topic7\", \"Topic7\", \"Topic7\", \"Topic7\", \"Topic7\", \"Topic7\", \"Topic7\", \"Topic8\", \"Topic8\", \"Topic8\", \"Topic8\", \"Topic8\", \"Topic8\", \"Topic8\", \"Topic8\", \"Topic8\", \"Topic8\", \"Topic8\", \"Topic8\", \"Topic8\", \"Topic8\", \"Topic8\", \"Topic8\", \"Topic8\", \"Topic8\", \"Topic8\", \"Topic8\", \"Topic8\", \"Topic8\", \"Topic8\", \"Topic8\", \"Topic8\", \"Topic8\", \"Topic8\", \"Topic8\", \"Topic8\", \"Topic8\", \"Topic8\", \"Topic8\", \"Topic8\", \"Topic8\", \"Topic8\", \"Topic8\", \"Topic8\", \"Topic8\", \"Topic8\", \"Topic8\", \"Topic8\", \"Topic8\", \"Topic8\", \"Topic8\", \"Topic8\", \"Topic8\", \"Topic8\", \"Topic8\", \"Topic8\", \"Topic8\", \"Topic8\", \"Topic8\", \"Topic8\", \"Topic8\", \"Topic8\", \"Topic8\", \"Topic8\", \"Topic8\", \"Topic8\", \"Topic8\", \"Topic8\", \"Topic8\", \"Topic9\", \"Topic9\", \"Topic9\", \"Topic9\", \"Topic9\", \"Topic9\", \"Topic9\", \"Topic9\", \"Topic9\", \"Topic9\", \"Topic9\", \"Topic9\", \"Topic9\", \"Topic9\", \"Topic9\", \"Topic9\", \"Topic9\", \"Topic9\", \"Topic9\", \"Topic9\", \"Topic9\", \"Topic9\", \"Topic9\", \"Topic9\", \"Topic9\", \"Topic9\", \"Topic9\", \"Topic9\", \"Topic9\", \"Topic9\", \"Topic9\", \"Topic9\", \"Topic9\", \"Topic9\", \"Topic9\", \"Topic9\", \"Topic9\", \"Topic9\", \"Topic9\", \"Topic9\", \"Topic9\", \"Topic9\", \"Topic9\", \"Topic9\", \"Topic9\", \"Topic9\", \"Topic9\", \"Topic9\", \"Topic9\", \"Topic9\", \"Topic9\", \"Topic9\", \"Topic9\", \"Topic9\", \"Topic9\", \"Topic9\", \"Topic10\", \"Topic10\", \"Topic10\", \"Topic10\", \"Topic10\", \"Topic10\", \"Topic10\", \"Topic10\", \"Topic10\", \"Topic10\", \"Topic10\", \"Topic10\", \"Topic10\", \"Topic10\", \"Topic10\", \"Topic10\", \"Topic10\", \"Topic10\", \"Topic10\", \"Topic10\", \"Topic10\", \"Topic10\", \"Topic10\", \"Topic10\", \"Topic10\", \"Topic10\", \"Topic10\", \"Topic10\", \"Topic10\", \"Topic10\", \"Topic10\", \"Topic10\", \"Topic10\", \"Topic10\", \"Topic10\", \"Topic10\", \"Topic10\", \"Topic10\", \"Topic10\", \"Topic10\", \"Topic10\", \"Topic10\", \"Topic10\", \"Topic10\", \"Topic10\", \"Topic10\", \"Topic10\", \"Topic10\", \"Topic10\", \"Topic10\", \"Topic10\", \"Topic10\"], \"logprob\": [30.0, 29.0, 28.0, 27.0, 26.0, 25.0, 24.0, 23.0, 22.0, 21.0, 20.0, 19.0, 18.0, 17.0, 16.0, 15.0, 14.0, 13.0, 12.0, 11.0, 10.0, 9.0, 8.0, 7.0, 6.0, 5.0, 4.0, 3.0, 2.0, 1.0, -8.0688, -8.3183, -8.7562, -8.7562, -8.7562, -8.8726, -8.8726, -8.8793, -9.0043, -9.0043, -9.0043, -7.9832, -9.1562, -9.1562, -9.1562, -9.1562, -9.1562, -9.1562, -9.1562, -9.1562, -9.1562, -9.1562, -9.1564, -8.4954, -9.3352, -9.3352, -9.3352, -9.3352, -9.3352, -9.3352, -8.2338, -8.4091, -8.8055, -8.9348, -8.7497, -8.7562, -8.1249, -7.1092, -5.1547, -7.9738, -7.946, -8.0751, -2.8196, -6.6409, -6.5182, -7.112, -8.6736, -7.7778, -8.2728, -4.7865, -7.8596, -7.538, -6.1693, -4.8853, -6.2104, -6.8609, -5.1389, -4.9545, -6.6673, -3.98, -5.0609, -5.8045, -6.3524, -5.6682, -5.195, -5.6123, -6.0222, -5.6267, -6.3498, -5.8315, -4.4822, -6.8839, -5.7997, -5.5152, -5.9525, -6.1602, -5.6328, -5.021, -5.1546, -5.627, -5.415, -5.9214, -6.166, -5.6397, -5.79, -5.9764, -5.8838, -5.8889, -8.5328, -8.5329, -8.5331, -8.6272, -8.6272, -8.6276, -7.8048, -8.7315, -8.8479, -8.8484, -8.9796, -8.98, -8.9802, -8.1609, -8.495, -8.9869, -9.1315, -9.1315, -9.1315, -9.1315, -9.1315, -9.1315, -8.1149, -9.1326, -9.1328, -8.2366, -8.7754, -9.1386, -8.3671, -9.3105, -8.6944, -7.7007, -8.1007, -5.5313, -5.5918, -5.576, -8.4074, -6.6929, -6.6929, -6.4872, -3.7783, -3.3934, -4.3858, -4.2323, -4.7932, -5.0673, -5.1438, -5.1495, -2.7391, -6.6011, -5.7874, -6.8802, -6.8743, -6.9301, -6.1588, -7.3091, -4.9173, -5.2883, -5.2517, -6.793, -6.3277, -5.9136, -6.2974, -5.4756, -5.7656, -5.867, -5.7148, -5.0605, -5.897, -5.0494, -5.7679, -5.6266, -6.0362, -5.9731, -5.2052, -5.2041, -5.8241, -5.4679, -5.6109, -5.8134, -6.6467, -6.8869, -6.9818, -7.0866, -7.2037, -7.3363, -7.4893, -7.4893, -7.67, -7.7742, -7.8906, -7.8906, -7.8906, -7.8906, -7.8906, -7.8906, -8.0224, -7.1437, -8.1742, -8.1742, -8.1742, -8.1742, -8.1742, -8.1742, -8.1742, -8.1742, -8.1742, -8.1742, -8.3533, -8.3533, -6.9818, -6.1962, -7.0909, -6.8002, -7.8906, -6.8213, -7.5251, -6.9373, -7.7777, -5.8383, -6.2156, -7.0533, -5.6601, -5.6832, -7.0544, -5.5122, -5.0254, -5.3013, -5.5438, -7.1776, -7.2662, -3.9565, -5.1355, -5.749, -5.2471, -5.2895, -6.1955, -6.2672, -5.9426, -6.0053, -6.1172, -5.0525, -6.3609, -6.2536, -6.051, -6.1931, -5.4745, -6.2645, -5.8284, -6.2841, -6.317, -6.1873, -5.9072, -6.2547, -6.251, -6.109, -6.2061, -6.1778, -6.2116, -5.8175, -6.1947, -6.34, -6.3413, -5.8553, -6.8586, -5.8816, -6.9124, -6.4041, -7.2357, -7.2357, -6.5768, -7.2388, -7.3151, -6.2936, -7.4014, -7.4014, -7.4014, -6.0686, -7.4958, -7.4958, -7.4958, -7.4958, -7.4958, -7.6, -7.6, -6.9499, -7.7164, -7.7164, -7.7164, -5.5932, -5.6292, -6.5755, -5.5674, -6.2872, -5.8412, -4.9288, -6.4361, -4.9864, -5.1418, -5.6591, -5.7217, -6.3841, -4.3662, -6.0607, -6.3197, -6.3044, -5.3932, -5.6722, -5.2693, -5.7263, -4.3835, -4.2665, -5.0859, -5.1187, -4.5936, -5.2216, -5.1197, -5.1232, -5.0633, -5.8941, -5.6667, -5.5541, -4.9546, -4.8208, -4.3239, -5.311, -5.297, -5.1241, -5.5304, -5.1524, -5.6402, -7.1556, -6.5618, -7.3542, -7.4706, -7.4707, -7.7542, -5.5903, -7.25, -7.9333, -7.9333, -8.1515, -8.1515, -8.1515, -8.1515, -8.1515, -7.7542, -8.4311, -8.4311, -8.4311, -8.4311, -8.4311, -8.4311, -8.4311, -8.4311, -8.4311, -8.4311, -8.4311, -8.4311, -8.4311, -8.4311, -5.0455, -6.5132, -7.9333, -7.9334, -6.5039, -3.3169, -3.8762, -6.9697, -7.6024, -4.3137, -8.1515, -4.6565, -4.8137, -5.5613, -6.5258, -5.3371, -6.121, -5.3332, -6.3902, -6.129, -5.2513, -6.1796, -5.7406, -6.2893, -5.4324, -5.7343, -5.7858, -6.2067, -5.6446, -5.7521, -6.0121, -6.0765, -5.8842, -6.0797, -6.0489, -6.0908, -6.1057, -6.1292, -6.187, -6.1258, -6.1782, -6.544, -6.6611, -6.6611, -7.2316, -5.0948, -7.348, -7.348, -7.348, -7.348, -7.4798, -7.4798, -7.4798, -7.4798, -7.4798, -7.4798, -7.4798, -7.4798, -7.4798, -7.4798, -7.4798, -7.4798, -7.6316, -7.8106, -7.8106, -7.8106, -6.7252, -7.1273, -8.0289, -8.0289, -8.0289, -7.2316, -5.1119, -6.1779, -6.9467, -5.7239, -7.1383, -5.1012, -6.4008, -5.4034, -5.1349, -6.9477, -5.3977, -4.9806, -4.798, -6.9473, -7.2338, -5.6722, -6.8775, -5.1356, -4.8778, -4.8352, -4.3037, -5.947, -5.9375, -6.6766, -6.3035, -4.4671, -6.1344, -5.9786, -5.9547, -5.8457, -5.5497, -5.9088, -5.7683, -5.5467, -6.1923, -5.8228, -6.0646, -6.0951, -6.1151, -4.1758, -5.4737, -5.6674, -5.9079, -5.9386, -6.5115, -6.5684, -6.6286, -6.6286, -6.6928, -6.6928, -6.7613, -7.0005, -7.0005, -5.6674, -5.4353, -7.0949, -7.3156, -6.7613, -6.9142, -6.7613, -7.5992, -7.5992, -7.5992, -7.5992, -7.5992, -7.5992, -7.5992, -7.5992, -7.5992, -6.7613, -6.8348, -6.2676, -5.1865, -5.0195, -7.0005, -5.4167, -6.6928, -4.5321, -5.717, -4.132, -5.4544, -6.1908, -5.7972, -3.9703, -5.3533, -4.4791, -5.2319, -4.4379, -5.9578, -6.2676, -6.2027, -6.1592, -4.6717, -5.3215, -5.6019, -5.8802, -5.6675, -5.7776, -4.9987, -5.8138, -5.9768, -6.0529, -6.1214, -6.2743, -6.5593, -6.5593, -6.5593, -6.5593, -6.5593, -6.6757, -5.5853, -6.9593, -6.9593, -6.9593, -7.1383, -7.1383, -7.1383, -7.1383, -7.1383, -7.1383, -7.1383, -6.3606, -7.3566, -7.3566, -7.3566, -7.3566, -7.3566, -7.3566, -7.3566, -7.3566, -7.3566, -4.1514, -6.8075, -6.8075, -5.1273, -5.9887, -7.1383, -5.8909, -6.8075, -4.5426, -4.6357, -4.6481, -5.9285, -5.5524, -5.8834, -6.5601, -5.3998, -6.2446, -6.0626, -5.6054, -6.1938, -5.91, -5.759, -5.6121, -6.1102, -5.8159, -5.4248, -6.1989, -6.052, -5.4244, -6.2441, -6.1852, -6.2452, -3.407, -3.7808, -3.8577, -4.6551, -5.8913, -4.6118, -6.1514, -6.2556, -5.1281, -6.8346, -5.7496, -7.0529, -7.0529, -7.3325, -7.3325, -7.3325, -7.3325, -7.3325, -7.3325, -6.8346, -5.6258, -6.8348, -7.7219, -7.7219, -7.7219, -7.7219, -7.7219, -7.7219, -7.7219, -7.7219, -4.7053, -6.505, -6.2556, -6.2591, -6.0582, -6.6801, -5.2022, -6.5048, -6.5052, -6.6967, -6.06, -5.8961, -7.0529, -6.8346, -5.3127, -6.259, -5.938, -6.0387, -6.0113, -6.2839, -5.6172, -6.0881, -6.3129, -6.4191, -6.3248, -6.3431, -4.6752, -4.9816, -5.0223, -5.7976, -6.2444, -6.3962, -6.3962, -7.0731, -7.0731, -7.0731, -7.0731, -6.3962, -6.1202, -7.4626, -7.4626, -7.4626, -7.4626, -7.4626, -7.4626, -7.4626, -7.4626, -7.4626, -7.4626, -7.4626, -7.4626, -7.4626, -7.4626, -7.4626, -7.4626, -7.4626, -4.3522, -3.6292, -6.7935, -4.274, -4.2271, -6.5753, -4.2702, -6.3962, -6.4239, -7.0731, -5.1799, -6.6697, -6.6672, -6.4359, -6.851, -6.6096, -6.7096, -6.3061, -6.39, -6.813, -6.845, -6.812], \"Freq\": [776.0, 3567.0, 562.0, 8062.0, 401.0, 215.0, 871.0, 212.0, 189.0, 298.0, 446.0, 150.0, 2214.0, 107.0, 408.0, 80.0, 160.0, 1414.0, 514.0, 1189.0, 589.0, 139.0, 1041.0, 55.0, 134.0, 51.0, 267.0, 383.0, 935.0, 187.0, 17.436853608319787, 13.586416593652057, 8.768617163834328, 8.768487577790713, 8.76838677735132, 7.8046643168222225, 7.804532045790475, 7.752646736130211, 6.841447747505363, 6.8414384751531125, 6.84142703354091, 18.994676149742563, 5.877856424706775, 5.877851779337664, 5.877828904365622, 5.877828903459935, 5.877834105019132, 5.877829911461132, 5.877819542984345, 5.877813855554251, 5.877800966728031, 5.8777408707494425, 5.876107126252517, 11.380833255571703, 4.914279946484824, 4.91427769248405, 4.91426229438391, 4.914258112351226, 4.914255093187443, 4.914243078965876, 14.784288416716242, 12.406318474303468, 8.346733756883681, 7.334114360771039, 8.825180537032642, 8.76841275762009, 16.484948207338604, 45.519564743020396, 321.3878778899943, 19.17363565371979, 19.71402359638682, 17.326750108145887, 3320.2174164644875, 72.7046221573362, 82.20189451782784, 45.39416270432821, 9.523355657002403, 23.32559651147503, 14.218786552655587, 464.4569503178162, 21.49441406743611, 29.646173211844165, 116.5188664280809, 420.75217441708355, 111.82640678244985, 58.350147132574484, 326.5081511345269, 392.61500548851546, 70.81525147985265, 1040.4035102422595, 352.9875130435931, 167.8147877704215, 97.02158603360053, 192.3260560838613, 308.7038578543491, 203.37137639864193, 134.97702711011067, 200.4684418572544, 97.27377096249023, 163.34924912484442, 629.6202879545809, 57.021208600106014, 168.61312707947715, 224.11194049953411, 144.7231271799488, 117.58287704326133, 199.24283626342972, 367.36805421377164, 321.428010419217, 200.40723823496037, 247.737344695842, 149.30349676372325, 116.89747037415091, 197.87016339117355, 170.2656372963716, 141.3087735116901, 155.01427563649443, 154.227328978633, 10.820492356134173, 10.81906650135653, 10.816675416904554, 9.845638561331551, 9.845645284290732, 9.841730428757806, 22.409519480307438, 8.870862097362023, 7.896026784069661, 7.891786520344429, 6.921235395134604, 6.918816715354324, 6.917552683110371, 15.69463266049491, 11.237446376221987, 6.870857374666008, 5.9463987682163095, 5.946380655490051, 5.946359166815367, 5.946361934585788, 5.946249230222824, 5.94624233664661, 16.433156384116817, 5.9392995205018675, 5.93828175856576, 14.550016949519307, 8.489389547106505, 5.904282674635952, 12.770126013227532, 4.971567971987205, 9.205597091624762, 24.86648879858633, 16.66945731852205, 217.65736277973966, 204.87760145829046, 208.1496741771967, 12.266375515538886, 68.127659662828, 68.12765434296537, 83.68036809411637, 1256.2540624794458, 1846.027184462899, 684.3613977757619, 797.8765131371213, 455.3266058817829, 346.185339415249, 320.67537908032256, 318.85661076291075, 3551.668700766678, 74.67501538528187, 168.4790322106011, 56.48804686354942, 56.823878200296285, 53.74008761757267, 116.21743098796917, 36.78659635186002, 402.2079132264398, 277.51978819450255, 287.8888221982967, 61.632872944045985, 98.15807691707383, 148.50438004339418, 101.1768947257895, 230.11890104096102, 172.19641366973332, 155.59244085095145, 181.1763721022424, 348.53657785300857, 150.9876234623722, 352.4083909830216, 171.8036759998535, 197.87439496809597, 131.3684448054804, 139.9265739664145, 301.5902302035218, 301.9237893858037, 162.40487567317717, 231.9022096079211, 200.9992596609763, 164.15506450872877, 24.698811537574574, 19.425040608972534, 17.667126222636103, 15.909195049882063, 14.151282418426288, 12.393358856494222, 10.635425102587883, 10.6353857743352, 8.87750976029203, 7.998544842705272, 7.119589290112045, 7.119586448711425, 7.119586447780666, 7.119585349976126, 7.119578355260156, 7.119578353165833, 6.2406276500229145, 15.02522232509643, 5.361666010044192, 5.361665333238246, 5.36166311968809, 5.361663118961846, 5.361656822332983, 5.361654889461887, 5.361654887787206, 5.361645901603144, 5.361645127938118, 5.361624699579613, 4.482704369499681, 4.482704368266481, 17.667136572940574, 38.757166825414, 15.841329116087591, 21.184062432226774, 7.119559088419397, 20.74274415331156, 10.260907428016186, 18.47067282898695, 7.970995841471723, 55.433558224550815, 38.012350021336225, 16.447989754482467, 66.24929800865588, 64.73165217299542, 16.429193799508987, 76.8036024039491, 124.97215358238601, 94.8417301285374, 74.41539970265906, 14.52520656865774, 13.294177295500095, 363.91938939458043, 111.93775423971874, 60.60879774364948, 100.12004654893059, 95.9665233157438, 38.78328929355388, 36.09787254203692, 49.94250459242222, 46.90732639586087, 41.94117125152104, 121.63343411381754, 32.86988098735991, 36.59487913211915, 44.812356665111196, 38.87649254601928, 79.7566352046244, 36.19639918253759, 55.982427937367014, 35.49546751023542, 34.34438810359006, 39.101051566945735, 51.744691086235214, 36.55373683188895, 36.68866089576172, 42.28568332244299, 38.373545575371736, 39.473640012246996, 38.16475642411878, 47.049294960399486, 32.26485732017061, 27.899744246580124, 27.86523963084519, 45.30136444609094, 16.61075059331959, 44.12657578646062, 15.741043936700715, 26.168556741680806, 11.392712066410477, 11.392692171522077, 22.018357275976857, 11.356964259447153, 10.522973459919388, 29.225043270771707, 9.653364383218323, 9.653342596573564, 9.653336952619135, 36.60132299311586, 8.783691564691553, 8.783687076541849, 8.783665300978313, 8.783486047741661, 8.783378216995311, 7.914022532735311, 7.914000589493866, 15.161776984011016, 7.044349705769998, 7.04432021880252, 7.044311688657233, 58.87797314621625, 56.794929808630116, 22.047168733987515, 60.41383845010321, 29.415005557828906, 45.946118710405564, 114.41823911845205, 25.34479065327087, 108.01789447902894, 92.46427638148927, 55.123212536151314, 51.77659552130694, 26.698117277289324, 200.82212275576052, 36.89176650254691, 28.4744909620442, 28.91308266818898, 71.91123399653625, 54.40420927333418, 81.3981253277289, 51.54178384088478, 197.3895092499235, 221.88849262352593, 97.78225298986997, 94.6261507440802, 159.9844985778224, 85.37848266203633, 94.53682793429468, 94.20290710862086, 100.0187339767886, 43.580114039573914, 54.70503407340908, 61.22752790339247, 111.50237764926379, 127.46481136106861, 209.50282647245487, 78.07637542077244, 79.17684434513102, 94.12174417215192, 62.696554791528605, 91.4928604803222, 56.177053306416866, 8.808889308213818, 15.951232813034647, 7.221702045570944, 6.428108413171211, 6.42810055888952, 4.84092115028351, 42.13978654739505, 8.015295738648309, 4.047327519384725, 4.04732565159557, 3.253733888294783, 3.2537338882126376, 3.253733887950281, 3.2537338857133076, 3.253727563179929, 4.840914150806337, 2.460140257431514, 2.4601402573353517, 2.460140257296528, 2.460140257098812, 2.46014025692832, 2.4601402569168727, 2.4601402569186517, 2.460140256525699, 2.460139930164803, 2.460135078360593, 2.460131499175476, 2.4601314985038316, 2.4601305882326447, 2.4600994835925554, 72.66521767067758, 16.744825249526556, 4.047328545106121, 4.04691939978946, 16.902586712495776, 409.2813090028261, 233.95038795598225, 10.608181422253425, 5.634515624319213, 151.05530917664137, 3.253719850747174, 107.21565012836277, 91.6154727384873, 43.38304754383811, 16.53615719183044, 54.28500547637639, 24.787821104607392, 54.496950884634856, 18.93635452456799, 24.59095810695424, 59.1446978325813, 23.376472664404826, 36.25978866789963, 20.948684887389497, 49.35156392477508, 36.490602626879166, 34.65944872432577, 22.751058719118614, 39.91594220901091, 35.84482514433518, 27.638891835115054, 25.916431998723997, 31.408737703535127, 25.83317544054727, 26.63992552647587, 25.54630701269347, 25.169270980564548, 24.584858540619734, 23.203629857544115, 24.66973076774857, 23.409763939546846, 14.404191820837436, 12.812577079895723, 12.812568686602082, 7.241881384260209, 61.35721643475551, 6.446067545149919, 6.446067539940623, 6.446067537154947, 6.44606753669127, 5.650269488867918, 5.650269487638031, 5.650265807293085, 5.6502649896304415, 5.650253295129206, 5.650253293821106, 5.6502532854553955, 5.650253280565532, 5.650253280114371, 5.650253278444714, 5.650253277792457, 5.650253276146158, 4.854442770847757, 4.0586405429862165, 4.058639954169864, 4.058633188795361, 12.01677187787788, 8.037706157399409, 3.2628304692364956, 3.2628282632472243, 3.2628202707610607, 7.241879149858006, 60.315112476986144, 20.77073704897945, 9.629336263922195, 32.70790187331166, 7.9499833165337135, 60.96237652310378, 16.621562727557546, 45.06290743759963, 58.942208254079574, 9.61961118514314, 45.32173528321672, 68.77507322913146, 82.5569722268864, 9.623175742744156, 7.225850541915221, 34.443503144305915, 10.31862798719932, 58.90207629026879, 76.22158694046155, 79.54121186327285, 135.33976194037257, 26.167550182930956, 26.416492877605826, 12.6145758472872, 18.3198904478581, 114.93752801293608, 21.69479194224715, 25.353854622315147, 25.967209096368897, 28.957339784095954, 38.932390345372134, 27.185228332437717, 31.285079263588155, 39.04881470727249, 20.475496230553514, 29.62807948709448, 23.262852262869394, 22.565600581504377, 22.118464749779978, 149.49981255360657, 40.83077549705984, 33.63945406466883, 26.448103772967304, 25.649084618887613, 14.462568718859602, 13.663530412089026, 12.864494825212917, 12.86449185987053, 12.065457881086173, 12.065457879549367, 11.266420115246587, 8.869308721591903, 8.8693087205504, 33.63947601478686, 42.42812631569529, 8.070270144678911, 6.472199259593835, 11.266417770897435, 9.668343099934198, 11.266422285744259, 4.874125369536594, 4.874125367733239, 4.87412452200476, 4.87412452160456, 4.874122326059198, 4.874122280656389, 4.8741222803341495, 4.874122279590925, 4.87411439758931, 11.26642706187218, 10.467395854044923, 18.4577675956706, 54.41447395706906, 64.30136919814565, 8.869315236619855, 43.22456001815275, 12.065457825815164, 104.68615980009258, 32.0111332220172, 156.18988548082473, 41.623644478828105, 19.932192231987788, 29.544713418064916, 183.60684217560132, 46.05140924359468, 110.3885258316037, 51.99719183511109, 115.02919243942084, 25.16170206165253, 18.457776562000536, 19.696332769251683, 20.571639277323136, 91.04892166078515, 47.541410395127954, 35.91764414423565, 27.191520758134338, 33.63655311991915, 30.129260649420786, 65.65118072617499, 29.05964189095567, 24.68700945608921, 9.645249714661892, 9.006491460370594, 7.728973981180677, 5.812700164744272, 5.81270016393527, 5.8126991884379, 5.812699140623286, 5.812698799196755, 5.173941904437678, 15.394099492098853, 3.8964253844658376, 3.8964243850312696, 3.8964239851554763, 3.257667125413455, 3.2576671245230813, 3.2576671244700868, 3.2576671240851294, 3.2576661101819306, 3.2576661100660957, 3.2576547620033978, 7.090235876807382, 2.6189088659868434, 2.618908865610498, 2.6189088653428034, 2.6189088655891415, 2.6189088653078842, 2.6189088651244226, 2.6189088650329158, 2.618907827845113, 2.6189078275617907, 64.57848298166614, 4.5351850115651215, 4.535184417896215, 24.336685423291335, 10.284010074235411, 3.2576662951178323, 11.340937717251222, 4.535189943229225, 43.674423729621616, 39.79008377970078, 39.29931381415144, 10.92279667594092, 15.910332349054503, 11.426180166865233, 5.80796467321991, 18.53314068169699, 7.962228824346514, 9.551877984848234, 15.087808278175643, 8.377565426650282, 11.126870050564134, 12.939319809500338, 14.9881178176532, 9.107888422797714, 12.223859549786958, 18.07511493479675, 8.33484485876923, 9.653955642534518, 18.082037413086603, 7.966158757352061, 8.449197355370764, 7.957477384023617, 79.9401904131155, 55.00658547842622, 50.935792840427595, 22.948024921046322, 6.665922778173423, 23.963218714758924, 5.139375643168639, 4.630526457480377, 14.298666129003786, 2.595130131053077, 7.680421629486149, 2.086281048005105, 2.086281048026922, 1.5774320769096266, 1.577432076836562, 1.5774320765402072, 1.577432076508987, 1.577431961733017, 1.5774319616102823, 2.5951305925865333, 8.693030897228397, 2.59463582791681, 1.068582991810549, 1.0685829917136436, 1.0685829916755627, 1.0685829916402225, 1.0685829914343083, 1.0685829914030471, 1.068582991251115, 1.068582991061284, 21.823754968754123, 3.6083069116045023, 4.630531300116391, 4.614327747072042, 5.641209627343258, 3.028785392029087, 13.277630299300313, 3.609223351020353, 3.607864528870252, 2.979072326844622, 5.631230353926569, 6.633563987535811, 2.0862813401910443, 2.595130722746753, 11.888156810962867, 4.6150000308879715, 6.361300522106425, 5.7519252949192134, 5.911799528415912, 4.501268730124726, 8.76817675697209, 5.474892014155988, 4.372536034624283, 3.9320473303131767, 4.320917906193274, 4.242757309314804, 12.601217145307329, 9.275382460816148, 8.905845272094405, 4.101861834065622, 2.6237134377395046, 2.254176248593456, 2.2541758740021134, 1.1455646476251429, 1.145564246091923, 1.145564087173936, 1.145560984073041, 2.2541783459312343, 2.9706312586854917, 0.7760274161045164, 0.7760274156948219, 0.7760274156930947, 0.7760274155747168, 0.776027415554356, 0.7760274154715376, 0.776027415424338, 0.7760274154442344, 0.7760274151736705, 0.7760274151657686, 0.7760269843036138, 0.776026984138977, 0.7760268160599867, 0.7760268159064965, 0.7760268154401954, 0.7760268152384326, 0.7760268152007356, 17.405202468845395, 35.868014859685424, 1.5150998314745026, 18.822082889648755, 19.72529693047884, 1.8846375073396107, 18.89266573618855, 2.2541857750059777, 2.192724560845456, 1.1455643544566494, 7.607250589538968, 1.7147770107937375, 1.7190731794110015, 2.1664929679628893, 1.4304625283829604, 1.8211248528571293, 1.647718564417596, 2.466763143773064, 2.268262270431011, 1.485922833001059, 1.439033257034908, 1.4873670760645459], \"Term\": [\">\", \"face\", \"*\", \"nutella\", \"moi\", \"c\\u0153ur\", \"aller\", \"ajouter\", \"coup\", \"g\", \"p\\u00e2te\", \"castiel\", \"with\", \"billet\", \"sucre\", \"sasuke\", \"^^\", \"smiling\", \"recette\", \"eyes\", \"dire\", \"farine\", \"bon\", \"naruto\", \"four\", \"itachi\", \"beurre\", \"prendre\", \"chocolat\", \"\\u0153uf\", \"instablog\", \"\\u2716\\ufe0fc\", \"ravito\", \"empreinte\", \"oz\", \"officiel\", \"canc\\u00e9rig\\u00e8ne\", \"toile\", \"nowa\", \"min\\u00e9ral\", \"woody\", \"fashionblogger\", \"massage\", \"moh\", \"participate\", \"english\", \"y'avait\", \"excuser\", \"country\", \"singe\", \"araign\\u00e9e\", \"ministre\", \"doudou\", \"p\\u00eache\", \"inn\", \"oxyg\\u00e8ne\", \"calcul\", \"relou\", \"cascade\", \"pretty\", \"kitkat\", \"augmenter\", \"\\u00e9c\\u0153urer\", \"challenger\", \"favori\", \"convenir\", \"picofinstagram\", \"likeforlike\", \"aimer\", \"fearful\", \"instacook\", \"pr\\u00e9nom\", \"nutella\", \"s\", \"e\", \"gt\", \"appara\\u00eetre\", \"k\", \"huiledepalmenonmerci\", \"manger\", \"sain\", \"foodlover\", \"tartiner\", \"bon\", \"vanille\", \"ferrero\", \">\", \"petit\", \"anniversaire\", \"face\", \"chocolat\", \"go\\u00fbter\", \"cupcakes\", \"falloir\", \"food\", \"delicious\", \"tartine\", \"pot\", \"palme\", \"pain\", \"with\", \"vid\\u00e9o\", \"j'\", \"cr\\u00eape\", \"yummy\", \"huile\", \"chocolate\", \"smiling\", \"eyes\", \"dire\", \"aller\", \"savouring\", \"cake\", \"heart-shaped\", \"of\", \"jour\", \"joy\", \"tears\", \"sobremesa\", \"sportaddict\", \"squat\", \"\\u2800\\u2800\", \"sigam\", \"lovely\", \"cakelover\", \"instagramideia\", \"abonne\", \"mojito\", \"\\u30fc\", \"jvous\", \"house\", \"down-pointing\", \"hundred\", \"objectifbikini\", \"hummmm\", \"dancer\", \"crunch\", \"brut\", \"r\\u00e9viser\", \"postres\", \"artist\", \"jte\", \"pregnancy\", \"tutorial\", \"lipstick\", \"ana\\u00efs\", \"diyvideos\", \"tuesday\", \"tartinade\", \"run\", \"triangle\", \"emoji\", \"fitzpatrick\", \"modifier\", \"dessertgasm\", \"screaming\", \"fear\", \"type-1-2\", \"with\", \"face\", \"eyes\", \"smiling\", \"heart-shaped\", \"of\", \"joy\", \"tears\", \"nutella\", \"type-3\", \"sign\", \"ice\", \"up\", \"thumbs\", \"hand\", \"faitmaison\", \"food\", \"chocolate\", \"cr\\u00eape\", \"flexed\", \"in\", \"foodporn\", \"fitness\", \"delicious\", \"yummy\", \"bar\", \"savouring\", \"chocolat\", \"instafood\", \"manger\", \"journ\\u00e9e\", \"pot\", \"kiss\", \"gourmandise\", \"petit\", \"bon\", \"go\\u00fbter\", \"aller\", \">\", \"recette\", \"cuiller\\u00e9e\", \"kev\", \"guillemot\", \"irlandais\", \"pass\", \"londres\", \"irish\", \"potimarron\", \"incertain\", \"spice\", \"\\u00a3\", \"ys\", \"synopsis\", \"no\\u00e9\", \"guinness\", \"pel\\u00e9\", \"tesco\", \"london\", \"greenwich\", \"mus\\u00e9e\", \"gallimard\", \"qadehar\", \"echo\", \"whiskey\", \"bailey's\", \"persil\", \"romarin\", \"\\u25a0\", \"leicester\", \"piccadilly\", \"m\\u00e9tro\", \"\\u2606\", \"visite\", \"circle\", \"port\", \"\\u2714\\ufe0f\", \"cocotte\", \"large\", \"paul\", \"plat\", \"tu\", \"livraison\", \"err\", \"temps\", \"classique\", \"prendre\", \"aller\", \"dire\", \"jour\", \"sembler\", \"hacher\", \"nutella\", \"petit\", \"voir\", \"manger\", \"bon\", \"m\\u00eame\", \"salade\", \"et\", \"savoir\", \"dessert\", \"face\", \"partir\", \"\\u20ac\", \"maison\", \"autre\", \"with\", \"nouveau\", \"chocolat\", \"semaine\", \"grand\", \"matin\", \"smiling\", \"passer\", \"monde\", \"eyes\", \"falloir\", \">\", \"heart-shaped\", \"moi-\", \"matt-\", \"fariner\", \"cl\", \"pr\\u00e9chauffer\", \"piroulie\", \"refroidir\", \"d\\u00e9mouler\", \"enfourner\", \"teinte\", \"fouet\", \"homog\\u00e8ne\", \"r\\u00e9cipient\", \"sulfuris\\u00e9\", \"pinc\\u00e9e\", \"hakim-\", \"d\\u2019\\u0153ufs\", \"cuve\", \"clic\", \"julien-\", \"disque\", \"p\\u00e9trir\", \"ramollir\", \"rectangle\", \"reproduction\", \"ingredients\", \"cong\\u00e9lateur\", \"unpeudesucre\", \"pinceau\", \"badigeonner\", \"moule\", \"levure\", \"casserole\", \"verser\", \"obtenir\", \"saladier\", \"farine\", \"fouetter\", \"four\", \"m\\u00e9langer\", \"sel\", \"$\", \"feuille\", \"g\", \"jaune\", \"liquide\", \"ml\", \"\\u00b0\", \"cuire\", \"pr\\u00e9paration\", \"poudre\", \"p\\u00e2te\", \"*\", \"cr\\u00e8me\", \"\\u0153uf\", \"sucre\", \"minute\", \"laisser\", \"ajouter\", \"beurre\", \"m\\u00e9lange\", \"soupe\", \"poster\", \"recette\", \"chocolat\", \"nutella\", \"lait\", \"mettre\", \"petit\", \"cuill\\u00e8re\", \"face\", \"g\\u00e2teau\", \"sheikh\", \"\\u2206\", \"\\u062d\\u0641\\u0638\\u0647\", \"ta'ala\", \"\\u3030\", \"\\u0627\\u0643\\u0628\\u0631\", \"emmerder\", \"alg\\u00e9rie\", \"na'am\", \"blanche\", \"hijrah\", \"djazaiiri\", \"policier\", \"giornata\", \"chirurgie\", \"bretzel\", \"soif\", \"\\u0628\\u0627\\u0631\\u0643\", \"salafi\", \"\\u0627\\u0644\\u0644\\u0647\\u0645\", \"mashaykh\", \"convertir\", \"salafya\", \"ilm\", \"digital\", \"cal\", \"esth\\u00e9tique\", \"soutien-gorge\", \"cp\", \"ensoleill\\u00e9\", \"~\", \"\\u0627\\u0644\\u0644\\u0647\", \"alger\", \"alg\\u00e9rien\", \"fr\\u00e8re\", \"nutella\", \"face\", \"revolving\", \"science\", \"with\", \"forcement\", \"smiling\", \"eyes\", \"and\", \"gens\", \"heart-shaped\", \"mouth\", \"food\", \"motivation\", \"healthy\", \"bon\", \"open\", \"j'\", \"fitfam\", \"manger\", \"dire\", \"chocolate\", \"tongue\", \"petit\", \"aller\", \"falloir\", \"journ\\u00e9e\", \"chocolat\", \"aimer\", \"cr\\u00eape\", \"joy\", \"tears\", \"pot\", \"et\", \"of\", \"go\\u00fbter\", \"\\u25ab\\ufe0f\", \"salim\", \"7j\", \"dispos\", \"ricotta\", \"\\u27a1zone\", \"personnalisez\", \"\\u260e\\ufe0f77\", \"\\u260e\\ufe0f03\", \"\\u00e9va\", \"riant\", \"mam's\", \"trail\", \"06h00\", \"heaven\", \"americanyummies\", \"ivorycoast\", \"cotedivoire\", \"americansandwichabidjan\", \"abidjan\", \"wafflestick\", \"04h00\", \"l\\u2019h\\u00f4pital\", \"l\\u2019h\\u00f4tel\", \"\\u2800\\u2800\\u2800\\u2800\\u2800\\u2800\\u2800\\u2800\\u2800\\u2800\\u2800\\u2800\\u2800\\u2800\\u2800\\u2800\\u2800\\u2800\\u2800\\u2800\\u2800\\u2800\\u2800\\u2800\\u2800\\u2800\\u2800\\u2800\\u2800\\u2800\", \"j\\u2019utilise\", \"charrier\", \"\\u00e9cru\", \"brocciu\", \"g4\", \"jusqu'\", \"juin\", \"slightly\", \"l\\u2019air\", \"matt\", \"djibril\", \"\\u00e9crire\", \"post\\u00e9\", \"loudly\", \"merci\", \"j\\u2019adore\", \"crying\", \"moi\", \"*\", \"j\\u2019aime\", \"anne\", \"bonjour\", \"poireau\", \"recette\", \"aller\", \"bon\", \"face\", \"poster\", \"super\", \"f\", \"id\\u00e9e\", \"nutella\", \"c\\u2019est\", \"dimanche\", \"venir\", \"prendre\", \"petit\", \"matin\", \"dire\", \"smiling\", \"partir\", \"manger\", \"et\", \"savoir\", \"journ\\u00e9e\", \"castiel\", \"rosa\", \"-moi\", \"\\u2605\", \"-kassim\", \"\\u2192_\\u2192\", \"-ambre\", \"iris\", \"\\u272f\", \"alexy\", \"lysandre\", \"naoparis\", \"kassim\", \"-hakim\", \"kim\", \"ambre\", \"\\u25ac\\u25ac\\u25ac\\u25ac\\u25ac\\u25ac\\u25ac\\u25ac\\u25ac\\u25ac\\u25ac\\u25ac\\u25ac\\u25ac\\u25ac\\u25ac\\u25ac\\u25ac\\u25ac\", \"soupir\", \"maths\", \"soupirer\", \"tabasco\", \"\\u03b8_\\u03b8\", \"roo\", \"\\u3010rue\", \"\\u3010made\", \"utc\", \"70cl\", \"standard\", \"-------\", \"pannini\", \"posted\", \"francais\", \"angel\", \"prof\", \"_\", \"roser\", \"nn\", \"messages\", \"^^\", \"vs\", \"moi\", \"<\", \"asseoir\", \"unamused\", \">\", \"regarder\", \"*\", \"\\u20ac\", \"aller\", \"lever\", \"xd\", \"ds\", \"cour\", \"face\", \"dire\", \"voir\", \"ca\", \"j'\", \"err\", \"nutella\", \"prendre\", \"sortir\", \"wa\", \"savant\", \"pal\\u00e9olithique\", \"qu\\u2019allah\", \"\\u060c\", \"j\\u00e9r\\u00e9my\", \"beautiful-wildlife\", \"miseiscoppiatodentroilcuore\", \"verset\", \"pal\\u00e9o\", \"bovin\", \"j\\u00f6nsson\", \"lucemorta\", \"\\u2018aleykoum\", \"e471\", \"barakatouh\", \"proph\\u00e8te\", \"l\\u2019alimentation\", \"pr\\u00e9historique\", \"timoth\\u00e9e\", \"coran\", \"d\\u2019alcool\", \"salem\", \"rahmatoullah\", \"a3lem\", \"zinayda\", \"unilever\", \"ola\", \"seignalet\", \"d\\u2019alimentation\", \"billet\", \"alaykoum\", \"cran\", \"reblogu\\u00e9\", \"salam\", \"ratio\", \"allah\", \"additif\", \"ajouter\", \"coup\", \"c\\u0153ur\", \"porc\", \"min\", \"interdire\", \"scientifique\", \"r\\u00e9gime\", \"\\u25cf\", \"juillet\", \"produit\", \"aliment\", \"question\", \"j\\u2019ai\", \"heure\", \"contenir\", \"c\\u2019est\", \"dire\", \"service\", \"glace\", \"nutella\", \"grand\", \"manger\", \"penser\", \"sasuke\", \"naruto\", \"itachi\", \"umbrella\", \"staff\", \"\\u2614\", \"manda\", \"ogame\", \"mod\\u00e9rateur\", \"formateur\", \"communaut\\u00e9\", \"t\\u00e9moignages\", \"relationnel\", \"enlacer\", \"chatouille\", \"serre\", \"mander\", \"totote\", \"management\", \"investir\", \"t\\u00e9moignage\", \"admin\", \"g\\u00e9mir\", \"bestiole\", \"c\\u00e2liner\", \"miauler\", \"hausser\", \"fr\\u00e9mir\", \"enfouir\", \"pince\", \"closed\", \"r\\u00f4le\", \"forum\", \"mod\\u00e9ration\", \"poste\", \"clip\", \"sourire\", \"genou\", \"exp\\u00e9rience\", \"ft\", \"rire\", \"regarder\", \"fonction\", \"caresser\", \"aller\", \"\\u0153il\", \"voir\", \"temps\", \"prendre\", \"demander\", \"nutella\", \"j'\", \"autre\", \"c\\u00f4t\\u00e9\", \"petit\", \"face\", \"tyler\", \"ryan\", \"-rire-\", \"-sourire-\", \"jaidefinichongg\", \"deadmutation\", \"corp\", \"invasormental\", \"-bouille-\", \"jehanjetaime\", \"amapura\", \"collier\", \"morgane\", \"viridianabo\", \"a-robot-under-the-rain\", \"imdead-wannahook-up\", \"inucestlover\", \"jajajajajajajajaajajajajajajaja\", \"icatnightmare\", \"la-papa-viviente\", \"naruchigotsu\", \"barbie\", \"gugulcl\", \"-sourire\", \"pervers-\", \"speedymomentum\", \"babychou\", \"g35\", \"effervecent\", \"30cl\", \"reblogu\\u00e9\", \"billet\", \"cook'in\", \"coup\", \"ajouter\", \"\\u00e3\", \"c\\u0153ur\", \"princess\", \"crown\", \"cou\", \"moi\", \"gueule\", \"rigoler\", \"arrow\", \"accepter\", \"dormir\", \"magnifique\", \"il\", \"aller\", \"<\", \"m\", \"d\\u00e9jeuner\"], \"loglift\": [30.0, 29.0, 28.0, 27.0, 26.0, 25.0, 24.0, 23.0, 22.0, 21.0, 20.0, 19.0, 18.0, 17.0, 16.0, 15.0, 14.0, 13.0, 12.0, 11.0, 10.0, 9.0, 8.0, 7.0, 6.0, 5.0, 4.0, 3.0, 2.0, 1.0, 1.1599, 1.1497, 1.1245, 1.1244, 1.1244, 1.1158, 1.1158, 1.1102, 1.1048, 1.1048, 1.1048, 1.0965, 1.0905, 1.0905, 1.0905, 1.0905, 1.0905, 1.0905, 1.0905, 1.0905, 1.0905, 1.0905, 1.0902, 1.0745, 1.0708, 1.0708, 1.0708, 1.0708, 1.0708, 1.0708, 1.0669, 1.0582, 1.0636, 1.0633, 1.0489, 1.0431, 1.0008, 0.9206, 0.7268, 0.9742, 0.9545, 0.9673, 0.3102, 0.7747, 0.7443, 0.8119, 1.0199, 0.8853, 0.9596, 0.3898, 0.8905, 0.8253, 0.5632, 0.2908, 0.5579, 0.685, 0.3311, 0.2644, 0.6212, -0.0348, 0.2223, 0.3747, 0.517, 0.3346, 0.2067, 0.3043, 0.4159, 0.3017, 0.5004, 0.3429, -0.0605, 0.6454, 0.2924, 0.197, 0.3134, 0.3897, 0.1601, -0.1509, -0.1111, 0.118, -0.061, 0.2486, 0.348, -0.1617, -0.0144, 0.1613, -0.0244, -0.024, 1.1511, 1.151, 1.1508, 1.1454, 1.1454, 1.145, 1.1399, 1.1385, 1.1299, 1.1294, 1.1191, 1.119, 1.1187, 1.1168, 1.1156, 1.113, 1.1049, 1.1049, 1.1049, 1.1049, 1.1049, 1.1049, 1.104, 1.1039, 1.1036, 1.1003, 1.0985, 1.0984, 1.0965, 1.0855, 1.0842, 1.0574, 1.0598, 0.9061, 0.8895, 0.876, 1.0508, 0.9043, 0.9043, 0.8809, 0.6433, 0.5517, 0.6577, 0.6378, 0.6848, 0.7083, 0.7157, 0.7154, 0.3907, 0.8622, 0.7369, 0.8907, 0.8859, 0.8778, 0.729, 0.9243, 0.4844, 0.5046, 0.4606, 0.7884, 0.6858, 0.5779, 0.6665, 0.441, 0.5003, 0.5236, 0.4552, 0.2227, 0.5106, 0.1268, 0.4164, 0.3018, 0.534, 0.4864, 0.0138, -0.028, 0.355, -0.114, -0.141, 0.0688, 2.2444, 2.2372, 2.2339, 2.2299, 2.2248, 2.2184, 2.21, 2.21, 2.1983, 2.1906, 2.1811, 2.1811, 2.1811, 2.1811, 2.1811, 2.1811, 2.169, 2.1676, 2.1532, 2.1532, 2.1532, 2.1532, 2.1532, 2.1532, 2.1532, 2.1532, 2.1532, 2.1532, 2.1316, 2.1316, 2.1155, 2.097, 1.9988, 1.8776, 2.0841, 1.788, 1.9774, 1.7224, 2.001, 1.2458, 1.3429, 1.6588, 0.8696, 0.8455, 1.6097, 0.6623, 0.3286, 0.4438, 0.5938, 1.6577, 1.7142, -0.8268, 0.0834, 0.4424, -0.0708, -0.1134, 0.7569, 0.7842, 0.4065, 0.4478, 0.5172, -1.1073, 0.831, 0.6115, 0.2437, 0.4678, -1.0528, 0.5465, -0.5452, 0.5419, 0.617, 0.1539, -1.037, 0.3329, 0.2704, -1.0655, -0.2034, -0.7079, -0.7335, 2.4418, 2.4354, 2.4316, 2.4305, 2.4239, 2.4163, 2.4144, 2.4142, 2.4011, 2.3987, 2.3987, 2.3961, 2.3952, 2.3941, 2.3902, 2.3887, 2.3887, 2.3887, 2.3871, 2.3823, 2.3823, 2.3823, 2.3822, 2.3822, 2.3745, 2.3745, 2.3729, 2.3649, 2.3649, 2.3649, 2.3608, 2.353, 2.3605, 2.3388, 2.3483, 2.3299, 2.2589, 2.3268, 2.2371, 2.2274, 2.2628, 2.2654, 2.3106, 2.0607, 2.2454, 2.2695, 2.2664, 2.0983, 2.1394, 2.0166, 2.1073, 1.6402, 1.5258, 1.7818, 1.7737, 1.5195, 1.7813, 1.7205, 1.6419, 1.471, 2.0829, 1.8748, 1.7292, 0.9276, 0.4624, -1.1942, 1.0077, 0.9012, 0.0949, 1.1848, -1.2073, 0.8139, 2.719, 2.7049, 2.7034, 2.6928, 2.6928, 2.6619, 2.6597, 2.641, 2.6381, 2.6381, 2.6036, 2.6036, 2.6036, 2.6036, 2.6036, 2.5971, 2.5493, 2.5493, 2.5493, 2.5493, 2.5493, 2.5493, 2.5493, 2.5493, 2.5493, 2.5493, 2.5493, 2.5493, 2.5493, 2.5493, 2.4263, 2.4412, 2.4525, 2.4524, 1.929, -0.1872, 0.0689, 1.7589, 2.0845, 0.108, 2.3845, 0.2136, 0.2298, 0.7016, 1.3296, 0.1409, 0.8146, 0.0684, 1.0313, 0.781, -0.0753, 0.7745, 0.3515, 0.8644, -0.2561, 0.0108, 0.0072, 0.5871, -0.4256, -0.3982, -0.0094, 0.1079, -0.601, -0.1982, -0.3367, -0.2314, -0.2408, -0.2008, 0.1621, -0.3502, 0.001, 2.8671, 2.8615, 2.8615, 2.8235, 2.8185, 2.8129, 2.8129, 2.8129, 2.8129, 2.7996, 2.7996, 2.7996, 2.7996, 2.7996, 2.7996, 2.7996, 2.7996, 2.7996, 2.7996, 2.7996, 2.7996, 2.7821, 2.7583, 2.7583, 2.7583, 2.7459, 2.7359, 2.724, 2.724, 2.724, 2.7183, 2.6831, 2.6423, 2.6736, 2.5081, 2.6173, 2.16, 2.3819, 1.6349, 1.4445, 2.4846, 1.5304, 1.1498, 0.9942, 2.4197, 2.6111, 1.3803, 2.3209, 0.7466, 0.4761, 0.3408, -0.3586, 1.3363, 1.274, 2.0627, 1.4443, -1.3374, 1.1522, 0.9063, 0.565, 0.3289, -0.3307, 0.4324, -0.0233, -0.6766, 0.9997, -0.6465, 0.2845, 0.358, 0.0692, 2.937, 2.9251, 2.9216, 2.9162, 2.9154, 2.8957, 2.893, 2.8901, 2.8901, 2.8868, 2.8868, 2.883, 2.8678, 2.8678, 2.8663, 2.8644, 2.8607, 2.8418, 2.8309, 2.8257, 2.8187, 2.8111, 2.8111, 2.8111, 2.8111, 2.8111, 2.8111, 2.8111, 2.8111, 2.8111, 2.8054, 2.7958, 2.7715, 2.726, 2.7169, 2.7877, 2.7036, 2.7635, 2.5155, 2.5374, 1.9984, 2.3693, 2.5603, 2.3896, 1.4997, 1.9411, 1.3131, 1.6331, 0.9161, 1.9517, 2.2279, 2.1245, 2.0503, -0.7266, 0.4235, 0.5896, 1.068, 0.4247, 0.752, -1.869, 0.3608, 0.7107, 3.7357, 3.731, 3.7192, 3.6924, 3.6924, 3.6924, 3.6924, 3.6924, 3.6792, 3.662, 3.6411, 3.6411, 3.6411, 3.6119, 3.6119, 3.6119, 3.6119, 3.6119, 3.6119, 3.6119, 3.5938, 3.5699, 3.5699, 3.5699, 3.5699, 3.5699, 3.5699, 3.5699, 3.5699, 3.5699, 3.2994, 3.5211, 3.5089, 3.2502, 3.3786, 3.5225, 3.128, 3.4049, 2.2225, 2.2443, 2.1033, 2.7944, 2.5149, 2.6194, 3.1565, 2.1999, 2.8553, 2.5301, 1.9558, 2.6263, 2.1145, 1.7761, 1.3829, 2.1658, 1.4707, 0.3203, 2.1283, 1.1742, -2.2947, 0.6899, -1.009, 0.5738, 4.3276, 4.3236, 4.3226, 4.3059, 4.2354, 4.2079, 4.2073, 4.194, 4.1875, 4.095, 4.0728, 4.0441, 4.0441, 3.9655, 3.9655, 3.9655, 3.9655, 3.9655, 3.9655, 3.8792, 3.8613, 3.8362, 3.8278, 3.8278, 3.8278, 3.8278, 3.8278, 3.8278, 3.8278, 3.8278, 3.3901, 3.6402, 3.5789, 3.5689, 3.499, 3.5268, 2.9842, 3.3637, 3.1168, 3.2551, 2.2198, 1.3983, 3.4573, 3.0183, 0.0412, 1.8162, 0.2534, 0.4899, 0.1632, 1.153, -2.4874, 0.004, 0.348, 1.2454, -1.1059, -2.3979, 4.8599, 4.8407, 4.8377, 4.7535, 4.6725, 4.6377, 4.6377, 4.4268, 4.4268, 4.4268, 4.4268, 4.3544, 4.2657, 4.2577, 4.2577, 4.2577, 4.2577, 4.2577, 4.2577, 4.2577, 4.2577, 4.2577, 4.2577, 4.2577, 4.2577, 4.2577, 4.2577, 4.2577, 4.2577, 4.2577, 4.0253, 3.8216, 4.1642, 2.606, 2.538, 3.7932, 2.4812, 3.3211, 3.1683, 3.7557, 0.9506, 2.5423, 2.3714, 1.6011, 2.5506, 1.7895, 2.0702, 0.7642, -1.036, 1.0108, 1.0016, 0.0337]}};\n",
       "\n",
       "function LDAvis_load_lib(url, callback){\n",
       "  var s = document.createElement('script');\n",
       "  s.src = url;\n",
       "  s.async = true;\n",
       "  s.onreadystatechange = s.onload = callback;\n",
       "  s.onerror = function(){console.warn(\"failed to load library \" + url);};\n",
       "  document.getElementsByTagName(\"head\")[0].appendChild(s);\n",
       "}\n",
       "\n",
       "if(typeof(LDAvis) !== \"undefined\"){\n",
       "   // already loaded: just create the visualization\n",
       "   !function(LDAvis){\n",
       "       new LDAvis(\"#\" + \"ldavis_el52691405823627922488984059668\", ldavis_el52691405823627922488984059668_data);\n",
       "   }(LDAvis);\n",
       "}else if(typeof define === \"function\" && define.amd){\n",
       "   // require.js is available: use it to load d3/LDAvis\n",
       "   require.config({paths: {d3: \"https://cdnjs.cloudflare.com/ajax/libs/d3/3.5.5/d3.min\"}});\n",
       "   require([\"d3\"], function(d3){\n",
       "      window.d3 = d3;\n",
       "      LDAvis_load_lib(\"https://cdn.rawgit.com/bmabey/pyLDAvis/files/ldavis.v1.0.0.js\", function(){\n",
       "        new LDAvis(\"#\" + \"ldavis_el52691405823627922488984059668\", ldavis_el52691405823627922488984059668_data);\n",
       "      });\n",
       "    });\n",
       "}else{\n",
       "    // require.js not available: dynamically load d3 & LDAvis\n",
       "    LDAvis_load_lib(\"https://cdnjs.cloudflare.com/ajax/libs/d3/3.5.5/d3.min.js\", function(){\n",
       "         LDAvis_load_lib(\"https://cdn.rawgit.com/bmabey/pyLDAvis/files/ldavis.v1.0.0.js\", function(){\n",
       "                 new LDAvis(\"#\" + \"ldavis_el52691405823627922488984059668\", ldavis_el52691405823627922488984059668_data);\n",
       "            })\n",
       "         });\n",
       "}\n",
       "</script>"
      ],
      "text/plain": [
       "<IPython.core.display.HTML object>"
      ]
     },
     "execution_count": 7,
     "metadata": {},
     "output_type": "execute_result"
    }
   ],
   "source": [
    "model.display_results()"
   ]
  },
  {
   "cell_type": "markdown",
   "metadata": {},
   "source": [
    "# 2 - Interpretation of the results"
   ]
  },
  {
   "cell_type": "markdown",
   "metadata": {},
   "source": [
    "## 2.1 - How to interpret the results"
   ]
  },
  {
   "cell_type": "markdown",
   "metadata": {},
   "source": [
    "The above figure represents the ten most important topics. The larger the circle, the more important the related topic is. With LDA algorithm, topics are not labelled, main themes of topics can be uncovered by clicking on their associated circles and taking a look at recurrent terms.\n",
    "\n",
    "For instance, the first circle represents the most important topic. Important keywords of the topic are 'nutella','manger' etc.\n",
    "\n",
    "\n",
    "Topics are represented on a map, the closer they are in distance, the closer they are in meaning.\n",
    "\n",
    "\n",
    "We can observe three important areas:\n",
    "    \n",
    "    - Area 1: the lower-right part: high density, consisting of topics 1, 2, 3, 5, 6\n",
    "    - Area 2: the upper-right part: low density, consisting of only one topic (topic 4)\n",
    "    - Area 3: the lower-left part: low density, very scattered, topics 7, 8, 9, 10\n",
    "\n"
   ]
  },
  {
   "cell_type": "markdown",
   "metadata": {},
   "source": [
    "## 2.2 - Walking through the three areas"
   ]
  },
  {
   "cell_type": "markdown",
   "metadata": {},
   "source": [
    "### 2.2.1 - Area 1"
   ]
  },
  {
   "cell_type": "markdown",
   "metadata": {},
   "source": [
    "Topics 1 and 2 are very close and thus similar. If we take a look at their keywords, they are also very close.\n",
    "Topics 1 and 2 deal with the product Nutella (keyword 'nutella') being a delicious (keywords 'yummy', 'delicious', 'savouring', 'aimer' + positive emojis) spreadable paste (keywords 'tartine', 'pain', 'crepe', 'pot'). Apparently, it is associated with after-school snack (keywords 'gouter', 'crepe')\n",
    "\n",
    "Topics 3, 5, 6 deals with the same notions, but topic 3 is more about taking some time (keyword 'temps') in the morning for breakfast (keyword 'matin').\n",
    "\n",
    "\n",
    "To sum up, the topics of this area are mostly about Nutella as a spreadable paste, that you can use at breakfast or for an after-school snack. It also should be noticed that it concerns 80% of the posts."
   ]
  },
  {
   "cell_type": "markdown",
   "metadata": {},
   "source": [
    "### 2.2.2 - Area 2"
   ]
  },
  {
   "cell_type": "markdown",
   "metadata": {},
   "source": [
    "Topic 4 is very different (because far from other topics on the map). Topic 4 is mostly about Nutella as an ingredient to bake cakes (other ingredients such as 'farine' and 'oeuf' are recurrent, and verbs concerning baking as well 'melanger', 'ajouter').\n",
    "\n",
    "Topic 4 represents almost 10% of the posts."
   ]
  },
  {
   "cell_type": "markdown",
   "metadata": {},
   "source": [
    "### 2.2.3 - Area 3"
   ]
  },
  {
   "cell_type": "markdown",
   "metadata": {},
   "source": [
    "Topics 7, 8, 9, 10 are very difficult to interpret and concerns less than 5% of posts each"
   ]
  },
  {
   "cell_type": "markdown",
   "metadata": {},
   "source": [
    "## 2.3 - Conclusion"
   ]
  },
  {
   "cell_type": "markdown",
   "metadata": {},
   "source": [
    "When French-consumers express themselves about Nutella, they are mostly positive about the brand, qualifying it as a 'delicious spreadable chocolate-flavoured paste' (80% of the posts). In 10% of the posts, they share recipes using Nutella as an ingredient.\n",
    "\n",
    "It is also interesting to note that the nutritional facts about the product or its enviromnmental impact are hardly mentioned in the posts."
   ]
  }
 ],
 "metadata": {
  "kernelspec": {
   "display_name": "Python 3",
   "language": "python",
   "name": "python3"
  },
  "language_info": {
   "codemirror_mode": {
    "name": "ipython",
    "version": 3
   },
   "file_extension": ".py",
   "mimetype": "text/x-python",
   "name": "python",
   "nbconvert_exporter": "python",
   "pygments_lexer": "ipython3",
   "version": "3.5.2"
  }
 },
 "nbformat": 4,
 "nbformat_minor": 2
}
